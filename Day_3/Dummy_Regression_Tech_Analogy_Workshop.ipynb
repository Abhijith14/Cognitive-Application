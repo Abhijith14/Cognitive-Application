{
  "nbformat": 4,
  "nbformat_minor": 0,
  "metadata": {
    "colab": {
      "name": "Dummy Regression :: Tech Analogy Workshop",
      "provenance": [],
      "collapsed_sections": []
    },
    "kernelspec": {
      "name": "python3",
      "display_name": "Python 3"
    },
    "language_info": {
      "name": "python"
    }
  },
  "cells": [
    {
      "cell_type": "code",
      "metadata": {
        "id": "mgATGUie-fqt"
      },
      "source": [
        "# Import Relevant libraries\n",
        "import tensorflow as tf\n",
        "import numpy as np\n",
        "import matplotlib.pyplot as plt"
      ],
      "execution_count": null,
      "outputs": []
    },
    {
      "cell_type": "code",
      "metadata": {
        "colab": {
          "base_uri": "https://localhost:8080/",
          "height": 281
        },
        "id": "ymzTPcwE-v-B",
        "outputId": "a6b0b2e2-23c8-4925-905a-0f15be5b1405"
      },
      "source": [
        "# Learning rate\n",
        "learning_rate = 0.01\n",
        "\n",
        "# Number of loops for training through all your data to update the parameters\n",
        "training_epochs = 100\n",
        "\n",
        "# the training dataset\n",
        "x_train = np.linspace(0, 10, 100)\n",
        "y_train = x_train + np.random.normal(0,1,100)\n",
        "\n",
        "# plot of data\n",
        "plt.scatter(x_train, y_train)"
      ],
      "execution_count": null,
      "outputs": [
        {
          "output_type": "execute_result",
          "data": {
            "text/plain": [
              "<matplotlib.collections.PathCollection at 0x7f065f874c10>"
            ]
          },
          "metadata": {
            "tags": []
          },
          "execution_count": 2
        },
        {
          "output_type": "display_data",
          "data": {
            "image/png": "[encoded data removed]",
            "text/plain": [
              "<Figure size 432x288 with 1 Axes>"
            ]
          },
          "metadata": {
            "tags": [],
            "needs_background": "light"
          }
        }
      ]
    },
    {
      "cell_type": "code",
      "metadata": {
        "id": "CN5s4THE-zQ3"
      },
      "source": [
        "# declare weights\n",
        "weight = tf.Variable(0.)\n",
        "bias = tf.Variable(0.)"
      ],
      "execution_count": null,
      "outputs": []
    },
    {
      "cell_type": "code",
      "metadata": {
        "id": "3GQzygvl-1kW"
      },
      "source": [
        "# Define linear regression expression y\n",
        "def linreg(x):\n",
        "    y = weight*x + bias\n",
        "    return y"
      ],
      "execution_count": null,
      "outputs": []
    },
    {
      "cell_type": "code",
      "metadata": {
        "id": "Ijb8xi8c-3m7"
      },
      "source": [
        "# Define loss function (MSE)\n",
        "def squared_error(y_pred, y_true):\n",
        "    return tf.reduce_mean(tf.square(y_pred - y_true))"
      ],
      "execution_count": null,
      "outputs": []
    },
    {
      "cell_type": "code",
      "metadata": {
        "colab": {
          "base_uri": "https://localhost:8080/"
        },
        "id": "cufE-Us4--LN",
        "outputId": "919f4fad-3e26-4a25-9e41-edf1045be794"
      },
      "source": [
        "# train model\n",
        "for epoch in range(training_epochs):\n",
        "    # Compute loss within Gradient Tape context\n",
        "    with tf.GradientTape() as tape:\n",
        "        y_predicted = linreg(x_train)\n",
        "        loss = squared_error(y_predicted, y_train)\n",
        "\n",
        "        # Get gradients\n",
        "        gradients = tape.gradient(loss, [weight,bias])\n",
        "\n",
        "        # Adjust weights\n",
        "        weight.assign_sub(gradients[0]*learning_rate)\n",
        "        bias.assign_sub(gradients[1]*learning_rate)\n",
        "\n",
        "        # Print output\n",
        "        print(f\"Epoch count {epoch}: Loss value: {loss.numpy()}\")\n"
      ],
      "execution_count": null,
      "outputs": [
        {
          "output_type": "stream",
          "text": [
            "Epoch count 0: Loss value: 33.757957458496094\n",
            "Epoch count 1: Loss value: 4.372421741485596\n",
            "Epoch count 2: Loss value: 1.4578036069869995\n",
            "Epoch count 3: Loss value: 1.1686018705368042\n",
            "Epoch count 4: Loss value: 1.1397931575775146\n",
            "Epoch count 5: Loss value: 1.1368117332458496\n",
            "Epoch count 6: Loss value: 1.1363930702209473\n",
            "Epoch count 7: Loss value: 1.1362299919128418\n",
            "Epoch count 8: Loss value: 1.136093258857727\n",
            "Epoch count 9: Loss value: 1.135960578918457\n",
            "Epoch count 10: Loss value: 1.1358293294906616\n",
            "Epoch count 11: Loss value: 1.1356993913650513\n",
            "Epoch count 12: Loss value: 1.135570764541626\n",
            "Epoch count 13: Loss value: 1.1354433298110962\n",
            "Epoch count 14: Loss value: 1.135317325592041\n",
            "Epoch count 15: Loss value: 1.1351923942565918\n",
            "Epoch count 16: Loss value: 1.1350687742233276\n",
            "Epoch count 17: Loss value: 1.1349464654922485\n",
            "Epoch count 18: Loss value: 1.1348252296447754\n",
            "Epoch count 19: Loss value: 1.1347053050994873\n",
            "Epoch count 20: Loss value: 1.1345864534378052\n",
            "Epoch count 21: Loss value: 1.1344687938690186\n",
            "Epoch count 22: Loss value: 1.134352445602417\n",
            "Epoch count 23: Loss value: 1.1342371702194214\n",
            "Epoch count 24: Loss value: 1.1341228485107422\n",
            "Epoch count 25: Loss value: 1.1340099573135376\n",
            "Epoch count 26: Loss value: 1.1338980197906494\n",
            "Epoch count 27: Loss value: 1.1337872743606567\n",
            "Epoch count 28: Loss value: 1.1336774826049805\n",
            "Epoch count 29: Loss value: 1.1335688829421997\n",
            "Epoch count 30: Loss value: 1.133461356163025\n",
            "Epoch count 31: Loss value: 1.133354902267456\n",
            "Epoch count 32: Loss value: 1.1332495212554932\n",
            "Epoch count 33: Loss value: 1.1331452131271362\n",
            "Epoch count 34: Loss value: 1.1330417394638062\n",
            "Epoch count 35: Loss value: 1.1329395771026611\n",
            "Epoch count 36: Loss value: 1.1328381299972534\n",
            "Epoch count 37: Loss value: 1.1327378749847412\n",
            "Epoch count 38: Loss value: 1.1326385736465454\n",
            "Epoch count 39: Loss value: 1.132540225982666\n",
            "Epoch count 40: Loss value: 1.132442831993103\n",
            "Epoch count 41: Loss value: 1.1323466300964355\n",
            "Epoch count 42: Loss value: 1.1322510242462158\n",
            "Epoch count 43: Loss value: 1.1321566104888916\n",
            "Epoch count 44: Loss value: 1.1320630311965942\n",
            "Epoch count 45: Loss value: 1.1319704055786133\n",
            "Epoch count 46: Loss value: 1.1318787336349487\n",
            "Epoch count 47: Loss value: 1.131787896156311\n",
            "Epoch count 48: Loss value: 1.1316981315612793\n",
            "Epoch count 49: Loss value: 1.1316089630126953\n",
            "Epoch count 50: Loss value: 1.1315208673477173\n",
            "Epoch count 51: Loss value: 1.1314336061477661\n",
            "Epoch count 52: Loss value: 1.1313471794128418\n",
            "Epoch count 53: Loss value: 1.1312617063522339\n",
            "Epoch count 54: Loss value: 1.1311769485473633\n",
            "Epoch count 55: Loss value: 1.1310932636260986\n",
            "Epoch count 56: Loss value: 1.1310100555419922\n",
            "Epoch count 57: Loss value: 1.1309279203414917\n",
            "Epoch count 58: Loss value: 1.1308465003967285\n",
            "Epoch count 59: Loss value: 1.1307660341262817\n",
            "Epoch count 60: Loss value: 1.1306862831115723\n",
            "Epoch count 61: Loss value: 1.1306071281433105\n",
            "Epoch count 62: Loss value: 1.1305290460586548\n",
            "Epoch count 63: Loss value: 1.1304515600204468\n",
            "Epoch count 64: Loss value: 1.1303750276565552\n",
            "Epoch count 65: Loss value: 1.1302990913391113\n",
            "Epoch count 66: Loss value: 1.1302238702774048\n",
            "Epoch count 67: Loss value: 1.130149483680725\n",
            "Epoch count 68: Loss value: 1.1300758123397827\n",
            "Epoch count 69: Loss value: 1.1300028562545776\n",
            "Epoch count 70: Loss value: 1.1299306154251099\n",
            "Epoch count 71: Loss value: 1.1298590898513794\n",
            "Epoch count 72: Loss value: 1.1297881603240967\n",
            "Epoch count 73: Loss value: 1.12971830368042\n",
            "Epoch count 74: Loss value: 1.1296488046646118\n",
            "Epoch count 75: Loss value: 1.129580020904541\n",
            "Epoch count 76: Loss value: 1.129512071609497\n",
            "Epoch count 77: Loss value: 1.1294445991516113\n",
            "Epoch count 78: Loss value: 1.129378080368042\n",
            "Epoch count 79: Loss value: 1.1293120384216309\n",
            "Epoch count 80: Loss value: 1.1292465925216675\n",
            "Epoch count 81: Loss value: 1.1291818618774414\n",
            "Epoch count 82: Loss value: 1.129117727279663\n",
            "Epoch count 83: Loss value: 1.129054307937622\n",
            "Epoch count 84: Loss value: 1.1289914846420288\n",
            "Epoch count 85: Loss value: 1.1289292573928833\n",
            "Epoch count 86: Loss value: 1.128867745399475\n",
            "Epoch count 87: Loss value: 1.128806710243225\n",
            "Epoch count 88: Loss value: 1.1287463903427124\n",
            "Epoch count 89: Loss value: 1.1286866664886475\n",
            "Epoch count 90: Loss value: 1.1286273002624512\n",
            "Epoch count 91: Loss value: 1.1285687685012817\n",
            "Epoch count 92: Loss value: 1.1285107135772705\n",
            "Epoch count 93: Loss value: 1.128453254699707\n",
            "Epoch count 94: Loss value: 1.1283963918685913\n",
            "Epoch count 95: Loss value: 1.128340244293213\n",
            "Epoch count 96: Loss value: 1.1282843351364136\n",
            "Epoch count 97: Loss value: 1.1282292604446411\n",
            "Epoch count 98: Loss value: 1.1281745433807373\n",
            "Epoch count 99: Loss value: 1.1281203031539917\n"
          ],
          "name": "stdout"
        }
      ]
    },
    {
      "cell_type": "code",
      "metadata": {
        "colab": {
          "base_uri": "https://localhost:8080/"
        },
        "id": "MDM1oe2j_MI6",
        "outputId": "a27dfdcb-520e-4491-90ae-8772e34b739c"
      },
      "source": [
        "print(weight.numpy())\n",
        "print(bias.numpy())"
      ],
      "execution_count": null,
      "outputs": [
        {
          "output_type": "stream",
          "text": [
            "0.9791134\n",
            "0.05142529\n"
          ],
          "name": "stdout"
        }
      ]
    },
    {
      "cell_type": "code",
      "metadata": {
        "id": "pr-UElXG_ZjZ",
        "colab": {
          "base_uri": "https://localhost:8080/",
          "height": 265
        },
        "outputId": "cddd617a-fc08-419c-b9e2-dba58ddefd5e"
      },
      "source": [
        "# Plot the best fit line\n",
        "plt.scatter(x_train, y_train)\n",
        "plt.plot(x_train, linreg(x_train), 'r')\n",
        "plt.show()"
      ],
      "execution_count": null,
      "outputs": [
        {
          "output_type": "display_data",
          "data": {
            "image/png": "[encoded data removed]",
            "text/plain": [
              "<Figure size 432x288 with 1 Axes>"
            ]
          },
          "metadata": {
            "tags": [],
            "needs_background": "light"
          }
        }
      ]
    },
    {
      "cell_type": "code",
      "metadata": {
        "id": "oQb8T5yr_cey"
      },
      "source": [
        ""
      ],
      "execution_count": null,
      "outputs": []
    }
  ]
}