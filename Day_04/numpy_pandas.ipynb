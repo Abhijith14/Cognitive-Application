{
  "nbformat": 4,
  "nbformat_minor": 0,
  "metadata": {
    "colab": {
      "name": "numpy_pandas.ipynb",
      "provenance": []
    },
    "kernelspec": {
      "name": "python3",
      "display_name": "Python 3"
    },
    "language_info": {
      "name": "python"
    }
  },
  "cells": [
    {
      "cell_type": "markdown",
      "metadata": {
        "id": "jDVib8vIkQ3L"
      },
      "source": [
        "numpy"
      ]
    },
    {
      "cell_type": "code",
      "metadata": {
        "id": "oiGwIRnAkTjX",
        "colab": {
          "base_uri": "https://localhost:8080/"
        },
        "outputId": "c9be8d13-d6ce-4fe5-d4e3-69bd3ccf2159"
      },
      "source": [
        "import numpy as np\n",
        "# 1D array\n",
        "a = np.array([1, 2, 3])\n",
        "print(a)"
      ],
      "execution_count": 2,
      "outputs": [
        {
          "output_type": "stream",
          "text": [
            "[1 2 3]\n"
          ],
          "name": "stdout"
        }
      ]
    },
    {
      "cell_type": "code",
      "metadata": {
        "colab": {
          "base_uri": "https://localhost:8080/"
        },
        "id": "-ETXllwR5uEk",
        "outputId": "5d19d72b-fd43-42f4-fa8d-c1e51d7acde8"
      },
      "source": [
        "# 2D array\n",
        "b = np.array([[1, 2],\n",
        "              [3, 4]])\n",
        "print(b)\n"
      ],
      "execution_count": 3,
      "outputs": [
        {
          "output_type": "stream",
          "text": [
            "[[1 2]\n",
            " [3 4]]\n"
          ],
          "name": "stdout"
        }
      ]
    },
    {
      "cell_type": "code",
      "metadata": {
        "colab": {
          "base_uri": "https://localhost:8080/"
        },
        "id": "Ewtin4M95uHo",
        "outputId": "06b3098d-6167-4d4a-f58e-c1380f0beb57"
      },
      "source": [
        "# 3D array\n",
        "c = np.array([[[1, 2], [3, 4]],\n",
        "              [[5, 6], [7, 8]]])\n",
        "print(c)\n"
      ],
      "execution_count": 4,
      "outputs": [
        {
          "output_type": "stream",
          "text": [
            "[[[1 2]\n",
            "  [3 4]]\n",
            "\n",
            " [[5 6]\n",
            "  [7 8]]]\n"
          ],
          "name": "stdout"
        }
      ]
    },
    {
      "cell_type": "code",
      "metadata": {
        "id": "1VD95Bedkaqw",
        "colab": {
          "base_uri": "https://localhost:8080/"
        },
        "outputId": "60004fc2-9ecc-4a92-9474-b4a781239bcc"
      },
      "source": [
        "import numpy as np\n",
        "a = np.array([[1, 0, 0],\n",
        "              [1, 1, 1],\n",
        "              [2, 0, 0]])\n",
        "b = np.array([[1, 1, 1],\n",
        "              [1, 1, 2],\n",
        "              [1, 1, 2]])\n",
        "print(a + b)"
      ],
      "execution_count": 6,
      "outputs": [
        {
          "output_type": "stream",
          "text": [
            "[[2 1 1]\n",
            " [2 2 3]\n",
            " [3 1 2]]\n"
          ],
          "name": "stdout"
        }
      ]
    },
    {
      "cell_type": "code",
      "metadata": {
        "colab": {
          "base_uri": "https://localhost:8080/"
        },
        "id": "t1X47Tc652o4",
        "outputId": "1ad8e68d-db4f-4e44-e4ff-81c31db06caa"
      },
      "source": [
        "print(a - b)"
      ],
      "execution_count": 7,
      "outputs": [
        {
          "output_type": "stream",
          "text": [
            "[[ 0 -1 -1]\n",
            " [ 0  0 -1]\n",
            " [ 1 -1 -2]]\n"
          ],
          "name": "stdout"
        }
      ]
    },
    {
      "cell_type": "code",
      "metadata": {
        "colab": {
          "base_uri": "https://localhost:8080/"
        },
        "id": "tpAfhSNn52wd",
        "outputId": "df0d9801-3876-4058-9490-6262d95c8aaf"
      },
      "source": [
        "print(a * b)"
      ],
      "execution_count": 8,
      "outputs": [
        {
          "output_type": "stream",
          "text": [
            "[[1 0 0]\n",
            " [1 1 2]\n",
            " [2 0 0]]\n"
          ],
          "name": "stdout"
        }
      ]
    },
    {
      "cell_type": "code",
      "metadata": {
        "colab": {
          "base_uri": "https://localhost:8080/"
        },
        "id": "jtf1vhuE5225",
        "outputId": "e1ae5d70-87fa-493f-de9e-8a95d3004b70"
      },
      "source": [
        "print(a / b)"
      ],
      "execution_count": 9,
      "outputs": [
        {
          "output_type": "stream",
          "text": [
            "[[1.  0.  0. ]\n",
            " [1.  1.  0.5]\n",
            " [2.  0.  0. ]]\n"
          ],
          "name": "stdout"
        }
      ]
    },
    {
      "cell_type": "code",
      "metadata": {
        "id": "rnbDczDGkawE",
        "colab": {
          "base_uri": "https://localhost:8080/"
        },
        "outputId": "59805f6d-ae4b-4fa0-ee5d-9c563c248c6f"
      },
      "source": [
        "import numpy as np\n",
        "a = np.array([[1, 0, 0],\n",
        "              [1, 1, 1],\n",
        "              [2, 0, 0]])\n",
        "print(np.max(a))"
      ],
      "execution_count": 10,
      "outputs": [
        {
          "output_type": "stream",
          "text": [
            "2\n"
          ],
          "name": "stdout"
        }
      ]
    },
    {
      "cell_type": "code",
      "metadata": {
        "id": "ODQLsqdpkayw",
        "colab": {
          "base_uri": "https://localhost:8080/"
        },
        "outputId": "dee25fc2-1cea-4d3b-b35f-147651afaa16"
      },
      "source": [
        "print(np.min(a))"
      ],
      "execution_count": 11,
      "outputs": [
        {
          "output_type": "stream",
          "text": [
            "0\n"
          ],
          "name": "stdout"
        }
      ]
    },
    {
      "cell_type": "code",
      "metadata": {
        "id": "roF3-jh8ka1S",
        "colab": {
          "base_uri": "https://localhost:8080/"
        },
        "outputId": "7b78a251-3c4e-48bd-bf4d-ca44703d0e57"
      },
      "source": [
        "print(np.average(a))"
      ],
      "execution_count": 12,
      "outputs": [
        {
          "output_type": "stream",
          "text": [
            "0.6666666666666666\n"
          ],
          "name": "stdout"
        }
      ]
    },
    {
      "cell_type": "markdown",
      "metadata": {
        "id": "QPMU8g4788tm"
      },
      "source": [
        "pandas"
      ]
    },
    {
      "cell_type": "code",
      "metadata": {
        "id": "is8c3f83ka30"
      },
      "source": [
        "import pandas as pd"
      ],
      "execution_count": 13,
      "outputs": []
    },
    {
      "cell_type": "code",
      "metadata": {
        "id": "MR1X8ndVka6A",
        "colab": {
          "base_uri": "https://localhost:8080/",
          "height": 203
        },
        "outputId": "df0f7fab-7322-4de3-80fe-38f6b1861f08"
      },
      "source": [
        "df= pd.read_csv('weather_data.csv')\n",
        "df.head()"
      ],
      "execution_count": 14,
      "outputs": [
        {
          "output_type": "execute_result",
          "data": {
            "text/html": [
              "<div>\n",
              "<style scoped>\n",
              "    .dataframe tbody tr th:only-of-type {\n",
              "        vertical-align: middle;\n",
              "    }\n",
              "\n",
              "    .dataframe tbody tr th {\n",
              "        vertical-align: top;\n",
              "    }\n",
              "\n",
              "    .dataframe thead th {\n",
              "        text-align: right;\n",
              "    }\n",
              "</style>\n",
              "<table border=\"1\" class=\"dataframe\">\n",
              "  <thead>\n",
              "    <tr style=\"text-align: right;\">\n",
              "      <th></th>\n",
              "      <th>YEAR</th>\n",
              "      <th>DOY</th>\n",
              "      <th>RF</th>\n",
              "      <th>WS</th>\n",
              "      <th>RH</th>\n",
              "      <th>DEW</th>\n",
              "      <th>Max_T</th>\n",
              "      <th>Min_T</th>\n",
              "      <th>ALLSKY_H</th>\n",
              "      <th>PS</th>\n",
              "      <th>ALLSKY_TOA</th>\n",
              "      <th>ALLSKY_RF</th>\n",
              "      <th>TS</th>\n",
              "    </tr>\n",
              "  </thead>\n",
              "  <tbody>\n",
              "    <tr>\n",
              "      <th>0</th>\n",
              "      <td>1990</td>\n",
              "      <td>1</td>\n",
              "      <td>0.00</td>\n",
              "      <td>2.61</td>\n",
              "      <td>74.97</td>\n",
              "      <td>21.37</td>\n",
              "      <td>31.58</td>\n",
              "      <td>22.03</td>\n",
              "      <td>15.70</td>\n",
              "      <td>99.21</td>\n",
              "      <td>31.93</td>\n",
              "      <td>35.68</td>\n",
              "      <td>27.08</td>\n",
              "    </tr>\n",
              "    <tr>\n",
              "      <th>1</th>\n",
              "      <td>1990</td>\n",
              "      <td>2</td>\n",
              "      <td>0.00</td>\n",
              "      <td>3.41</td>\n",
              "      <td>71.62</td>\n",
              "      <td>20.37</td>\n",
              "      <td>31.21</td>\n",
              "      <td>22.19</td>\n",
              "      <td>15.88</td>\n",
              "      <td>99.22</td>\n",
              "      <td>31.97</td>\n",
              "      <td>34.85</td>\n",
              "      <td>26.66</td>\n",
              "    </tr>\n",
              "    <tr>\n",
              "      <th>2</th>\n",
              "      <td>1990</td>\n",
              "      <td>3</td>\n",
              "      <td>0.00</td>\n",
              "      <td>3.63</td>\n",
              "      <td>70.04</td>\n",
              "      <td>19.41</td>\n",
              "      <td>31.29</td>\n",
              "      <td>20.82</td>\n",
              "      <td>17.60</td>\n",
              "      <td>99.30</td>\n",
              "      <td>32.00</td>\n",
              "      <td>35.50</td>\n",
              "      <td>26.02</td>\n",
              "    </tr>\n",
              "    <tr>\n",
              "      <th>3</th>\n",
              "      <td>1990</td>\n",
              "      <td>4</td>\n",
              "      <td>0.01</td>\n",
              "      <td>3.64</td>\n",
              "      <td>70.81</td>\n",
              "      <td>19.30</td>\n",
              "      <td>30.08</td>\n",
              "      <td>20.89</td>\n",
              "      <td>14.94</td>\n",
              "      <td>99.42</td>\n",
              "      <td>32.04</td>\n",
              "      <td>35.64</td>\n",
              "      <td>25.58</td>\n",
              "    </tr>\n",
              "    <tr>\n",
              "      <th>4</th>\n",
              "      <td>1990</td>\n",
              "      <td>5</td>\n",
              "      <td>0.49</td>\n",
              "      <td>3.92</td>\n",
              "      <td>77.22</td>\n",
              "      <td>19.54</td>\n",
              "      <td>27.08</td>\n",
              "      <td>21.30</td>\n",
              "      <td>6.48</td>\n",
              "      <td>99.49</td>\n",
              "      <td>32.11</td>\n",
              "      <td>35.10</td>\n",
              "      <td>24.18</td>\n",
              "    </tr>\n",
              "  </tbody>\n",
              "</table>\n",
              "</div>"
            ],
            "text/plain": [
              "   YEAR  DOY    RF    WS     RH  ...  ALLSKY_H     PS  ALLSKY_TOA  ALLSKY_RF     TS\n",
              "0  1990    1  0.00  2.61  74.97  ...     15.70  99.21       31.93      35.68  27.08\n",
              "1  1990    2  0.00  3.41  71.62  ...     15.88  99.22       31.97      34.85  26.66\n",
              "2  1990    3  0.00  3.63  70.04  ...     17.60  99.30       32.00      35.50  26.02\n",
              "3  1990    4  0.01  3.64  70.81  ...     14.94  99.42       32.04      35.64  25.58\n",
              "4  1990    5  0.49  3.92  77.22  ...      6.48  99.49       32.11      35.10  24.18\n",
              "\n",
              "[5 rows x 13 columns]"
            ]
          },
          "metadata": {
            "tags": []
          },
          "execution_count": 14
        }
      ]
    },
    {
      "cell_type": "code",
      "metadata": {
        "id": "bftAn4owka8h",
        "colab": {
          "base_uri": "https://localhost:8080/",
          "height": 357
        },
        "outputId": "9689f9e4-9138-4373-d58f-7a25b9483815"
      },
      "source": [
        "df.head(10)"
      ],
      "execution_count": 15,
      "outputs": [
        {
          "output_type": "execute_result",
          "data": {
            "text/html": [
              "<div>\n",
              "<style scoped>\n",
              "    .dataframe tbody tr th:only-of-type {\n",
              "        vertical-align: middle;\n",
              "    }\n",
              "\n",
              "    .dataframe tbody tr th {\n",
              "        vertical-align: top;\n",
              "    }\n",
              "\n",
              "    .dataframe thead th {\n",
              "        text-align: right;\n",
              "    }\n",
              "</style>\n",
              "<table border=\"1\" class=\"dataframe\">\n",
              "  <thead>\n",
              "    <tr style=\"text-align: right;\">\n",
              "      <th></th>\n",
              "      <th>YEAR</th>\n",
              "      <th>DOY</th>\n",
              "      <th>RF</th>\n",
              "      <th>WS</th>\n",
              "      <th>RH</th>\n",
              "      <th>DEW</th>\n",
              "      <th>Max_T</th>\n",
              "      <th>Min_T</th>\n",
              "      <th>ALLSKY_H</th>\n",
              "      <th>PS</th>\n",
              "      <th>ALLSKY_TOA</th>\n",
              "      <th>ALLSKY_RF</th>\n",
              "      <th>TS</th>\n",
              "    </tr>\n",
              "  </thead>\n",
              "  <tbody>\n",
              "    <tr>\n",
              "      <th>0</th>\n",
              "      <td>1990</td>\n",
              "      <td>1</td>\n",
              "      <td>0.00</td>\n",
              "      <td>2.61</td>\n",
              "      <td>74.97</td>\n",
              "      <td>21.37</td>\n",
              "      <td>31.58</td>\n",
              "      <td>22.03</td>\n",
              "      <td>15.70</td>\n",
              "      <td>99.21</td>\n",
              "      <td>31.93</td>\n",
              "      <td>35.68</td>\n",
              "      <td>27.08</td>\n",
              "    </tr>\n",
              "    <tr>\n",
              "      <th>1</th>\n",
              "      <td>1990</td>\n",
              "      <td>2</td>\n",
              "      <td>0.00</td>\n",
              "      <td>3.41</td>\n",
              "      <td>71.62</td>\n",
              "      <td>20.37</td>\n",
              "      <td>31.21</td>\n",
              "      <td>22.19</td>\n",
              "      <td>15.88</td>\n",
              "      <td>99.22</td>\n",
              "      <td>31.97</td>\n",
              "      <td>34.85</td>\n",
              "      <td>26.66</td>\n",
              "    </tr>\n",
              "    <tr>\n",
              "      <th>2</th>\n",
              "      <td>1990</td>\n",
              "      <td>3</td>\n",
              "      <td>0.00</td>\n",
              "      <td>3.63</td>\n",
              "      <td>70.04</td>\n",
              "      <td>19.41</td>\n",
              "      <td>31.29</td>\n",
              "      <td>20.82</td>\n",
              "      <td>17.60</td>\n",
              "      <td>99.30</td>\n",
              "      <td>32.00</td>\n",
              "      <td>35.50</td>\n",
              "      <td>26.02</td>\n",
              "    </tr>\n",
              "    <tr>\n",
              "      <th>3</th>\n",
              "      <td>1990</td>\n",
              "      <td>4</td>\n",
              "      <td>0.01</td>\n",
              "      <td>3.64</td>\n",
              "      <td>70.81</td>\n",
              "      <td>19.30</td>\n",
              "      <td>30.08</td>\n",
              "      <td>20.89</td>\n",
              "      <td>14.94</td>\n",
              "      <td>99.42</td>\n",
              "      <td>32.04</td>\n",
              "      <td>35.64</td>\n",
              "      <td>25.58</td>\n",
              "    </tr>\n",
              "    <tr>\n",
              "      <th>4</th>\n",
              "      <td>1990</td>\n",
              "      <td>5</td>\n",
              "      <td>0.49</td>\n",
              "      <td>3.92</td>\n",
              "      <td>77.22</td>\n",
              "      <td>19.54</td>\n",
              "      <td>27.08</td>\n",
              "      <td>21.30</td>\n",
              "      <td>6.48</td>\n",
              "      <td>99.49</td>\n",
              "      <td>32.11</td>\n",
              "      <td>35.10</td>\n",
              "      <td>24.18</td>\n",
              "    </tr>\n",
              "    <tr>\n",
              "      <th>5</th>\n",
              "      <td>1990</td>\n",
              "      <td>6</td>\n",
              "      <td>8.07</td>\n",
              "      <td>4.11</td>\n",
              "      <td>86.94</td>\n",
              "      <td>21.49</td>\n",
              "      <td>26.46</td>\n",
              "      <td>22.13</td>\n",
              "      <td>6.19</td>\n",
              "      <td>99.38</td>\n",
              "      <td>32.15</td>\n",
              "      <td>36.50</td>\n",
              "      <td>24.02</td>\n",
              "    </tr>\n",
              "    <tr>\n",
              "      <th>6</th>\n",
              "      <td>1990</td>\n",
              "      <td>7</td>\n",
              "      <td>9.27</td>\n",
              "      <td>3.62</td>\n",
              "      <td>82.68</td>\n",
              "      <td>22.09</td>\n",
              "      <td>29.30</td>\n",
              "      <td>22.81</td>\n",
              "      <td>6.91</td>\n",
              "      <td>99.40</td>\n",
              "      <td>32.18</td>\n",
              "      <td>36.32</td>\n",
              "      <td>25.69</td>\n",
              "    </tr>\n",
              "    <tr>\n",
              "      <th>7</th>\n",
              "      <td>1990</td>\n",
              "      <td>8</td>\n",
              "      <td>7.33</td>\n",
              "      <td>2.96</td>\n",
              "      <td>82.19</td>\n",
              "      <td>21.78</td>\n",
              "      <td>28.97</td>\n",
              "      <td>22.82</td>\n",
              "      <td>6.34</td>\n",
              "      <td>99.50</td>\n",
              "      <td>32.26</td>\n",
              "      <td>35.89</td>\n",
              "      <td>25.53</td>\n",
              "    </tr>\n",
              "    <tr>\n",
              "      <th>8</th>\n",
              "      <td>1990</td>\n",
              "      <td>9</td>\n",
              "      <td>1.36</td>\n",
              "      <td>3.89</td>\n",
              "      <td>80.26</td>\n",
              "      <td>21.29</td>\n",
              "      <td>29.44</td>\n",
              "      <td>21.94</td>\n",
              "      <td>11.52</td>\n",
              "      <td>99.45</td>\n",
              "      <td>32.29</td>\n",
              "      <td>35.46</td>\n",
              "      <td>25.63</td>\n",
              "    </tr>\n",
              "    <tr>\n",
              "      <th>9</th>\n",
              "      <td>1990</td>\n",
              "      <td>10</td>\n",
              "      <td>0.14</td>\n",
              "      <td>3.53</td>\n",
              "      <td>75.28</td>\n",
              "      <td>19.94</td>\n",
              "      <td>30.47</td>\n",
              "      <td>20.01</td>\n",
              "      <td>17.57</td>\n",
              "      <td>99.44</td>\n",
              "      <td>32.36</td>\n",
              "      <td>33.84</td>\n",
              "      <td>25.37</td>\n",
              "    </tr>\n",
              "  </tbody>\n",
              "</table>\n",
              "</div>"
            ],
            "text/plain": [
              "   YEAR  DOY    RF    WS     RH  ...  ALLSKY_H     PS  ALLSKY_TOA  ALLSKY_RF     TS\n",
              "0  1990    1  0.00  2.61  74.97  ...     15.70  99.21       31.93      35.68  27.08\n",
              "1  1990    2  0.00  3.41  71.62  ...     15.88  99.22       31.97      34.85  26.66\n",
              "2  1990    3  0.00  3.63  70.04  ...     17.60  99.30       32.00      35.50  26.02\n",
              "3  1990    4  0.01  3.64  70.81  ...     14.94  99.42       32.04      35.64  25.58\n",
              "4  1990    5  0.49  3.92  77.22  ...      6.48  99.49       32.11      35.10  24.18\n",
              "5  1990    6  8.07  4.11  86.94  ...      6.19  99.38       32.15      36.50  24.02\n",
              "6  1990    7  9.27  3.62  82.68  ...      6.91  99.40       32.18      36.32  25.69\n",
              "7  1990    8  7.33  2.96  82.19  ...      6.34  99.50       32.26      35.89  25.53\n",
              "8  1990    9  1.36  3.89  80.26  ...     11.52  99.45       32.29      35.46  25.63\n",
              "9  1990   10  0.14  3.53  75.28  ...     17.57  99.44       32.36      33.84  25.37\n",
              "\n",
              "[10 rows x 13 columns]"
            ]
          },
          "metadata": {
            "tags": []
          },
          "execution_count": 15
        }
      ]
    },
    {
      "cell_type": "code",
      "metadata": {
        "colab": {
          "base_uri": "https://localhost:8080/",
          "height": 203
        },
        "id": "9ERM6gHg7e9d",
        "outputId": "696e3e22-67ed-4fed-b0b5-e445f9908db4"
      },
      "source": [
        "df.tail()"
      ],
      "execution_count": 16,
      "outputs": [
        {
          "output_type": "execute_result",
          "data": {
            "text/html": [
              "<div>\n",
              "<style scoped>\n",
              "    .dataframe tbody tr th:only-of-type {\n",
              "        vertical-align: middle;\n",
              "    }\n",
              "\n",
              "    .dataframe tbody tr th {\n",
              "        vertical-align: top;\n",
              "    }\n",
              "\n",
              "    .dataframe thead th {\n",
              "        text-align: right;\n",
              "    }\n",
              "</style>\n",
              "<table border=\"1\" class=\"dataframe\">\n",
              "  <thead>\n",
              "    <tr style=\"text-align: right;\">\n",
              "      <th></th>\n",
              "      <th>YEAR</th>\n",
              "      <th>DOY</th>\n",
              "      <th>RF</th>\n",
              "      <th>WS</th>\n",
              "      <th>RH</th>\n",
              "      <th>DEW</th>\n",
              "      <th>Max_T</th>\n",
              "      <th>Min_T</th>\n",
              "      <th>ALLSKY_H</th>\n",
              "      <th>PS</th>\n",
              "      <th>ALLSKY_TOA</th>\n",
              "      <th>ALLSKY_RF</th>\n",
              "      <th>TS</th>\n",
              "    </tr>\n",
              "  </thead>\n",
              "  <tbody>\n",
              "    <tr>\n",
              "      <th>11512</th>\n",
              "      <td>2021</td>\n",
              "      <td>190</td>\n",
              "      <td>2.32</td>\n",
              "      <td>4.71</td>\n",
              "      <td>85.98</td>\n",
              "      <td>23.82</td>\n",
              "      <td>29.15</td>\n",
              "      <td>24.36</td>\n",
              "      <td>18.42</td>\n",
              "      <td>98.73</td>\n",
              "      <td>36.42</td>\n",
              "      <td>37.65</td>\n",
              "      <td>26.42</td>\n",
              "    </tr>\n",
              "    <tr>\n",
              "      <th>11513</th>\n",
              "      <td>2021</td>\n",
              "      <td>191</td>\n",
              "      <td>4.08</td>\n",
              "      <td>6.15</td>\n",
              "      <td>85.72</td>\n",
              "      <td>22.61</td>\n",
              "      <td>27.23</td>\n",
              "      <td>23.95</td>\n",
              "      <td>8.86</td>\n",
              "      <td>98.76</td>\n",
              "      <td>36.44</td>\n",
              "      <td>39.05</td>\n",
              "      <td>25.30</td>\n",
              "    </tr>\n",
              "    <tr>\n",
              "      <th>11514</th>\n",
              "      <td>2021</td>\n",
              "      <td>192</td>\n",
              "      <td>0.76</td>\n",
              "      <td>5.34</td>\n",
              "      <td>80.68</td>\n",
              "      <td>22.19</td>\n",
              "      <td>29.40</td>\n",
              "      <td>23.08</td>\n",
              "      <td>15.66</td>\n",
              "      <td>98.76</td>\n",
              "      <td>36.45</td>\n",
              "      <td>37.10</td>\n",
              "      <td>25.83</td>\n",
              "    </tr>\n",
              "    <tr>\n",
              "      <th>11515</th>\n",
              "      <td>2021</td>\n",
              "      <td>193</td>\n",
              "      <td>3.00</td>\n",
              "      <td>4.93</td>\n",
              "      <td>83.30</td>\n",
              "      <td>23.15</td>\n",
              "      <td>29.20</td>\n",
              "      <td>23.98</td>\n",
              "      <td>17.02</td>\n",
              "      <td>98.75</td>\n",
              "      <td>36.47</td>\n",
              "      <td>37.12</td>\n",
              "      <td>26.30</td>\n",
              "    </tr>\n",
              "    <tr>\n",
              "      <th>11516</th>\n",
              "      <td>2021</td>\n",
              "      <td>194</td>\n",
              "      <td>0.48</td>\n",
              "      <td>4.79</td>\n",
              "      <td>83.63</td>\n",
              "      <td>22.96</td>\n",
              "      <td>29.03</td>\n",
              "      <td>23.97</td>\n",
              "      <td>18.77</td>\n",
              "      <td>98.78</td>\n",
              "      <td>36.48</td>\n",
              "      <td>36.34</td>\n",
              "      <td>25.97</td>\n",
              "    </tr>\n",
              "  </tbody>\n",
              "</table>\n",
              "</div>"
            ],
            "text/plain": [
              "       YEAR  DOY    RF    WS  ...     PS  ALLSKY_TOA  ALLSKY_RF     TS\n",
              "11512  2021  190  2.32  4.71  ...  98.73       36.42      37.65  26.42\n",
              "11513  2021  191  4.08  6.15  ...  98.76       36.44      39.05  25.30\n",
              "11514  2021  192  0.76  5.34  ...  98.76       36.45      37.10  25.83\n",
              "11515  2021  193  3.00  4.93  ...  98.75       36.47      37.12  26.30\n",
              "11516  2021  194  0.48  4.79  ...  98.78       36.48      36.34  25.97\n",
              "\n",
              "[5 rows x 13 columns]"
            ]
          },
          "metadata": {
            "tags": []
          },
          "execution_count": 16
        }
      ]
    },
    {
      "cell_type": "code",
      "metadata": {
        "colab": {
          "base_uri": "https://localhost:8080/",
          "height": 315
        },
        "id": "yndtcvTy7iX-",
        "outputId": "1db33fe8-a542-4c5d-f117-27ecd4c9a76b"
      },
      "source": [
        "df.describe()"
      ],
      "execution_count": 17,
      "outputs": [
        {
          "output_type": "execute_result",
          "data": {
            "text/html": [
              "<div>\n",
              "<style scoped>\n",
              "    .dataframe tbody tr th:only-of-type {\n",
              "        vertical-align: middle;\n",
              "    }\n",
              "\n",
              "    .dataframe tbody tr th {\n",
              "        vertical-align: top;\n",
              "    }\n",
              "\n",
              "    .dataframe thead th {\n",
              "        text-align: right;\n",
              "    }\n",
              "</style>\n",
              "<table border=\"1\" class=\"dataframe\">\n",
              "  <thead>\n",
              "    <tr style=\"text-align: right;\">\n",
              "      <th></th>\n",
              "      <th>YEAR</th>\n",
              "      <th>DOY</th>\n",
              "      <th>RF</th>\n",
              "      <th>WS</th>\n",
              "      <th>RH</th>\n",
              "      <th>DEW</th>\n",
              "      <th>Max_T</th>\n",
              "      <th>Min_T</th>\n",
              "      <th>ALLSKY_H</th>\n",
              "      <th>PS</th>\n",
              "      <th>ALLSKY_TOA</th>\n",
              "      <th>ALLSKY_RF</th>\n",
              "      <th>TS</th>\n",
              "    </tr>\n",
              "  </thead>\n",
              "  <tbody>\n",
              "    <tr>\n",
              "      <th>count</th>\n",
              "      <td>11517.000000</td>\n",
              "      <td>11517.000000</td>\n",
              "      <td>11517.000000</td>\n",
              "      <td>11517.000000</td>\n",
              "      <td>11517.000000</td>\n",
              "      <td>11517.000000</td>\n",
              "      <td>11517.000000</td>\n",
              "      <td>11517.000000</td>\n",
              "      <td>11517.000000</td>\n",
              "      <td>11517.000000</td>\n",
              "      <td>11517.000000</td>\n",
              "      <td>11517.000000</td>\n",
              "      <td>11517.000000</td>\n",
              "    </tr>\n",
              "    <tr>\n",
              "      <th>mean</th>\n",
              "      <td>2005.270209</td>\n",
              "      <td>181.686898</td>\n",
              "      <td>3.659504</td>\n",
              "      <td>3.030177</td>\n",
              "      <td>76.056245</td>\n",
              "      <td>21.728395</td>\n",
              "      <td>30.962129</td>\n",
              "      <td>23.164143</td>\n",
              "      <td>18.378177</td>\n",
              "      <td>99.112778</td>\n",
              "      <td>35.680458</td>\n",
              "      <td>35.739435</td>\n",
              "      <td>27.158148</td>\n",
              "    </tr>\n",
              "    <tr>\n",
              "      <th>std</th>\n",
              "      <td>9.105071</td>\n",
              "      <td>105.383817</td>\n",
              "      <td>8.801692</td>\n",
              "      <td>1.135553</td>\n",
              "      <td>10.851335</td>\n",
              "      <td>1.922446</td>\n",
              "      <td>2.987309</td>\n",
              "      <td>1.907237</td>\n",
              "      <td>4.715553</td>\n",
              "      <td>0.203508</td>\n",
              "      <td>1.993504</td>\n",
              "      <td>1.531764</td>\n",
              "      <td>2.377533</td>\n",
              "    </tr>\n",
              "    <tr>\n",
              "      <th>min</th>\n",
              "      <td>1990.000000</td>\n",
              "      <td>1.000000</td>\n",
              "      <td>0.000000</td>\n",
              "      <td>0.450000</td>\n",
              "      <td>35.310000</td>\n",
              "      <td>10.210000</td>\n",
              "      <td>23.000000</td>\n",
              "      <td>15.570000</td>\n",
              "      <td>0.610000</td>\n",
              "      <td>98.320000</td>\n",
              "      <td>30.820000</td>\n",
              "      <td>28.680000</td>\n",
              "      <td>21.170000</td>\n",
              "    </tr>\n",
              "    <tr>\n",
              "      <th>25%</th>\n",
              "      <td>1997.000000</td>\n",
              "      <td>90.000000</td>\n",
              "      <td>0.020000</td>\n",
              "      <td>2.120000</td>\n",
              "      <td>68.710000</td>\n",
              "      <td>20.890000</td>\n",
              "      <td>28.630000</td>\n",
              "      <td>22.380000</td>\n",
              "      <td>15.550000</td>\n",
              "      <td>98.970000</td>\n",
              "      <td>34.140000</td>\n",
              "      <td>35.140000</td>\n",
              "      <td>25.450000</td>\n",
              "    </tr>\n",
              "    <tr>\n",
              "      <th>50%</th>\n",
              "      <td>2005.000000</td>\n",
              "      <td>180.000000</td>\n",
              "      <td>0.490000</td>\n",
              "      <td>3.000000</td>\n",
              "      <td>78.290000</td>\n",
              "      <td>22.290000</td>\n",
              "      <td>30.380000</td>\n",
              "      <td>23.460000</td>\n",
              "      <td>19.340000</td>\n",
              "      <td>99.090000</td>\n",
              "      <td>36.500000</td>\n",
              "      <td>36.040000</td>\n",
              "      <td>26.690000</td>\n",
              "    </tr>\n",
              "    <tr>\n",
              "      <th>75%</th>\n",
              "      <td>2013.000000</td>\n",
              "      <td>273.000000</td>\n",
              "      <td>3.130000</td>\n",
              "      <td>3.860000</td>\n",
              "      <td>84.890000</td>\n",
              "      <td>23.040000</td>\n",
              "      <td>32.890000</td>\n",
              "      <td>24.360000</td>\n",
              "      <td>21.960000</td>\n",
              "      <td>99.260000</td>\n",
              "      <td>37.190000</td>\n",
              "      <td>36.690000</td>\n",
              "      <td>28.570000</td>\n",
              "    </tr>\n",
              "    <tr>\n",
              "      <th>max</th>\n",
              "      <td>2021.000000</td>\n",
              "      <td>366.000000</td>\n",
              "      <td>204.430000</td>\n",
              "      <td>6.910000</td>\n",
              "      <td>95.310000</td>\n",
              "      <td>25.560000</td>\n",
              "      <td>40.220000</td>\n",
              "      <td>27.890000</td>\n",
              "      <td>27.940000</td>\n",
              "      <td>99.750000</td>\n",
              "      <td>39.000000</td>\n",
              "      <td>40.610000</td>\n",
              "      <td>35.100000</td>\n",
              "    </tr>\n",
              "  </tbody>\n",
              "</table>\n",
              "</div>"
            ],
            "text/plain": [
              "               YEAR           DOY  ...     ALLSKY_RF            TS\n",
              "count  11517.000000  11517.000000  ...  11517.000000  11517.000000\n",
              "mean    2005.270209    181.686898  ...     35.739435     27.158148\n",
              "std        9.105071    105.383817  ...      1.531764      2.377533\n",
              "min     1990.000000      1.000000  ...     28.680000     21.170000\n",
              "25%     1997.000000     90.000000  ...     35.140000     25.450000\n",
              "50%     2005.000000    180.000000  ...     36.040000     26.690000\n",
              "75%     2013.000000    273.000000  ...     36.690000     28.570000\n",
              "max     2021.000000    366.000000  ...     40.610000     35.100000\n",
              "\n",
              "[8 rows x 13 columns]"
            ]
          },
          "metadata": {
            "tags": []
          },
          "execution_count": 17
        }
      ]
    },
    {
      "cell_type": "code",
      "metadata": {
        "colab": {
          "base_uri": "https://localhost:8080/"
        },
        "id": "ZLCbRW9M7fBB",
        "outputId": "89c36ecb-b46a-4225-ee8c-60f595feb507"
      },
      "source": [
        "df['YEAR']"
      ],
      "execution_count": 25,
      "outputs": [
        {
          "output_type": "execute_result",
          "data": {
            "text/plain": [
              "0        1990\n",
              "1        1990\n",
              "2        1990\n",
              "3        1990\n",
              "4        1990\n",
              "         ... \n",
              "11512    2021\n",
              "11513    2021\n",
              "11514    2021\n",
              "11515    2021\n",
              "11516    2021\n",
              "Name: YEAR, Length: 11517, dtype: int64"
            ]
          },
          "metadata": {
            "tags": []
          },
          "execution_count": 25
        }
      ]
    },
    {
      "cell_type": "code",
      "metadata": {
        "colab": {
          "base_uri": "https://localhost:8080/"
        },
        "id": "jmRTZ14G7mAS",
        "outputId": "622ba4ea-cdea-41eb-a4bd-5319cbd097bb"
      },
      "source": [
        "df.YEAR"
      ],
      "execution_count": 21,
      "outputs": [
        {
          "output_type": "execute_result",
          "data": {
            "text/plain": [
              "0        1990\n",
              "1        1990\n",
              "2        1990\n",
              "3        1990\n",
              "4        1990\n",
              "         ... \n",
              "11512    2021\n",
              "11513    2021\n",
              "11514    2021\n",
              "11515    2021\n",
              "11516    2021\n",
              "Name: YEAR, Length: 11517, dtype: int64"
            ]
          },
          "metadata": {
            "tags": []
          },
          "execution_count": 21
        }
      ]
    },
    {
      "cell_type": "code",
      "metadata": {
        "colab": {
          "base_uri": "https://localhost:8080/",
          "height": 203
        },
        "id": "GNUdCHRM7pPH",
        "outputId": "8d455029-410a-4a0c-99b1-83967cab463b"
      },
      "source": [
        "df['rain'] = False\n",
        "df.head()"
      ],
      "execution_count": 27,
      "outputs": [
        {
          "output_type": "execute_result",
          "data": {
            "text/html": [
              "<div>\n",
              "<style scoped>\n",
              "    .dataframe tbody tr th:only-of-type {\n",
              "        vertical-align: middle;\n",
              "    }\n",
              "\n",
              "    .dataframe tbody tr th {\n",
              "        vertical-align: top;\n",
              "    }\n",
              "\n",
              "    .dataframe thead th {\n",
              "        text-align: right;\n",
              "    }\n",
              "</style>\n",
              "<table border=\"1\" class=\"dataframe\">\n",
              "  <thead>\n",
              "    <tr style=\"text-align: right;\">\n",
              "      <th></th>\n",
              "      <th>YEAR</th>\n",
              "      <th>DOY</th>\n",
              "      <th>RF</th>\n",
              "      <th>WS</th>\n",
              "      <th>RH</th>\n",
              "      <th>DEW</th>\n",
              "      <th>Max_T</th>\n",
              "      <th>Min_T</th>\n",
              "      <th>ALLSKY_H</th>\n",
              "      <th>PS</th>\n",
              "      <th>ALLSKY_TOA</th>\n",
              "      <th>ALLSKY_RF</th>\n",
              "      <th>TS</th>\n",
              "      <th>rain</th>\n",
              "    </tr>\n",
              "  </thead>\n",
              "  <tbody>\n",
              "    <tr>\n",
              "      <th>0</th>\n",
              "      <td>1990</td>\n",
              "      <td>1</td>\n",
              "      <td>0.00</td>\n",
              "      <td>2.61</td>\n",
              "      <td>74.97</td>\n",
              "      <td>21.37</td>\n",
              "      <td>31.58</td>\n",
              "      <td>22.03</td>\n",
              "      <td>15.70</td>\n",
              "      <td>99.21</td>\n",
              "      <td>31.93</td>\n",
              "      <td>35.68</td>\n",
              "      <td>27.08</td>\n",
              "      <td>False</td>\n",
              "    </tr>\n",
              "    <tr>\n",
              "      <th>1</th>\n",
              "      <td>1990</td>\n",
              "      <td>2</td>\n",
              "      <td>0.00</td>\n",
              "      <td>3.41</td>\n",
              "      <td>71.62</td>\n",
              "      <td>20.37</td>\n",
              "      <td>31.21</td>\n",
              "      <td>22.19</td>\n",
              "      <td>15.88</td>\n",
              "      <td>99.22</td>\n",
              "      <td>31.97</td>\n",
              "      <td>34.85</td>\n",
              "      <td>26.66</td>\n",
              "      <td>False</td>\n",
              "    </tr>\n",
              "    <tr>\n",
              "      <th>2</th>\n",
              "      <td>1990</td>\n",
              "      <td>3</td>\n",
              "      <td>0.00</td>\n",
              "      <td>3.63</td>\n",
              "      <td>70.04</td>\n",
              "      <td>19.41</td>\n",
              "      <td>31.29</td>\n",
              "      <td>20.82</td>\n",
              "      <td>17.60</td>\n",
              "      <td>99.30</td>\n",
              "      <td>32.00</td>\n",
              "      <td>35.50</td>\n",
              "      <td>26.02</td>\n",
              "      <td>False</td>\n",
              "    </tr>\n",
              "    <tr>\n",
              "      <th>3</th>\n",
              "      <td>1990</td>\n",
              "      <td>4</td>\n",
              "      <td>0.01</td>\n",
              "      <td>3.64</td>\n",
              "      <td>70.81</td>\n",
              "      <td>19.30</td>\n",
              "      <td>30.08</td>\n",
              "      <td>20.89</td>\n",
              "      <td>14.94</td>\n",
              "      <td>99.42</td>\n",
              "      <td>32.04</td>\n",
              "      <td>35.64</td>\n",
              "      <td>25.58</td>\n",
              "      <td>False</td>\n",
              "    </tr>\n",
              "    <tr>\n",
              "      <th>4</th>\n",
              "      <td>1990</td>\n",
              "      <td>5</td>\n",
              "      <td>0.49</td>\n",
              "      <td>3.92</td>\n",
              "      <td>77.22</td>\n",
              "      <td>19.54</td>\n",
              "      <td>27.08</td>\n",
              "      <td>21.30</td>\n",
              "      <td>6.48</td>\n",
              "      <td>99.49</td>\n",
              "      <td>32.11</td>\n",
              "      <td>35.10</td>\n",
              "      <td>24.18</td>\n",
              "      <td>False</td>\n",
              "    </tr>\n",
              "  </tbody>\n",
              "</table>\n",
              "</div>"
            ],
            "text/plain": [
              "   YEAR  DOY    RF    WS     RH  ...     PS  ALLSKY_TOA  ALLSKY_RF     TS   rain\n",
              "0  1990    1  0.00  2.61  74.97  ...  99.21       31.93      35.68  27.08  False\n",
              "1  1990    2  0.00  3.41  71.62  ...  99.22       31.97      34.85  26.66  False\n",
              "2  1990    3  0.00  3.63  70.04  ...  99.30       32.00      35.50  26.02  False\n",
              "3  1990    4  0.01  3.64  70.81  ...  99.42       32.04      35.64  25.58  False\n",
              "4  1990    5  0.49  3.92  77.22  ...  99.49       32.11      35.10  24.18  False\n",
              "\n",
              "[5 rows x 14 columns]"
            ]
          },
          "metadata": {
            "tags": []
          },
          "execution_count": 27
        }
      ]
    },
    {
      "cell_type": "code",
      "metadata": {
        "colab": {
          "base_uri": "https://localhost:8080/",
          "height": 203
        },
        "id": "ZLAPH0AY7pRm",
        "outputId": "c965cde9-d200-4376-b072-b00c614b8cb0"
      },
      "source": [
        "df.drop('rain',inplace=True, axis=1)\n",
        "df.head()"
      ],
      "execution_count": 30,
      "outputs": [
        {
          "output_type": "execute_result",
          "data": {
            "text/html": [
              "<div>\n",
              "<style scoped>\n",
              "    .dataframe tbody tr th:only-of-type {\n",
              "        vertical-align: middle;\n",
              "    }\n",
              "\n",
              "    .dataframe tbody tr th {\n",
              "        vertical-align: top;\n",
              "    }\n",
              "\n",
              "    .dataframe thead th {\n",
              "        text-align: right;\n",
              "    }\n",
              "</style>\n",
              "<table border=\"1\" class=\"dataframe\">\n",
              "  <thead>\n",
              "    <tr style=\"text-align: right;\">\n",
              "      <th></th>\n",
              "      <th>YEAR</th>\n",
              "      <th>DOY</th>\n",
              "      <th>RF</th>\n",
              "      <th>WS</th>\n",
              "      <th>RH</th>\n",
              "      <th>DEW</th>\n",
              "      <th>Max_T</th>\n",
              "      <th>Min_T</th>\n",
              "      <th>ALLSKY_H</th>\n",
              "      <th>PS</th>\n",
              "      <th>ALLSKY_TOA</th>\n",
              "      <th>ALLSKY_RF</th>\n",
              "      <th>TS</th>\n",
              "    </tr>\n",
              "  </thead>\n",
              "  <tbody>\n",
              "    <tr>\n",
              "      <th>0</th>\n",
              "      <td>1990</td>\n",
              "      <td>1</td>\n",
              "      <td>0.00</td>\n",
              "      <td>2.61</td>\n",
              "      <td>74.97</td>\n",
              "      <td>21.37</td>\n",
              "      <td>31.58</td>\n",
              "      <td>22.03</td>\n",
              "      <td>15.70</td>\n",
              "      <td>99.21</td>\n",
              "      <td>31.93</td>\n",
              "      <td>35.68</td>\n",
              "      <td>27.08</td>\n",
              "    </tr>\n",
              "    <tr>\n",
              "      <th>1</th>\n",
              "      <td>1990</td>\n",
              "      <td>2</td>\n",
              "      <td>0.00</td>\n",
              "      <td>3.41</td>\n",
              "      <td>71.62</td>\n",
              "      <td>20.37</td>\n",
              "      <td>31.21</td>\n",
              "      <td>22.19</td>\n",
              "      <td>15.88</td>\n",
              "      <td>99.22</td>\n",
              "      <td>31.97</td>\n",
              "      <td>34.85</td>\n",
              "      <td>26.66</td>\n",
              "    </tr>\n",
              "    <tr>\n",
              "      <th>2</th>\n",
              "      <td>1990</td>\n",
              "      <td>3</td>\n",
              "      <td>0.00</td>\n",
              "      <td>3.63</td>\n",
              "      <td>70.04</td>\n",
              "      <td>19.41</td>\n",
              "      <td>31.29</td>\n",
              "      <td>20.82</td>\n",
              "      <td>17.60</td>\n",
              "      <td>99.30</td>\n",
              "      <td>32.00</td>\n",
              "      <td>35.50</td>\n",
              "      <td>26.02</td>\n",
              "    </tr>\n",
              "    <tr>\n",
              "      <th>3</th>\n",
              "      <td>1990</td>\n",
              "      <td>4</td>\n",
              "      <td>0.01</td>\n",
              "      <td>3.64</td>\n",
              "      <td>70.81</td>\n",
              "      <td>19.30</td>\n",
              "      <td>30.08</td>\n",
              "      <td>20.89</td>\n",
              "      <td>14.94</td>\n",
              "      <td>99.42</td>\n",
              "      <td>32.04</td>\n",
              "      <td>35.64</td>\n",
              "      <td>25.58</td>\n",
              "    </tr>\n",
              "    <tr>\n",
              "      <th>4</th>\n",
              "      <td>1990</td>\n",
              "      <td>5</td>\n",
              "      <td>0.49</td>\n",
              "      <td>3.92</td>\n",
              "      <td>77.22</td>\n",
              "      <td>19.54</td>\n",
              "      <td>27.08</td>\n",
              "      <td>21.30</td>\n",
              "      <td>6.48</td>\n",
              "      <td>99.49</td>\n",
              "      <td>32.11</td>\n",
              "      <td>35.10</td>\n",
              "      <td>24.18</td>\n",
              "    </tr>\n",
              "  </tbody>\n",
              "</table>\n",
              "</div>"
            ],
            "text/plain": [
              "   YEAR  DOY    RF    WS     RH  ...  ALLSKY_H     PS  ALLSKY_TOA  ALLSKY_RF     TS\n",
              "0  1990    1  0.00  2.61  74.97  ...     15.70  99.21       31.93      35.68  27.08\n",
              "1  1990    2  0.00  3.41  71.62  ...     15.88  99.22       31.97      34.85  26.66\n",
              "2  1990    3  0.00  3.63  70.04  ...     17.60  99.30       32.00      35.50  26.02\n",
              "3  1990    4  0.01  3.64  70.81  ...     14.94  99.42       32.04      35.64  25.58\n",
              "4  1990    5  0.49  3.92  77.22  ...      6.48  99.49       32.11      35.10  24.18\n",
              "\n",
              "[5 rows x 13 columns]"
            ]
          },
          "metadata": {
            "tags": []
          },
          "execution_count": 30
        }
      ]
    },
    {
      "cell_type": "code",
      "metadata": {
        "id": "_jH9BPX086OS"
      },
      "source": [
        ""
      ],
      "execution_count": null,
      "outputs": []
    }
  ]
}