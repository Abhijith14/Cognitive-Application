{
  "nbformat": 4,
  "nbformat_minor": 0,
  "metadata": {
    "colab": {
      "name": "Intro to Python- Basics",
      "provenance": [],
      "collapsed_sections": [
        "qfjov7iBCpJO",
        "EQB7LFFeEkmR",
        "XxrM-dmeG6wz",
        "hc-xiK22Hqwr"
      ],
      "toc_visible": true
    },
    "kernelspec": {
      "name": "python3",
      "display_name": "Python 3"
    },
    "language_info": {
      "name": "python"
    }
  },
  "cells": [
    {
      "cell_type": "markdown",
      "metadata": {
        "id": "_0KoYPvCA4AC"
      },
      "source": [
        "# **Basic Arithmetic**"
      ]
    },
    {
      "cell_type": "code",
      "metadata": {
        "id": "7dsq_U3sAr0W",
        "colab": {
          "base_uri": "https://localhost:8080/"
        },
        "outputId": "a6ce091f-b629-4620-ea57-421828bad574"
      },
      "source": [
        "# Addition\n",
        "2+1"
      ],
      "execution_count": null,
      "outputs": [
        {
          "output_type": "execute_result",
          "data": {
            "text/plain": [
              "3"
            ]
          },
          "metadata": {
            "tags": []
          },
          "execution_count": 62
        }
      ]
    },
    {
      "cell_type": "code",
      "metadata": {
        "id": "TzMREup9A8kh",
        "colab": {
          "base_uri": "https://localhost:8080/"
        },
        "outputId": "43c58ab7-4647-4e32-bf8f-9e15c818dce5"
      },
      "source": [
        "# Subtraction\n",
        "2-1"
      ],
      "execution_count": null,
      "outputs": [
        {
          "output_type": "execute_result",
          "data": {
            "text/plain": [
              "1"
            ]
          },
          "metadata": {
            "tags": []
          },
          "execution_count": 63
        }
      ]
    },
    {
      "cell_type": "code",
      "metadata": {
        "id": "oH2T2Tb9A_gG",
        "colab": {
          "base_uri": "https://localhost:8080/"
        },
        "outputId": "97c3a650-9522-41e8-f616-6df637c82485"
      },
      "source": [
        "# Multiplication\n",
        "2*2"
      ],
      "execution_count": null,
      "outputs": [
        {
          "output_type": "execute_result",
          "data": {
            "text/plain": [
              "4"
            ]
          },
          "metadata": {
            "tags": []
          },
          "execution_count": 64
        }
      ]
    },
    {
      "cell_type": "code",
      "metadata": {
        "id": "jlJj09-hBCUY",
        "colab": {
          "base_uri": "https://localhost:8080/"
        },
        "outputId": "075e4dcb-c5e7-4939-c9ae-afbe887592fc"
      },
      "source": [
        "# Division\n",
        "3/2"
      ],
      "execution_count": null,
      "outputs": [
        {
          "output_type": "execute_result",
          "data": {
            "text/plain": [
              "1.5"
            ]
          },
          "metadata": {
            "tags": []
          },
          "execution_count": 65
        }
      ]
    },
    {
      "cell_type": "markdown",
      "metadata": {
        "id": "lWXV392IC0J5"
      },
      "source": [
        "There's actually a shortcut for this. Python lets you add, subtract, multiply and divide numbers with reassignment using +=, -=, *=, and /=."
      ]
    },
    {
      "cell_type": "code",
      "metadata": {
        "id": "W816k2dymCO7"
      },
      "source": [
        "a=10"
      ],
      "execution_count": null,
      "outputs": []
    },
    {
      "cell_type": "code",
      "metadata": {
        "id": "EGvMRxcCC1CD",
        "colab": {
          "base_uri": "https://localhost:8080/"
        },
        "outputId": "80530a14-03ec-4197-8637-7ceb373e32e4"
      },
      "source": [
        "a += 10\n",
        "a"
      ],
      "execution_count": null,
      "outputs": [
        {
          "output_type": "execute_result",
          "data": {
            "text/plain": [
              "20"
            ]
          },
          "metadata": {
            "tags": []
          },
          "execution_count": 67
        }
      ]
    },
    {
      "cell_type": "code",
      "metadata": {
        "id": "ZM-cbHgfC2wV",
        "colab": {
          "base_uri": "https://localhost:8080/"
        },
        "outputId": "15bc98f9-7595-4377-fed5-85cdc15d00be"
      },
      "source": [
        "a *= 2\n",
        "a"
      ],
      "execution_count": null,
      "outputs": [
        {
          "output_type": "execute_result",
          "data": {
            "text/plain": [
              "40"
            ]
          },
          "metadata": {
            "tags": []
          },
          "execution_count": 68
        }
      ]
    },
    {
      "cell_type": "code",
      "metadata": {
        "id": "ftcA9GT6BEPy",
        "colab": {
          "base_uri": "https://localhost:8080/"
        },
        "outputId": "9f9bbbfb-7b0e-481a-effd-c202b4b8a04c"
      },
      "source": [
        "# Floor Division\n",
        "7//4"
      ],
      "execution_count": null,
      "outputs": [
        {
          "output_type": "execute_result",
          "data": {
            "text/plain": [
              "1"
            ]
          },
          "metadata": {
            "tags": []
          },
          "execution_count": 69
        }
      ]
    },
    {
      "cell_type": "markdown",
      "metadata": {
        "id": "JwQ80X5pBGVL"
      },
      "source": [
        "***Whoa! What just happened? Last time I checked, 7 divided by 4 equals 1.75 not 1!***\n",
        "\n",
        "The reason we get this result is because we are using \"floor\" division. The // operator (two forward slashes) truncates the decimal without rounding, and returns an integer result.\n",
        "\n",
        "***So what if we just want the remainder after division?***"
      ]
    },
    {
      "cell_type": "code",
      "metadata": {
        "id": "eX0z50wqBK6h",
        "colab": {
          "base_uri": "https://localhost:8080/"
        },
        "outputId": "12d3ee5e-b3a7-4535-d442-e7c248769491"
      },
      "source": [
        "# Modulo\n",
        "7%4"
      ],
      "execution_count": null,
      "outputs": [
        {
          "output_type": "execute_result",
          "data": {
            "text/plain": [
              "3"
            ]
          },
          "metadata": {
            "tags": []
          },
          "execution_count": 70
        }
      ]
    },
    {
      "cell_type": "markdown",
      "metadata": {
        "id": "DBX8Z3W3BUbE"
      },
      "source": [
        "4 goes into 7 once, with a remainder of 3. The % operator returns the remainder after division."
      ]
    },
    {
      "cell_type": "markdown",
      "metadata": {
        "id": "qkNdgftSBYl_"
      },
      "source": [
        "***Arithmetic continued***"
      ]
    },
    {
      "cell_type": "code",
      "metadata": {
        "id": "_cIHpr8KBczz",
        "colab": {
          "base_uri": "https://localhost:8080/"
        },
        "outputId": "a8f73a47-0906-4780-88f6-597cc4fd2472"
      },
      "source": [
        "# Powers\n",
        "2**3"
      ],
      "execution_count": null,
      "outputs": [
        {
          "output_type": "execute_result",
          "data": {
            "text/plain": [
              "8"
            ]
          },
          "metadata": {
            "tags": []
          },
          "execution_count": 71
        }
      ]
    },
    {
      "cell_type": "code",
      "metadata": {
        "id": "ME2PqPXWBe2T",
        "colab": {
          "base_uri": "https://localhost:8080/"
        },
        "outputId": "516eaf89-bac0-4de7-b609-60fdc8c9393e"
      },
      "source": [
        "# Can also do roots this way\n",
        "4**0.5"
      ],
      "execution_count": null,
      "outputs": [
        {
          "output_type": "execute_result",
          "data": {
            "text/plain": [
              "2.0"
            ]
          },
          "metadata": {
            "tags": []
          },
          "execution_count": 72
        }
      ]
    },
    {
      "cell_type": "code",
      "metadata": {
        "id": "YouLwfqhBi0f",
        "colab": {
          "base_uri": "https://localhost:8080/"
        },
        "outputId": "a4fe1fc8-4808-43e6-ac1d-41edcedb08dd"
      },
      "source": [
        "# Order of Operations followed in Python\n",
        "2 + 10 * 10 + 3"
      ],
      "execution_count": null,
      "outputs": [
        {
          "output_type": "execute_result",
          "data": {
            "text/plain": [
              "105"
            ]
          },
          "metadata": {
            "tags": []
          },
          "execution_count": 73
        }
      ]
    },
    {
      "cell_type": "code",
      "metadata": {
        "id": "D55qgCWmBl2i",
        "colab": {
          "base_uri": "https://localhost:8080/"
        },
        "outputId": "92c14869-c4b1-48bc-d75a-70ca38c06241"
      },
      "source": [
        "# Can use parentheses to specify orders\n",
        "(2+10) * (10+3)"
      ],
      "execution_count": null,
      "outputs": [
        {
          "output_type": "execute_result",
          "data": {
            "text/plain": [
              "156"
            ]
          },
          "metadata": {
            "tags": []
          },
          "execution_count": 74
        }
      ]
    },
    {
      "cell_type": "markdown",
      "metadata": {
        "id": "0lDx8AB4BoiK"
      },
      "source": [
        "**Variable Assignments**\n",
        "---\n",
        "\n",
        "Now that we've seen how to use numbers in Python as a calculator let's see how we can assign names and create variables.\n",
        "\n",
        "We use a single equals sign to assign labels to variables. Let's see a few examples of how we can do this."
      ]
    },
    {
      "cell_type": "code",
      "metadata": {
        "id": "-SaVdYDTBwyc"
      },
      "source": [
        "# Let's create an object called \"a\" and assign it the number 5\n",
        "a = 5"
      ],
      "execution_count": null,
      "outputs": []
    },
    {
      "cell_type": "markdown",
      "metadata": {
        "id": "snMu_LkVBzCv"
      },
      "source": [
        "Now if I call a in my Python script, Python will treat it as the number 5."
      ]
    },
    {
      "cell_type": "code",
      "metadata": {
        "id": "X3LvP3nbB4cE",
        "colab": {
          "base_uri": "https://localhost:8080/"
        },
        "outputId": "1106a3d2-0126-42e5-dc24-b7eea3ed46e7"
      },
      "source": [
        "# Adding the objects\n",
        "a+a"
      ],
      "execution_count": null,
      "outputs": [
        {
          "output_type": "execute_result",
          "data": {
            "text/plain": [
              "20"
            ]
          },
          "metadata": {
            "tags": []
          },
          "execution_count": 78
        }
      ]
    },
    {
      "cell_type": "markdown",
      "metadata": {
        "id": "JrX3s-sxCYxG"
      },
      "source": [
        "What happens on reassignment? Will Python let us write it over?"
      ]
    },
    {
      "cell_type": "code",
      "metadata": {
        "id": "DO9jJTP1B8hs"
      },
      "source": [
        "# Reassignment\n",
        "a = 10"
      ],
      "execution_count": null,
      "outputs": []
    },
    {
      "cell_type": "code",
      "metadata": {
        "id": "IW1jAff7CawQ",
        "colab": {
          "base_uri": "https://localhost:8080/"
        },
        "outputId": "cc588c06-b9d2-47c6-ada4-c4ac03249e2e"
      },
      "source": [
        "# Check\n",
        "a"
      ],
      "execution_count": null,
      "outputs": [
        {
          "output_type": "execute_result",
          "data": {
            "text/plain": [
              "10"
            ]
          },
          "metadata": {
            "tags": []
          },
          "execution_count": 80
        }
      ]
    },
    {
      "cell_type": "markdown",
      "metadata": {
        "id": "hBYKvEyXCemJ"
      },
      "source": [
        "Yes! Python allows you to write over assigned variable names. We can also use the variables themselves when doing the reassignment. Here is an example of what I mean:"
      ]
    },
    {
      "cell_type": "code",
      "metadata": {
        "id": "flX5jbd_CkSD",
        "colab": {
          "base_uri": "https://localhost:8080/"
        },
        "outputId": "81399630-7b5e-4ff5-9aff-f7242ad5b8ab"
      },
      "source": [
        "# Check\n",
        "a"
      ],
      "execution_count": null,
      "outputs": [
        {
          "output_type": "execute_result",
          "data": {
            "text/plain": [
              "10"
            ]
          },
          "metadata": {
            "tags": []
          },
          "execution_count": 81
        }
      ]
    },
    {
      "cell_type": "code",
      "metadata": {
        "id": "UHNEuwL_CmO0"
      },
      "source": [
        "# Use A to redefine A\n",
        "a = a + a"
      ],
      "execution_count": null,
      "outputs": []
    },
    {
      "cell_type": "code",
      "metadata": {
        "id": "AS_DBSTmCodT",
        "colab": {
          "base_uri": "https://localhost:8080/"
        },
        "outputId": "1418e8e1-7937-4f9e-ec26-976bd1853b39"
      },
      "source": [
        "# Check \n",
        "a"
      ],
      "execution_count": null,
      "outputs": [
        {
          "output_type": "execute_result",
          "data": {
            "text/plain": [
              "40"
            ]
          },
          "metadata": {
            "tags": []
          },
          "execution_count": 85
        }
      ]
    },
    {
      "cell_type": "markdown",
      "metadata": {
        "id": "qfjov7iBCpJO"
      },
      "source": [
        "# **Strings**"
      ]
    },
    {
      "cell_type": "markdown",
      "metadata": {
        "id": "BXWXxwupE1UW"
      },
      "source": [
        "Strings are used in Python to record text information, such as names. Strings in Python are actually a sequence, which basically means Python keeps track of every element in the string as a sequence. "
      ]
    },
    {
      "cell_type": "markdown",
      "metadata": {
        "id": "ZgdVVVDNDtu3"
      },
      "source": [
        "***Creating a String***\n",
        "\n",
        "---\n",
        "\n",
        "To create a string in Python you need to use either single quotes or double quotes. For example:"
      ]
    },
    {
      "cell_type": "code",
      "metadata": {
        "id": "jmxwSSfxDBkv",
        "colab": {
          "base_uri": "https://localhost:8080/",
          "height": 35
        },
        "outputId": "a61a252e-64bc-415b-ce70-469240db17a5"
      },
      "source": [
        "# We can simply declare a string\n",
        "'Hello World'"
      ],
      "execution_count": null,
      "outputs": [
        {
          "output_type": "execute_result",
          "data": {
            "application/vnd.google.colaboratory.intrinsic+json": {
              "type": "string"
            },
            "text/plain": [
              "'Hello World'"
            ]
          },
          "metadata": {
            "tags": []
          },
          "execution_count": 86
        }
      ]
    },
    {
      "cell_type": "code",
      "metadata": {
        "id": "yiXEaIZ2D0OO",
        "colab": {
          "base_uri": "https://localhost:8080/",
          "height": 35
        },
        "outputId": "751655eb-b670-4750-9948-6ec9e1cf6340"
      },
      "source": [
        "# Note that we can't output multiple strings this way\n",
        "'Hello World 1'\n",
        "'Hello World 2'"
      ],
      "execution_count": null,
      "outputs": [
        {
          "output_type": "execute_result",
          "data": {
            "application/vnd.google.colaboratory.intrinsic+json": {
              "type": "string"
            },
            "text/plain": [
              "'Hello World 2'"
            ]
          },
          "metadata": {
            "tags": []
          },
          "execution_count": 87
        }
      ]
    },
    {
      "cell_type": "markdown",
      "metadata": {
        "id": "4R66bcxpEBf7"
      },
      "source": [
        "We can use a print statement to print a string."
      ]
    },
    {
      "cell_type": "code",
      "metadata": {
        "id": "vlMHnrMFD_6Z",
        "colab": {
          "base_uri": "https://localhost:8080/"
        },
        "outputId": "d56f1224-56e7-4df8-acaf-76c982546ac1"
      },
      "source": [
        "print('Hello World 1')\n",
        "print('Hello World 2')\n",
        "print('Use \\n to print a new line')\n",
        "print('\\n')\n",
        "print('See what I mean?')"
      ],
      "execution_count": null,
      "outputs": [
        {
          "output_type": "stream",
          "text": [
            "Hello World 1\n",
            "Hello World 2\n",
            "Use \n",
            " to print a new line\n",
            "\n",
            "\n",
            "See what I mean?\n"
          ],
          "name": "stdout"
        }
      ]
    },
    {
      "cell_type": "markdown",
      "metadata": {
        "id": "3BCXAeAwEKN5"
      },
      "source": [
        "***String Basics***\n",
        "\n",
        "---\n",
        "\n",
        "We can also use a function called len() to check the length of a string!"
      ]
    },
    {
      "cell_type": "code",
      "metadata": {
        "id": "Ts_QaigyEEIn",
        "colab": {
          "base_uri": "https://localhost:8080/"
        },
        "outputId": "1f906ed4-d2ea-4500-da48-c97716b91e80"
      },
      "source": [
        "len('Hello World')"
      ],
      "execution_count": null,
      "outputs": [
        {
          "output_type": "execute_result",
          "data": {
            "text/plain": [
              "11"
            ]
          },
          "metadata": {
            "tags": []
          },
          "execution_count": 89
        }
      ]
    },
    {
      "cell_type": "code",
      "metadata": {
        "id": "76GD73SCERbO",
        "colab": {
          "base_uri": "https://localhost:8080/"
        },
        "outputId": "214c8062-1d68-4ca7-ad6a-73f42a527115"
      },
      "source": [
        "s='Tech Analogy'\n",
        "len(s)"
      ],
      "execution_count": null,
      "outputs": [
        {
          "output_type": "execute_result",
          "data": {
            "text/plain": [
              "12"
            ]
          },
          "metadata": {
            "tags": []
          },
          "execution_count": 90
        }
      ]
    },
    {
      "cell_type": "markdown",
      "metadata": {
        "id": "EQB7LFFeEkmR"
      },
      "source": [
        "# ***Lists***"
      ]
    },
    {
      "cell_type": "markdown",
      "metadata": {
        "id": "Q3XJ600fEuAZ"
      },
      "source": [
        "Earlier when discussing strings we introduced the concept of a sequence in Python. Lists can be thought of the most general version of a sequence in Python. Unlike strings, they are mutable, meaning the elements inside a list can be changed!"
      ]
    },
    {
      "cell_type": "markdown",
      "metadata": {
        "id": "9gwi9HDtE5kI"
      },
      "source": [
        "Lists are constructed with brackets [] and commas separating every element in the list.\n",
        "\n",
        "Let's go ahead and see how we can construct lists!"
      ]
    },
    {
      "cell_type": "code",
      "metadata": {
        "id": "zsjkMARBEnnX"
      },
      "source": [
        "# Assign a list to an variable named my_list\n",
        "my_list = [1,2,3]"
      ],
      "execution_count": null,
      "outputs": []
    },
    {
      "cell_type": "markdown",
      "metadata": {
        "id": "PSI4W1KAE7Ys"
      },
      "source": [
        "We just created a list of integers, but lists can actually hold different object types. For example:"
      ]
    },
    {
      "cell_type": "code",
      "metadata": {
        "id": "LmpdV2a8E-SZ"
      },
      "source": [
        "my_list = ['A string',23,100.232,'o']"
      ],
      "execution_count": null,
      "outputs": []
    },
    {
      "cell_type": "markdown",
      "metadata": {
        "id": "mkOW7p2pFBSt"
      },
      "source": [
        "Just like strings, the len() function will tell you how many items are in the sequence of the list."
      ]
    },
    {
      "cell_type": "code",
      "metadata": {
        "id": "iUvAzc-EFBMb",
        "colab": {
          "base_uri": "https://localhost:8080/"
        },
        "outputId": "4779854a-36a1-444a-e66b-55ae5104cb0a"
      },
      "source": [
        "len(my_list)"
      ],
      "execution_count": null,
      "outputs": [
        {
          "output_type": "execute_result",
          "data": {
            "text/plain": [
              "4"
            ]
          },
          "metadata": {
            "tags": []
          },
          "execution_count": 93
        }
      ]
    },
    {
      "cell_type": "markdown",
      "metadata": {
        "id": "wDxWhv6yFC4C"
      },
      "source": [
        "**Indexing and Slicing**"
      ]
    },
    {
      "cell_type": "markdown",
      "metadata": {
        "id": "y9kECwyYGmOo"
      },
      "source": [
        "In Python, we use brackets [] after an object to call its index. We should also note that indexing starts at 0 for Python. Let's create a new object called s and then walk through a few examples of indexing."
      ]
    },
    {
      "cell_type": "code",
      "metadata": {
        "id": "GTRB2GfmFLFM"
      },
      "source": [
        "my_list = ['one','two','three',4,5]"
      ],
      "execution_count": null,
      "outputs": []
    },
    {
      "cell_type": "code",
      "metadata": {
        "id": "YkM8hXvAFOUA",
        "colab": {
          "base_uri": "https://localhost:8080/",
          "height": 35
        },
        "outputId": "39936393-a9cc-46a2-91bf-ce456ca58528"
      },
      "source": [
        "# Grab element at index 0\n",
        "my_list[0]"
      ],
      "execution_count": null,
      "outputs": [
        {
          "output_type": "execute_result",
          "data": {
            "application/vnd.google.colaboratory.intrinsic+json": {
              "type": "string"
            },
            "text/plain": [
              "'one'"
            ]
          },
          "metadata": {
            "tags": []
          },
          "execution_count": 95
        }
      ]
    },
    {
      "cell_type": "code",
      "metadata": {
        "id": "vOwDO6Y-FRU1",
        "colab": {
          "base_uri": "https://localhost:8080/"
        },
        "outputId": "99532660-89bd-4c28-cd21-bba065123a99"
      },
      "source": [
        "# Grab index 1 and everything past it\n",
        "my_list[1:]"
      ],
      "execution_count": null,
      "outputs": [
        {
          "output_type": "execute_result",
          "data": {
            "text/plain": [
              "['two', 'three', 4, 5]"
            ]
          },
          "metadata": {
            "tags": []
          },
          "execution_count": 96
        }
      ]
    },
    {
      "cell_type": "code",
      "metadata": {
        "id": "Y0igMLsmFtFf",
        "colab": {
          "base_uri": "https://localhost:8080/"
        },
        "outputId": "5933381d-5541-47c5-8d98-9adb46ded1c5"
      },
      "source": [
        "# Grab everything UP TO index 3\n",
        "my_list[:3]"
      ],
      "execution_count": null,
      "outputs": [
        {
          "output_type": "execute_result",
          "data": {
            "text/plain": [
              "['one', 'two', 'three']"
            ]
          },
          "metadata": {
            "tags": []
          },
          "execution_count": 97
        }
      ]
    },
    {
      "cell_type": "markdown",
      "metadata": {
        "id": "Bt3Hy-iHFwMt"
      },
      "source": [
        "We can also use the * for a duplication method:"
      ]
    },
    {
      "cell_type": "code",
      "metadata": {
        "id": "s4jsLMBcF6LK",
        "colab": {
          "base_uri": "https://localhost:8080/"
        },
        "outputId": "ea8c78b9-f040-49c2-caea-b0e39a7193c3"
      },
      "source": [
        "# Make the list double\n",
        "my_list * 2"
      ],
      "execution_count": null,
      "outputs": [
        {
          "output_type": "execute_result",
          "data": {
            "text/plain": [
              "['one', 'two', 'three', 4, 5, 'one', 'two', 'three', 4, 5]"
            ]
          },
          "metadata": {
            "tags": []
          },
          "execution_count": 98
        }
      ]
    },
    {
      "cell_type": "markdown",
      "metadata": {
        "id": "pY5gJGz0F-qj"
      },
      "source": [
        "Use the append method to permanently add an item to the end of a list:"
      ]
    },
    {
      "cell_type": "code",
      "metadata": {
        "id": "gpmYTjyUF8Nu"
      },
      "source": [
        "list1 = [1,2,3]"
      ],
      "execution_count": null,
      "outputs": []
    },
    {
      "cell_type": "code",
      "metadata": {
        "id": "6KWPpjm4GB45",
        "colab": {
          "base_uri": "https://localhost:8080/"
        },
        "outputId": "250df8d0-4bc7-496f-ca58-48a076014460"
      },
      "source": [
        "list1.append('append me!')\n",
        "list1"
      ],
      "execution_count": null,
      "outputs": [
        {
          "output_type": "execute_result",
          "data": {
            "text/plain": [
              "[1, 2, 3, 'append me!']"
            ]
          },
          "metadata": {
            "tags": []
          },
          "execution_count": 101
        }
      ]
    },
    {
      "cell_type": "markdown",
      "metadata": {
        "id": "ERWtvcbHGUoT"
      },
      "source": [
        "Use pop to \"pop off\" an item from the list. By default pop takes off the last index, but you can also specify which index to pop off. Let's see an example:"
      ]
    },
    {
      "cell_type": "code",
      "metadata": {
        "id": "uXWZ8sk8GEhs",
        "colab": {
          "base_uri": "https://localhost:8080/"
        },
        "outputId": "b83c36bc-87cb-4d93-f919-f47dfd2bec5e"
      },
      "source": [
        "# Pop off the 0 indexed item\n",
        "list1.pop(0)\n",
        "list1"
      ],
      "execution_count": null,
      "outputs": [
        {
          "output_type": "execute_result",
          "data": {
            "text/plain": [
              "[2, 3, 'append me!']"
            ]
          },
          "metadata": {
            "tags": []
          },
          "execution_count": 102
        }
      ]
    },
    {
      "cell_type": "code",
      "metadata": {
        "id": "9ETmTb2-GYE2",
        "colab": {
          "base_uri": "https://localhost:8080/",
          "height": 35
        },
        "outputId": "96cf3ccf-0af8-4432-9c7c-dfe07b40508c"
      },
      "source": [
        "# Assign the popped element, remember default popped index is -1\n",
        "popped_item = list1.pop()\n",
        "popped_item"
      ],
      "execution_count": null,
      "outputs": [
        {
          "output_type": "execute_result",
          "data": {
            "application/vnd.google.colaboratory.intrinsic+json": {
              "type": "string"
            },
            "text/plain": [
              "'append me!'"
            ]
          },
          "metadata": {
            "tags": []
          },
          "execution_count": 103
        }
      ]
    },
    {
      "cell_type": "markdown",
      "metadata": {
        "id": "wcRpAc3WGgEN"
      },
      "source": [
        "***String Indexing***\n",
        "\n",
        "---\n",
        "\n",
        "We know strings are a sequence, which means Python can use indexes to call parts of the sequence. Let's learn how this works."
      ]
    },
    {
      "cell_type": "code",
      "metadata": {
        "id": "RZNy5Fv3Gp05"
      },
      "source": [
        "# Assign s as a string\n",
        "s = 'Hello World'"
      ],
      "execution_count": null,
      "outputs": []
    },
    {
      "cell_type": "code",
      "metadata": {
        "id": "g39mIopnGvUA",
        "colab": {
          "base_uri": "https://localhost:8080/",
          "height": 35
        },
        "outputId": "5fabc9c5-d451-49f6-d48a-e32e5bcc09a4"
      },
      "source": [
        "# Show first element (in this case a letter)\n",
        "s[0]"
      ],
      "execution_count": null,
      "outputs": [
        {
          "output_type": "execute_result",
          "data": {
            "application/vnd.google.colaboratory.intrinsic+json": {
              "type": "string"
            },
            "text/plain": [
              "'H'"
            ]
          },
          "metadata": {
            "tags": []
          },
          "execution_count": 107
        }
      ]
    },
    {
      "cell_type": "code",
      "metadata": {
        "id": "kyFtsoegGxtL",
        "colab": {
          "base_uri": "https://localhost:8080/",
          "height": 35
        },
        "outputId": "66895dfd-9dbd-4eb5-de8c-f95bddb2409e"
      },
      "source": [
        "s[1]"
      ],
      "execution_count": null,
      "outputs": [
        {
          "output_type": "execute_result",
          "data": {
            "application/vnd.google.colaboratory.intrinsic+json": {
              "type": "string"
            },
            "text/plain": [
              "'e'"
            ]
          },
          "metadata": {
            "tags": []
          },
          "execution_count": 106
        }
      ]
    },
    {
      "cell_type": "markdown",
      "metadata": {
        "id": "XxrM-dmeG6wz"
      },
      "source": [
        "# ***Dictionaries***"
      ]
    },
    {
      "cell_type": "markdown",
      "metadata": {
        "id": "V9kfEKAgHFS-"
      },
      "source": [
        "We've been learning about sequences in Python but now we're going to switch gears and learn about mappings in Python. \n",
        "\n",
        "So what are mappings? Mappings are a collection of objects that are stored by a key, unlike a sequence that stored objects by their relative position. This is an important distinction, since mappings won't retain order since they have objects defined by a key."
      ]
    },
    {
      "cell_type": "code",
      "metadata": {
        "id": "vpsCpUtiG9y0"
      },
      "source": [
        "# Make a dictionary with {} and : to signify a key and a value\n",
        "my_dict = {'key1':'value1','key2':'value2'}"
      ],
      "execution_count": null,
      "outputs": []
    },
    {
      "cell_type": "code",
      "metadata": {
        "id": "1OCOvkwzHNoa",
        "colab": {
          "base_uri": "https://localhost:8080/",
          "height": 35
        },
        "outputId": "efe84ee2-6d6c-4cfe-8674-8aa21996f98e"
      },
      "source": [
        "# Call values by their key\n",
        "my_dict['key2']"
      ],
      "execution_count": null,
      "outputs": [
        {
          "output_type": "execute_result",
          "data": {
            "application/vnd.google.colaboratory.intrinsic+json": {
              "type": "string"
            },
            "text/plain": [
              "'value2'"
            ]
          },
          "metadata": {
            "tags": []
          },
          "execution_count": 3
        }
      ]
    },
    {
      "cell_type": "markdown",
      "metadata": {
        "id": "WP0yQ8GzHQNJ"
      },
      "source": [
        "Its important to note that dictionaries are very flexible in the data types they can hold. For example:"
      ]
    },
    {
      "cell_type": "code",
      "metadata": {
        "id": "9jcCBIlrHWo0"
      },
      "source": [
        "my_dict = {'key1':123,'key2':[12,23,33],'key3':['item0','item1','item2']}"
      ],
      "execution_count": null,
      "outputs": []
    },
    {
      "cell_type": "code",
      "metadata": {
        "id": "t8B1qXwdHY7D",
        "colab": {
          "base_uri": "https://localhost:8080/",
          "height": 35
        },
        "outputId": "98ff6719-46ea-41d1-dc16-cd0a5e6348b0"
      },
      "source": [
        "# Let's call items from the dictionary\n",
        "my_dict['key3'][1]"
      ],
      "execution_count": null,
      "outputs": [
        {
          "output_type": "execute_result",
          "data": {
            "application/vnd.google.colaboratory.intrinsic+json": {
              "type": "string"
            },
            "text/plain": [
              "'item1'"
            ]
          },
          "metadata": {
            "tags": []
          },
          "execution_count": 8
        }
      ]
    },
    {
      "cell_type": "code",
      "metadata": {
        "id": "o9t7L3RUHbt4",
        "colab": {
          "base_uri": "https://localhost:8080/"
        },
        "outputId": "8d417c28-716c-4b16-dcbd-159a15fb1938"
      },
      "source": [
        "# Method to return a list of all keys \n",
        "my_dict.keys()"
      ],
      "execution_count": null,
      "outputs": [
        {
          "output_type": "execute_result",
          "data": {
            "text/plain": [
              "dict_keys(['key1', 'key2', 'key3'])"
            ]
          },
          "metadata": {
            "tags": []
          },
          "execution_count": 6
        }
      ]
    },
    {
      "cell_type": "code",
      "metadata": {
        "id": "mGxg1f5_HjqU",
        "colab": {
          "base_uri": "https://localhost:8080/"
        },
        "outputId": "4d17d51e-4eb7-4583-bede-a9bbb225fa92"
      },
      "source": [
        "# Method to grab all values\n",
        "my_dict.values()"
      ],
      "execution_count": null,
      "outputs": [
        {
          "output_type": "execute_result",
          "data": {
            "text/plain": [
              "dict_values([123, [12, 23, 33], ['item0', 'item1', 'item2']])"
            ]
          },
          "metadata": {
            "tags": []
          },
          "execution_count": 7
        }
      ]
    },
    {
      "cell_type": "markdown",
      "metadata": {
        "id": "hc-xiK22Hqwr"
      },
      "source": [
        "# ***Tuples***"
      ]
    },
    {
      "cell_type": "markdown",
      "metadata": {
        "id": "LJqwKd-yHzXn"
      },
      "source": [
        "In Python tuples are very similar to lists, however, unlike lists they are immutable meaning they can not be changed. You would use tuples to present things that shouldn't be changed, such as days of the week, or dates on a calendar."
      ]
    },
    {
      "cell_type": "markdown",
      "metadata": {
        "id": "9cjnqrOaHtzc"
      },
      "source": [
        "The construction of a tuples use () with elements separated by commas. For example:\n",
        "\n"
      ]
    },
    {
      "cell_type": "code",
      "metadata": {
        "id": "qeBPMGdeH6oi"
      },
      "source": [
        "# Create a tuple\n",
        "t = (1,2,3)"
      ],
      "execution_count": null,
      "outputs": []
    },
    {
      "cell_type": "code",
      "metadata": {
        "id": "AOXYF57PH8dA",
        "colab": {
          "base_uri": "https://localhost:8080/"
        },
        "outputId": "8a2235fa-4d19-4950-f6b5-1059ea86b863"
      },
      "source": [
        "# Check len just like a list\n",
        "len(t)"
      ],
      "execution_count": null,
      "outputs": [
        {
          "output_type": "execute_result",
          "data": {
            "text/plain": [
              "3"
            ]
          },
          "metadata": {
            "tags": []
          },
          "execution_count": 10
        }
      ]
    },
    {
      "cell_type": "code",
      "metadata": {
        "id": "VBzVAZBCH-Az",
        "colab": {
          "base_uri": "https://localhost:8080/"
        },
        "outputId": "26a68a2e-18c3-4808-fd5e-1f62699a6777"
      },
      "source": [
        "# Can also mix object types\n",
        "t = ('one',2)\n",
        "\n",
        "# Show\n",
        "t"
      ],
      "execution_count": null,
      "outputs": [
        {
          "output_type": "execute_result",
          "data": {
            "text/plain": [
              "('one', 2)"
            ]
          },
          "metadata": {
            "tags": []
          },
          "execution_count": 11
        }
      ]
    },
    {
      "cell_type": "code",
      "metadata": {
        "id": "XPeTAFmRIBy3",
        "colab": {
          "base_uri": "https://localhost:8080/",
          "height": 35
        },
        "outputId": "61290e0a-3e16-4a90-cb6e-f7a386ca78f5"
      },
      "source": [
        "# Use indexing just like we did in lists\n",
        "t[0]"
      ],
      "execution_count": null,
      "outputs": [
        {
          "output_type": "execute_result",
          "data": {
            "application/vnd.google.colaboratory.intrinsic+json": {
              "type": "string"
            },
            "text/plain": [
              "'one'"
            ]
          },
          "metadata": {
            "tags": []
          },
          "execution_count": 12
        }
      ]
    },
    {
      "cell_type": "code",
      "metadata": {
        "id": "WM3Gd2feIEF8",
        "colab": {
          "base_uri": "https://localhost:8080/"
        },
        "outputId": "a65329c9-d088-48cb-f170-28287629b5e9"
      },
      "source": [
        "# Slicing just like a list\n",
        "t[-1]"
      ],
      "execution_count": null,
      "outputs": [
        {
          "output_type": "execute_result",
          "data": {
            "text/plain": [
              "2"
            ]
          },
          "metadata": {
            "tags": []
          },
          "execution_count": 13
        }
      ]
    },
    {
      "cell_type": "markdown",
      "metadata": {
        "id": "qhrpdGncIGEq"
      },
      "source": [
        "Tuples have built-in methods, but not as many as lists do. Let's look at two of them:"
      ]
    },
    {
      "cell_type": "code",
      "metadata": {
        "id": "cWBQOQHgIJo3",
        "colab": {
          "base_uri": "https://localhost:8080/"
        },
        "outputId": "597503e0-a687-4694-a46a-c4e5b4ddb726"
      },
      "source": [
        "# Use .index to enter a value and return the index\n",
        "t.index('one')"
      ],
      "execution_count": null,
      "outputs": [
        {
          "output_type": "execute_result",
          "data": {
            "text/plain": [
              "0"
            ]
          },
          "metadata": {
            "tags": []
          },
          "execution_count": 14
        }
      ]
    },
    {
      "cell_type": "code",
      "metadata": {
        "id": "S40m3-XWILYV",
        "colab": {
          "base_uri": "https://localhost:8080/"
        },
        "outputId": "721cb323-e512-4779-b1dd-6da71e3f0061"
      },
      "source": [
        "# Use .count to count the number of times a value appears\n",
        "t.count('one')"
      ],
      "execution_count": null,
      "outputs": [
        {
          "output_type": "execute_result",
          "data": {
            "text/plain": [
              "1"
            ]
          },
          "metadata": {
            "tags": []
          },
          "execution_count": 15
        }
      ]
    },
    {
      "cell_type": "markdown",
      "metadata": {
        "id": "a8SSlVMkIQR1"
      },
      "source": [
        "***Immutability***\n",
        "\n",
        "\n",
        "It can't be stressed enough that tuples are immutable. To drive that point home:"
      ]
    },
    {
      "cell_type": "code",
      "metadata": {
        "id": "h30Y0F0XIX5z",
        "colab": {
          "base_uri": "https://localhost:8080/",
          "height": 162
        },
        "outputId": "f5472cb0-93d2-4e6b-aad5-e473058a6dc9"
      },
      "source": [
        "t[0]= 'change'"
      ],
      "execution_count": null,
      "outputs": [
        {
          "output_type": "error",
          "ename": "TypeError",
          "evalue": "ignored",
          "traceback": [
            "\u001b[0;31m---------------------------------------------------------------------------\u001b[0m",
            "\u001b[0;31mTypeError\u001b[0m                                 Traceback (most recent call last)",
            "\u001b[0;32m<ipython-input-16-1257c0aa9edd>\u001b[0m in \u001b[0;36m<module>\u001b[0;34m()\u001b[0m\n\u001b[0;32m----> 1\u001b[0;31m \u001b[0mt\u001b[0m\u001b[0;34m[\u001b[0m\u001b[0;36m0\u001b[0m\u001b[0;34m]\u001b[0m\u001b[0;34m=\u001b[0m \u001b[0;34m'change'\u001b[0m\u001b[0;34m\u001b[0m\u001b[0;34m\u001b[0m\u001b[0m\n\u001b[0m",
            "\u001b[0;31mTypeError\u001b[0m: 'tuple' object does not support item assignment"
          ]
        }
      ]
    },
    {
      "cell_type": "code",
      "metadata": {
        "id": "BtlZPoI3Icwa",
        "colab": {
          "base_uri": "https://localhost:8080/",
          "height": 162
        },
        "outputId": "9e53f8f9-0837-4ac4-bd9f-dbb2ddb56c92"
      },
      "source": [
        "t.append('nope')"
      ],
      "execution_count": null,
      "outputs": [
        {
          "output_type": "error",
          "ename": "AttributeError",
          "evalue": "ignored",
          "traceback": [
            "\u001b[0;31m---------------------------------------------------------------------------\u001b[0m",
            "\u001b[0;31mAttributeError\u001b[0m                            Traceback (most recent call last)",
            "\u001b[0;32m<ipython-input-17-b75f5b09ac19>\u001b[0m in \u001b[0;36m<module>\u001b[0;34m()\u001b[0m\n\u001b[0;32m----> 1\u001b[0;31m \u001b[0mt\u001b[0m\u001b[0;34m.\u001b[0m\u001b[0mappend\u001b[0m\u001b[0;34m(\u001b[0m\u001b[0;34m'nope'\u001b[0m\u001b[0;34m)\u001b[0m\u001b[0;34m\u001b[0m\u001b[0;34m\u001b[0m\u001b[0m\n\u001b[0m",
            "\u001b[0;31mAttributeError\u001b[0m: 'tuple' object has no attribute 'append'"
          ]
        }
      ]
    },
    {
      "cell_type": "markdown",
      "metadata": {
        "id": "bXFkQclCIhLf"
      },
      "source": [
        "***When to use Tuples***\n",
        "\n",
        "You may be wondering, \"Why bother using tuples when they have fewer available methods?\" To be honest, tuples are not used as often as lists in programming, but are used when immutability is necessary. If in your program you are passing around an object and need to make sure it does not get changed, then a tuple becomes your solution. It provides a convenient source of data integrity.\n",
        "\n",
        "You should now be able to create and use tuples in your programming as well as have an understanding of their immutability."
      ]
    }
  ]
}