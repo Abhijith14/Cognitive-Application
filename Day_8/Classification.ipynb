{
  "nbformat": 4,
  "nbformat_minor": 0,
  "metadata": {
    "colab": {
      "name": "Classification",
      "provenance": []
    },
    "kernelspec": {
      "name": "python3",
      "display_name": "Python 3"
    },
    "language_info": {
      "name": "python"
    }
  },
  "cells": [
    {
      "cell_type": "markdown",
      "metadata": {
        "id": "JwkqdnXWFPSQ"
      },
      "source": [
        "**Classification**\n",
        "\n",
        "In machine learning, classification refers to a predictive modeling problem where a class label is predicted for a given example of input data.\n",
        "\n",
        "Example:- classify if it is spam or not.\n",
        "Given a handwritten character, classify it as one of the known characters.\n",
        "\n"
      ]
    },
    {
      "cell_type": "markdown",
      "metadata": {
        "id": "vF3_ps9zFAHf"
      },
      "source": [
        "# **Predicting if a person would buy life insurance based on his age using logistic regression**\n",
        "\n",
        "\n",
        "Below is a binary logistic regression problem as there are only two possible outcomes (i.e. if person buys insurance or he/she doesn't)."
      ]
    },
    {
      "cell_type": "markdown",
      "metadata": {
        "id": "Jba197nD1Xx4"
      },
      "source": [
        "### Importing necessary modules"
      ]
    },
    {
      "cell_type": "code",
      "metadata": {
        "id": "SrZ-zy_1F6qO"
      },
      "source": [
        "import pandas as pd\n",
        "from matplotlib import pyplot as plt\n",
        "%matplotlib inline"
      ],
      "execution_count": null,
      "outputs": []
    },
    {
      "cell_type": "markdown",
      "metadata": {
        "id": "J-A4WDx81bdt"
      },
      "source": [
        "### Gathering dataset"
      ]
    },
    {
      "cell_type": "code",
      "metadata": {
        "colab": {
          "base_uri": "https://localhost:8080/",
          "height": 881
        },
        "id": "zRghGVFRF80i",
        "outputId": "4076e0b9-ad4f-47e5-a2a4-910f2836e282"
      },
      "source": [
        "url='https://raw.githubusercontent.com/codebasics/py/master/ML/7_logistic_reg/insurance_data.csv'\n",
        "df=pd.read_csv(url)\n",
        "df"
      ],
      "execution_count": null,
      "outputs": [
        {
          "output_type": "execute_result",
          "data": {
            "text/html": [
              "<div>\n",
              "<style scoped>\n",
              "    .dataframe tbody tr th:only-of-type {\n",
              "        vertical-align: middle;\n",
              "    }\n",
              "\n",
              "    .dataframe tbody tr th {\n",
              "        vertical-align: top;\n",
              "    }\n",
              "\n",
              "    .dataframe thead th {\n",
              "        text-align: right;\n",
              "    }\n",
              "</style>\n",
              "<table border=\"1\" class=\"dataframe\">\n",
              "  <thead>\n",
              "    <tr style=\"text-align: right;\">\n",
              "      <th></th>\n",
              "      <th>age</th>\n",
              "      <th>bought_insurance</th>\n",
              "    </tr>\n",
              "  </thead>\n",
              "  <tbody>\n",
              "    <tr>\n",
              "      <th>0</th>\n",
              "      <td>22</td>\n",
              "      <td>0</td>\n",
              "    </tr>\n",
              "    <tr>\n",
              "      <th>1</th>\n",
              "      <td>25</td>\n",
              "      <td>0</td>\n",
              "    </tr>\n",
              "    <tr>\n",
              "      <th>2</th>\n",
              "      <td>47</td>\n",
              "      <td>1</td>\n",
              "    </tr>\n",
              "    <tr>\n",
              "      <th>3</th>\n",
              "      <td>52</td>\n",
              "      <td>0</td>\n",
              "    </tr>\n",
              "    <tr>\n",
              "      <th>4</th>\n",
              "      <td>46</td>\n",
              "      <td>1</td>\n",
              "    </tr>\n",
              "    <tr>\n",
              "      <th>5</th>\n",
              "      <td>56</td>\n",
              "      <td>1</td>\n",
              "    </tr>\n",
              "    <tr>\n",
              "      <th>6</th>\n",
              "      <td>55</td>\n",
              "      <td>0</td>\n",
              "    </tr>\n",
              "    <tr>\n",
              "      <th>7</th>\n",
              "      <td>60</td>\n",
              "      <td>1</td>\n",
              "    </tr>\n",
              "    <tr>\n",
              "      <th>8</th>\n",
              "      <td>62</td>\n",
              "      <td>1</td>\n",
              "    </tr>\n",
              "    <tr>\n",
              "      <th>9</th>\n",
              "      <td>61</td>\n",
              "      <td>1</td>\n",
              "    </tr>\n",
              "    <tr>\n",
              "      <th>10</th>\n",
              "      <td>18</td>\n",
              "      <td>0</td>\n",
              "    </tr>\n",
              "    <tr>\n",
              "      <th>11</th>\n",
              "      <td>28</td>\n",
              "      <td>0</td>\n",
              "    </tr>\n",
              "    <tr>\n",
              "      <th>12</th>\n",
              "      <td>27</td>\n",
              "      <td>0</td>\n",
              "    </tr>\n",
              "    <tr>\n",
              "      <th>13</th>\n",
              "      <td>29</td>\n",
              "      <td>0</td>\n",
              "    </tr>\n",
              "    <tr>\n",
              "      <th>14</th>\n",
              "      <td>49</td>\n",
              "      <td>1</td>\n",
              "    </tr>\n",
              "    <tr>\n",
              "      <th>15</th>\n",
              "      <td>55</td>\n",
              "      <td>1</td>\n",
              "    </tr>\n",
              "    <tr>\n",
              "      <th>16</th>\n",
              "      <td>25</td>\n",
              "      <td>1</td>\n",
              "    </tr>\n",
              "    <tr>\n",
              "      <th>17</th>\n",
              "      <td>58</td>\n",
              "      <td>1</td>\n",
              "    </tr>\n",
              "    <tr>\n",
              "      <th>18</th>\n",
              "      <td>19</td>\n",
              "      <td>0</td>\n",
              "    </tr>\n",
              "    <tr>\n",
              "      <th>19</th>\n",
              "      <td>18</td>\n",
              "      <td>0</td>\n",
              "    </tr>\n",
              "    <tr>\n",
              "      <th>20</th>\n",
              "      <td>21</td>\n",
              "      <td>0</td>\n",
              "    </tr>\n",
              "    <tr>\n",
              "      <th>21</th>\n",
              "      <td>26</td>\n",
              "      <td>0</td>\n",
              "    </tr>\n",
              "    <tr>\n",
              "      <th>22</th>\n",
              "      <td>40</td>\n",
              "      <td>1</td>\n",
              "    </tr>\n",
              "    <tr>\n",
              "      <th>23</th>\n",
              "      <td>45</td>\n",
              "      <td>1</td>\n",
              "    </tr>\n",
              "    <tr>\n",
              "      <th>24</th>\n",
              "      <td>50</td>\n",
              "      <td>1</td>\n",
              "    </tr>\n",
              "    <tr>\n",
              "      <th>25</th>\n",
              "      <td>54</td>\n",
              "      <td>1</td>\n",
              "    </tr>\n",
              "    <tr>\n",
              "      <th>26</th>\n",
              "      <td>23</td>\n",
              "      <td>0</td>\n",
              "    </tr>\n",
              "  </tbody>\n",
              "</table>\n",
              "</div>"
            ],
            "text/plain": [
              "    age  bought_insurance\n",
              "0    22                 0\n",
              "1    25                 0\n",
              "2    47                 1\n",
              "3    52                 0\n",
              "4    46                 1\n",
              "5    56                 1\n",
              "6    55                 0\n",
              "7    60                 1\n",
              "8    62                 1\n",
              "9    61                 1\n",
              "10   18                 0\n",
              "11   28                 0\n",
              "12   27                 0\n",
              "13   29                 0\n",
              "14   49                 1\n",
              "15   55                 1\n",
              "16   25                 1\n",
              "17   58                 1\n",
              "18   19                 0\n",
              "19   18                 0\n",
              "20   21                 0\n",
              "21   26                 0\n",
              "22   40                 1\n",
              "23   45                 1\n",
              "24   50                 1\n",
              "25   54                 1\n",
              "26   23                 0"
            ]
          },
          "metadata": {
            "tags": []
          },
          "execution_count": 16
        }
      ]
    },
    {
      "cell_type": "markdown",
      "metadata": {
        "id": "DNEToxFf1eMk"
      },
      "source": [
        "### Data Visualization"
      ]
    },
    {
      "cell_type": "code",
      "metadata": {
        "colab": {
          "base_uri": "https://localhost:8080/",
          "height": 282
        },
        "id": "nwXHyMfIGO3E",
        "outputId": "ca21d48e-b36f-49cd-cd69-177ad45eb729"
      },
      "source": [
        "plt.scatter(df.age,df.bought_insurance,marker='+',color='red')"
      ],
      "execution_count": null,
      "outputs": [
        {
          "output_type": "execute_result",
          "data": {
            "text/plain": [
              "<matplotlib.collections.PathCollection at 0x7f1360c29b10>"
            ]
          },
          "metadata": {
            "tags": []
          },
          "execution_count": 17
        },
        {
          "output_type": "display_data",
          "data": {
            "image/png": "[encoded data removed]",
            "text/plain": [
              "<Figure size 432x288 with 1 Axes>"
            ]
          },
          "metadata": {
            "tags": [],
            "needs_background": "light"
          }
        }
      ]
    },
    {
      "cell_type": "markdown",
      "metadata": {
        "id": "vGWVfUzy1get"
      },
      "source": [
        "### Splitting dataset into train and test data"
      ]
    },
    {
      "cell_type": "code",
      "metadata": {
        "id": "BU53Vl_uGbYp"
      },
      "source": [
        "from sklearn.model_selection import train_test_split"
      ],
      "execution_count": null,
      "outputs": []
    },
    {
      "cell_type": "code",
      "metadata": {
        "id": "a4GkxWJvGdqG"
      },
      "source": [
        "X_train, X_test, y_train, y_test = train_test_split(df[['age']],df.bought_insurance,train_size=0.8)"
      ],
      "execution_count": null,
      "outputs": []
    },
    {
      "cell_type": "code",
      "metadata": {
        "colab": {
          "base_uri": "https://localhost:8080/",
          "height": 696
        },
        "id": "-duJ4M_dpaTD",
        "outputId": "c8b3a4ba-3d65-4f1c-928e-ef415cd5b827"
      },
      "source": [
        "X_train"
      ],
      "execution_count": null,
      "outputs": [
        {
          "output_type": "execute_result",
          "data": {
            "text/html": [
              "<div>\n",
              "<style scoped>\n",
              "    .dataframe tbody tr th:only-of-type {\n",
              "        vertical-align: middle;\n",
              "    }\n",
              "\n",
              "    .dataframe tbody tr th {\n",
              "        vertical-align: top;\n",
              "    }\n",
              "\n",
              "    .dataframe thead th {\n",
              "        text-align: right;\n",
              "    }\n",
              "</style>\n",
              "<table border=\"1\" class=\"dataframe\">\n",
              "  <thead>\n",
              "    <tr style=\"text-align: right;\">\n",
              "      <th></th>\n",
              "      <th>age</th>\n",
              "    </tr>\n",
              "  </thead>\n",
              "  <tbody>\n",
              "    <tr>\n",
              "      <th>17</th>\n",
              "      <td>58</td>\n",
              "    </tr>\n",
              "    <tr>\n",
              "      <th>24</th>\n",
              "      <td>50</td>\n",
              "    </tr>\n",
              "    <tr>\n",
              "      <th>0</th>\n",
              "      <td>22</td>\n",
              "    </tr>\n",
              "    <tr>\n",
              "      <th>8</th>\n",
              "      <td>62</td>\n",
              "    </tr>\n",
              "    <tr>\n",
              "      <th>3</th>\n",
              "      <td>52</td>\n",
              "    </tr>\n",
              "    <tr>\n",
              "      <th>22</th>\n",
              "      <td>40</td>\n",
              "    </tr>\n",
              "    <tr>\n",
              "      <th>25</th>\n",
              "      <td>54</td>\n",
              "    </tr>\n",
              "    <tr>\n",
              "      <th>18</th>\n",
              "      <td>19</td>\n",
              "    </tr>\n",
              "    <tr>\n",
              "      <th>12</th>\n",
              "      <td>27</td>\n",
              "    </tr>\n",
              "    <tr>\n",
              "      <th>20</th>\n",
              "      <td>21</td>\n",
              "    </tr>\n",
              "    <tr>\n",
              "      <th>4</th>\n",
              "      <td>46</td>\n",
              "    </tr>\n",
              "    <tr>\n",
              "      <th>9</th>\n",
              "      <td>61</td>\n",
              "    </tr>\n",
              "    <tr>\n",
              "      <th>1</th>\n",
              "      <td>25</td>\n",
              "    </tr>\n",
              "    <tr>\n",
              "      <th>26</th>\n",
              "      <td>23</td>\n",
              "    </tr>\n",
              "    <tr>\n",
              "      <th>2</th>\n",
              "      <td>47</td>\n",
              "    </tr>\n",
              "    <tr>\n",
              "      <th>21</th>\n",
              "      <td>26</td>\n",
              "    </tr>\n",
              "    <tr>\n",
              "      <th>10</th>\n",
              "      <td>18</td>\n",
              "    </tr>\n",
              "    <tr>\n",
              "      <th>16</th>\n",
              "      <td>25</td>\n",
              "    </tr>\n",
              "    <tr>\n",
              "      <th>19</th>\n",
              "      <td>18</td>\n",
              "    </tr>\n",
              "    <tr>\n",
              "      <th>5</th>\n",
              "      <td>56</td>\n",
              "    </tr>\n",
              "    <tr>\n",
              "      <th>23</th>\n",
              "      <td>45</td>\n",
              "    </tr>\n",
              "  </tbody>\n",
              "</table>\n",
              "</div>"
            ],
            "text/plain": [
              "    age\n",
              "17   58\n",
              "24   50\n",
              "0    22\n",
              "8    62\n",
              "3    52\n",
              "22   40\n",
              "25   54\n",
              "18   19\n",
              "12   27\n",
              "20   21\n",
              "4    46\n",
              "9    61\n",
              "1    25\n",
              "26   23\n",
              "2    47\n",
              "21   26\n",
              "10   18\n",
              "16   25\n",
              "19   18\n",
              "5    56\n",
              "23   45"
            ]
          },
          "metadata": {
            "tags": []
          },
          "execution_count": 20
        }
      ]
    },
    {
      "cell_type": "code",
      "metadata": {
        "colab": {
          "base_uri": "https://localhost:8080/",
          "height": 234
        },
        "id": "4Bt8h8teGf9u",
        "outputId": "d8bbf6f2-0dfb-4108-d93e-efcd4c32cf5b"
      },
      "source": [
        "X_test"
      ],
      "execution_count": null,
      "outputs": [
        {
          "output_type": "execute_result",
          "data": {
            "text/html": [
              "<div>\n",
              "<style scoped>\n",
              "    .dataframe tbody tr th:only-of-type {\n",
              "        vertical-align: middle;\n",
              "    }\n",
              "\n",
              "    .dataframe tbody tr th {\n",
              "        vertical-align: top;\n",
              "    }\n",
              "\n",
              "    .dataframe thead th {\n",
              "        text-align: right;\n",
              "    }\n",
              "</style>\n",
              "<table border=\"1\" class=\"dataframe\">\n",
              "  <thead>\n",
              "    <tr style=\"text-align: right;\">\n",
              "      <th></th>\n",
              "      <th>age</th>\n",
              "    </tr>\n",
              "  </thead>\n",
              "  <tbody>\n",
              "    <tr>\n",
              "      <th>13</th>\n",
              "      <td>29</td>\n",
              "    </tr>\n",
              "    <tr>\n",
              "      <th>7</th>\n",
              "      <td>60</td>\n",
              "    </tr>\n",
              "    <tr>\n",
              "      <th>11</th>\n",
              "      <td>28</td>\n",
              "    </tr>\n",
              "    <tr>\n",
              "      <th>6</th>\n",
              "      <td>55</td>\n",
              "    </tr>\n",
              "    <tr>\n",
              "      <th>14</th>\n",
              "      <td>49</td>\n",
              "    </tr>\n",
              "    <tr>\n",
              "      <th>15</th>\n",
              "      <td>55</td>\n",
              "    </tr>\n",
              "  </tbody>\n",
              "</table>\n",
              "</div>"
            ],
            "text/plain": [
              "    age\n",
              "13   29\n",
              "7    60\n",
              "11   28\n",
              "6    55\n",
              "14   49\n",
              "15   55"
            ]
          },
          "metadata": {
            "tags": []
          },
          "execution_count": 21
        }
      ]
    },
    {
      "cell_type": "markdown",
      "metadata": {
        "id": "Bn6Rx6K11oQ8"
      },
      "source": [
        "### Let's try predicting with our linear regression model"
      ]
    },
    {
      "cell_type": "code",
      "metadata": {
        "id": "o8afmgoUJUZ8"
      },
      "source": [
        "from sklearn.linear_model import LinearRegression\n",
        "mod = LinearRegression()"
      ],
      "execution_count": null,
      "outputs": []
    },
    {
      "cell_type": "code",
      "metadata": {
        "colab": {
          "base_uri": "https://localhost:8080/"
        },
        "id": "v2Q-CmoHJcB2",
        "outputId": "1175fa0e-aafe-42fe-9489-2eda14e4a992"
      },
      "source": [
        "mod.fit(X_train,y_train)"
      ],
      "execution_count": null,
      "outputs": [
        {
          "output_type": "execute_result",
          "data": {
            "text/plain": [
              "LinearRegression(copy_X=True, fit_intercept=True, n_jobs=None, normalize=False)"
            ]
          },
          "metadata": {
            "tags": []
          },
          "execution_count": 23
        }
      ]
    },
    {
      "cell_type": "code",
      "metadata": {
        "colab": {
          "base_uri": "https://localhost:8080/"
        },
        "id": "tz-5wVLMJh70",
        "outputId": "097b77c5-bf77-4b44-bda3-88b55cb23dc9"
      },
      "source": [
        "mod.predict(X_test)"
      ],
      "execution_count": null,
      "outputs": [
        {
          "output_type": "execute_result",
          "data": {
            "text/plain": [
              "array([0.3046875 , 1.07161458, 0.27994792, 0.94791667, 0.79947917,\n",
              "       0.94791667])"
            ]
          },
          "metadata": {
            "tags": []
          },
          "execution_count": 24
        }
      ]
    },
    {
      "cell_type": "code",
      "metadata": {
        "colab": {
          "base_uri": "https://localhost:8080/",
          "height": 279
        },
        "id": "xtbBNcj6J4Av",
        "outputId": "8ccdd8d4-ed86-4d09-9e23-bd8c16986971"
      },
      "source": [
        "plt.xlabel('Age')\n",
        "plt.ylabel('Bought Insurance')\n",
        "plt.scatter(X_train,y_train,color='Blue',marker='*')\n",
        "plt.plot(X_train,mod.predict(X_train),color='Red')\n",
        "plt.show()"
      ],
      "execution_count": null,
      "outputs": [
        {
          "output_type": "display_data",
          "data": {
            "image/png": "[encoded data removed]",
            "text/plain": [
              "<Figure size 432x288 with 1 Axes>"
            ]
          },
          "metadata": {
            "tags": [],
            "needs_background": "light"
          }
        }
      ]
    },
    {
      "cell_type": "code",
      "metadata": {
        "colab": {
          "base_uri": "https://localhost:8080/"
        },
        "id": "JzktQzaTJqh0",
        "outputId": "3d2c1d62-4bf9-48ac-d0da-77fc0f95681f"
      },
      "source": [
        "mod.score(X_test,y_test)"
      ],
      "execution_count": null,
      "outputs": [
        {
          "output_type": "execute_result",
          "data": {
            "text/plain": [
              "0.25479917173032407"
            ]
          },
          "metadata": {
            "tags": []
          },
          "execution_count": 26
        }
      ]
    },
    {
      "cell_type": "markdown",
      "metadata": {
        "id": "P9J14KzfKu4s"
      },
      "source": [
        "**Now we will be using Logistic Regression**"
      ]
    },
    {
      "cell_type": "code",
      "metadata": {
        "id": "3NpGg3aCGiq5"
      },
      "source": [
        "from sklearn.linear_model import LogisticRegression\n",
        "model = LogisticRegression()"
      ],
      "execution_count": null,
      "outputs": []
    },
    {
      "cell_type": "code",
      "metadata": {
        "colab": {
          "base_uri": "https://localhost:8080/"
        },
        "id": "Cp0tmG-NGmdF",
        "outputId": "fc322d9d-4e01-4aed-8ebc-7e725068bed2"
      },
      "source": [
        "model.fit(X_train, y_train)"
      ],
      "execution_count": null,
      "outputs": [
        {
          "output_type": "execute_result",
          "data": {
            "text/plain": [
              "LogisticRegression(C=1.0, class_weight=None, dual=False, fit_intercept=True,\n",
              "                   intercept_scaling=1, l1_ratio=None, max_iter=100,\n",
              "                   multi_class='auto', n_jobs=None, penalty='l2',\n",
              "                   random_state=None, solver='lbfgs', tol=0.0001, verbose=0,\n",
              "                   warm_start=False)"
            ]
          },
          "metadata": {
            "tags": []
          },
          "execution_count": 28
        }
      ]
    },
    {
      "cell_type": "code",
      "metadata": {
        "colab": {
          "base_uri": "https://localhost:8080/",
          "height": 234
        },
        "id": "NYpS-4ROGpSv",
        "outputId": "3eb2bb41-9a4e-4de8-bee7-98272807dc67"
      },
      "source": [
        "X_test"
      ],
      "execution_count": null,
      "outputs": [
        {
          "output_type": "execute_result",
          "data": {
            "text/html": [
              "<div>\n",
              "<style scoped>\n",
              "    .dataframe tbody tr th:only-of-type {\n",
              "        vertical-align: middle;\n",
              "    }\n",
              "\n",
              "    .dataframe tbody tr th {\n",
              "        vertical-align: top;\n",
              "    }\n",
              "\n",
              "    .dataframe thead th {\n",
              "        text-align: right;\n",
              "    }\n",
              "</style>\n",
              "<table border=\"1\" class=\"dataframe\">\n",
              "  <thead>\n",
              "    <tr style=\"text-align: right;\">\n",
              "      <th></th>\n",
              "      <th>age</th>\n",
              "    </tr>\n",
              "  </thead>\n",
              "  <tbody>\n",
              "    <tr>\n",
              "      <th>13</th>\n",
              "      <td>29</td>\n",
              "    </tr>\n",
              "    <tr>\n",
              "      <th>7</th>\n",
              "      <td>60</td>\n",
              "    </tr>\n",
              "    <tr>\n",
              "      <th>11</th>\n",
              "      <td>28</td>\n",
              "    </tr>\n",
              "    <tr>\n",
              "      <th>6</th>\n",
              "      <td>55</td>\n",
              "    </tr>\n",
              "    <tr>\n",
              "      <th>14</th>\n",
              "      <td>49</td>\n",
              "    </tr>\n",
              "    <tr>\n",
              "      <th>15</th>\n",
              "      <td>55</td>\n",
              "    </tr>\n",
              "  </tbody>\n",
              "</table>\n",
              "</div>"
            ],
            "text/plain": [
              "    age\n",
              "13   29\n",
              "7    60\n",
              "11   28\n",
              "6    55\n",
              "14   49\n",
              "15   55"
            ]
          },
          "metadata": {
            "tags": []
          },
          "execution_count": 30
        }
      ]
    },
    {
      "cell_type": "code",
      "metadata": {
        "colab": {
          "base_uri": "https://localhost:8080/",
          "height": 696
        },
        "id": "6ZMv08Nl0vcO",
        "outputId": "c1d88274-1d19-4089-8fdd-7d4ae965a422"
      },
      "source": [
        "X_train"
      ],
      "execution_count": null,
      "outputs": [
        {
          "output_type": "execute_result",
          "data": {
            "text/html": [
              "<div>\n",
              "<style scoped>\n",
              "    .dataframe tbody tr th:only-of-type {\n",
              "        vertical-align: middle;\n",
              "    }\n",
              "\n",
              "    .dataframe tbody tr th {\n",
              "        vertical-align: top;\n",
              "    }\n",
              "\n",
              "    .dataframe thead th {\n",
              "        text-align: right;\n",
              "    }\n",
              "</style>\n",
              "<table border=\"1\" class=\"dataframe\">\n",
              "  <thead>\n",
              "    <tr style=\"text-align: right;\">\n",
              "      <th></th>\n",
              "      <th>age</th>\n",
              "    </tr>\n",
              "  </thead>\n",
              "  <tbody>\n",
              "    <tr>\n",
              "      <th>17</th>\n",
              "      <td>58</td>\n",
              "    </tr>\n",
              "    <tr>\n",
              "      <th>24</th>\n",
              "      <td>50</td>\n",
              "    </tr>\n",
              "    <tr>\n",
              "      <th>0</th>\n",
              "      <td>22</td>\n",
              "    </tr>\n",
              "    <tr>\n",
              "      <th>8</th>\n",
              "      <td>62</td>\n",
              "    </tr>\n",
              "    <tr>\n",
              "      <th>3</th>\n",
              "      <td>52</td>\n",
              "    </tr>\n",
              "    <tr>\n",
              "      <th>22</th>\n",
              "      <td>40</td>\n",
              "    </tr>\n",
              "    <tr>\n",
              "      <th>25</th>\n",
              "      <td>54</td>\n",
              "    </tr>\n",
              "    <tr>\n",
              "      <th>18</th>\n",
              "      <td>19</td>\n",
              "    </tr>\n",
              "    <tr>\n",
              "      <th>12</th>\n",
              "      <td>27</td>\n",
              "    </tr>\n",
              "    <tr>\n",
              "      <th>20</th>\n",
              "      <td>21</td>\n",
              "    </tr>\n",
              "    <tr>\n",
              "      <th>4</th>\n",
              "      <td>46</td>\n",
              "    </tr>\n",
              "    <tr>\n",
              "      <th>9</th>\n",
              "      <td>61</td>\n",
              "    </tr>\n",
              "    <tr>\n",
              "      <th>1</th>\n",
              "      <td>25</td>\n",
              "    </tr>\n",
              "    <tr>\n",
              "      <th>26</th>\n",
              "      <td>23</td>\n",
              "    </tr>\n",
              "    <tr>\n",
              "      <th>2</th>\n",
              "      <td>47</td>\n",
              "    </tr>\n",
              "    <tr>\n",
              "      <th>21</th>\n",
              "      <td>26</td>\n",
              "    </tr>\n",
              "    <tr>\n",
              "      <th>10</th>\n",
              "      <td>18</td>\n",
              "    </tr>\n",
              "    <tr>\n",
              "      <th>16</th>\n",
              "      <td>25</td>\n",
              "    </tr>\n",
              "    <tr>\n",
              "      <th>19</th>\n",
              "      <td>18</td>\n",
              "    </tr>\n",
              "    <tr>\n",
              "      <th>5</th>\n",
              "      <td>56</td>\n",
              "    </tr>\n",
              "    <tr>\n",
              "      <th>23</th>\n",
              "      <td>45</td>\n",
              "    </tr>\n",
              "  </tbody>\n",
              "</table>\n",
              "</div>"
            ],
            "text/plain": [
              "    age\n",
              "17   58\n",
              "24   50\n",
              "0    22\n",
              "8    62\n",
              "3    52\n",
              "22   40\n",
              "25   54\n",
              "18   19\n",
              "12   27\n",
              "20   21\n",
              "4    46\n",
              "9    61\n",
              "1    25\n",
              "26   23\n",
              "2    47\n",
              "21   26\n",
              "10   18\n",
              "16   25\n",
              "19   18\n",
              "5    56\n",
              "23   45"
            ]
          },
          "metadata": {
            "tags": []
          },
          "execution_count": 29
        }
      ]
    },
    {
      "cell_type": "code",
      "metadata": {
        "colab": {
          "base_uri": "https://localhost:8080/"
        },
        "id": "EQeoFdmBrU-D",
        "outputId": "fbe0925d-45d3-4aab-cf39-082f28ea3110"
      },
      "source": [
        "y_train"
      ],
      "execution_count": null,
      "outputs": [
        {
          "output_type": "execute_result",
          "data": {
            "text/plain": [
              "17    1\n",
              "24    1\n",
              "0     0\n",
              "8     1\n",
              "3     0\n",
              "22    1\n",
              "25    1\n",
              "18    0\n",
              "12    0\n",
              "20    0\n",
              "4     1\n",
              "9     1\n",
              "1     0\n",
              "26    0\n",
              "2     1\n",
              "21    0\n",
              "10    0\n",
              "16    1\n",
              "19    0\n",
              "5     1\n",
              "23    1\n",
              "Name: bought_insurance, dtype: int64"
            ]
          },
          "metadata": {
            "tags": []
          },
          "execution_count": 31
        }
      ]
    },
    {
      "cell_type": "code",
      "metadata": {
        "colab": {
          "base_uri": "https://localhost:8080/"
        },
        "id": "pfsS9iQ7rXAW",
        "outputId": "8f59088c-ce7e-482a-af43-c23f88fc0a10"
      },
      "source": [
        "y_test"
      ],
      "execution_count": null,
      "outputs": [
        {
          "output_type": "execute_result",
          "data": {
            "text/plain": [
              "13    0\n",
              "7     1\n",
              "11    0\n",
              "6     0\n",
              "14    1\n",
              "15    1\n",
              "Name: bought_insurance, dtype: int64"
            ]
          },
          "metadata": {
            "tags": []
          },
          "execution_count": 32
        }
      ]
    },
    {
      "cell_type": "code",
      "metadata": {
        "id": "r8WvPXFfGrt9",
        "colab": {
          "base_uri": "https://localhost:8080/"
        },
        "outputId": "40a26c51-26d5-4ab8-92ad-975b6c8a1b10"
      },
      "source": [
        "y_predicted = model.predict(X_test)\n",
        "y_predicted"
      ],
      "execution_count": null,
      "outputs": [
        {
          "output_type": "execute_result",
          "data": {
            "text/plain": [
              "array([0, 1, 0, 1, 1, 1])"
            ]
          },
          "metadata": {
            "tags": []
          },
          "execution_count": 34
        }
      ]
    },
    {
      "cell_type": "code",
      "metadata": {
        "colab": {
          "base_uri": "https://localhost:8080/"
        },
        "id": "h7dZctSqGxcg",
        "outputId": "28b4c7b5-4e12-45d7-ffd9-ecde05cac81c"
      },
      "source": [
        "model.predict_proba(X_test)"
      ],
      "execution_count": null,
      "outputs": [
        {
          "output_type": "execute_result",
          "data": {
            "text/plain": [
              "array([[0.7429934 , 0.2570066 ],\n",
              "       [0.02267687, 0.97732313],\n",
              "       [0.77157614, 0.22842386],\n",
              "       [0.0480973 , 0.9519027 ],\n",
              "       [0.11391557, 0.88608443],\n",
              "       [0.0480973 , 0.9519027 ]])"
            ]
          },
          "metadata": {
            "tags": []
          },
          "execution_count": 35
        }
      ]
    },
    {
      "cell_type": "code",
      "metadata": {
        "id": "GIRlfnRxGz_r",
        "colab": {
          "base_uri": "https://localhost:8080/"
        },
        "outputId": "f2bb1d43-8be3-4609-bd03-625df7534d7f"
      },
      "source": [
        "y_predicted"
      ],
      "execution_count": null,
      "outputs": [
        {
          "output_type": "execute_result",
          "data": {
            "text/plain": [
              "array([0, 1, 0, 1, 1, 1])"
            ]
          },
          "metadata": {
            "tags": []
          },
          "execution_count": 36
        }
      ]
    },
    {
      "cell_type": "code",
      "metadata": {
        "colab": {
          "base_uri": "https://localhost:8080/"
        },
        "id": "mRbaT8F9HPI5",
        "outputId": "9047c3a8-dddf-4796-a089-decda299babe"
      },
      "source": [
        "model.score(X_test,y_test)"
      ],
      "execution_count": null,
      "outputs": [
        {
          "output_type": "execute_result",
          "data": {
            "text/plain": [
              "0.8333333333333334"
            ]
          },
          "metadata": {
            "tags": []
          },
          "execution_count": 37
        }
      ]
    },
    {
      "cell_type": "markdown",
      "metadata": {
        "id": "pi-W9u4xG2IH"
      },
      "source": [
        "**Lets defined sigmoid function now and do the math with hand**"
      ]
    },
    {
      "cell_type": "markdown",
      "metadata": {
        "id": "sh947nykH5h2"
      },
      "source": [
        "The main reason why we use sigmoid function is because it exists between (0 to 1). Therefore, it is especially used for models where we have to predict the probability as an output. Since probability of anything exists only between the range of 0 and 1, sigmoid is the right choice. The function is differentiable."
      ]
    },
    {
      "cell_type": "markdown",
      "metadata": {
        "id": "g6Qmd9S2HdRY"
      },
      "source": [
        "![image.png](data:image/png;base64,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)"
      ]
    },
    {
      "cell_type": "code",
      "metadata": {
        "id": "7FRATh_CHSRy"
      },
      "source": [
        "import math\n",
        "def sigmoid(x):\n",
        "  return 1 / (1 + math.exp(-x))"
      ],
      "execution_count": null,
      "outputs": []
    },
    {
      "cell_type": "code",
      "metadata": {
        "colab": {
          "base_uri": "https://localhost:8080/"
        },
        "id": "T8Gc1gwXXwu2",
        "outputId": "f82af5c8-a654-4b1b-e97d-d5c7d2af7ac0"
      },
      "source": [
        "model.coef_"
      ],
      "execution_count": null,
      "outputs": [
        {
          "output_type": "execute_result",
          "data": {
            "text/plain": [
              "array([[0.15564701]])"
            ]
          },
          "metadata": {
            "tags": []
          },
          "execution_count": 39
        }
      ]
    },
    {
      "cell_type": "code",
      "metadata": {
        "colab": {
          "base_uri": "https://localhost:8080/"
        },
        "id": "SgOt5Ze1X8XH",
        "outputId": "b9f272c5-8b60-400f-ca67-05c51ed80a86"
      },
      "source": [
        "model.intercept_"
      ],
      "execution_count": null,
      "outputs": [
        {
          "output_type": "execute_result",
          "data": {
            "text/plain": [
              "array([-5.57534856])"
            ]
          },
          "metadata": {
            "tags": []
          },
          "execution_count": 40
        }
      ]
    },
    {
      "cell_type": "code",
      "metadata": {
        "id": "1srA7aFzHV28"
      },
      "source": [
        "def prediction_function(age):\n",
        "    z = 0.16 * age - 5.58 # 0.04150133 ~ 0.042 and -1.52726963 ~ -1.53\n",
        "    y = sigmoid(z)\n",
        "    return y"
      ],
      "execution_count": null,
      "outputs": []
    },
    {
      "cell_type": "code",
      "metadata": {
        "colab": {
          "base_uri": "https://localhost:8080/"
        },
        "id": "grIHnrzELK0u",
        "outputId": "5cab11f6-b405-4c3d-b4cf-1a83a0a06890"
      },
      "source": [
        "age = 20\n",
        "prediction_function(age)"
      ],
      "execution_count": null,
      "outputs": [
        {
          "output_type": "execute_result",
          "data": {
            "text/plain": [
              "0.08471056573073579"
            ]
          },
          "metadata": {
            "tags": []
          },
          "execution_count": 43
        }
      ]
    },
    {
      "cell_type": "code",
      "metadata": {
        "colab": {
          "base_uri": "https://localhost:8080/"
        },
        "id": "eBrs0yMKLMox",
        "outputId": "87236af6-e819-4930-8da7-0564c3459207"
      },
      "source": [
        "age = 43\n",
        "prediction_function(age)"
      ],
      "execution_count": null,
      "outputs": [
        {
          "output_type": "execute_result",
          "data": {
            "text/plain": [
              "0.7858349830425586"
            ]
          },
          "metadata": {
            "tags": []
          },
          "execution_count": 44
        }
      ]
    },
    {
      "cell_type": "code",
      "metadata": {
        "id": "JMpl9NrPupWJ"
      },
      "source": [
        ""
      ],
      "execution_count": null,
      "outputs": []
    }
  ]
}