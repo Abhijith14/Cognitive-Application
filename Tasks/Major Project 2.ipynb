{
 "cells": [
  {
   "cell_type": "markdown",
   "id": "9421d232",
   "metadata": {},
   "source": [
    "# Major Project 2 - Cognitive Application"
   ]
  },
  {
   "cell_type": "markdown",
   "id": "e22a85fe",
   "metadata": {},
   "source": [
    "## Google App Rating - Data Analysis"
   ]
  },
  {
   "cell_type": "markdown",
   "id": "5c8d2203",
   "metadata": {},
   "source": [
    "There are more than 3.04 million apps found on Google Play Store. With this\n",
    "project /article we want you to take us through a journey of analyzing various\n",
    "apps found on the play store with the help of different python libraries.\n",
    "Dataset: The dataset is been taken from Kaggle, which can be found in the\n",
    "attachments.\n",
    "\n",
    "App rating, reviews, price, and installs have been analyzed against their\n",
    "respective categories. Dataset has been cleaned and downloaded from\n",
    "Kaggle.\n",
    "You must present an entire overview of the relationship between all the\n",
    "parameters and how do they add to the efficiency of the product. (Compare\n",
    "the parameters to analyze the profit margins of the application)"
   ]
  },
  {
   "cell_type": "code",
   "execution_count": 1,
   "id": "0b1431b8",
   "metadata": {},
   "outputs": [],
   "source": [
    "import pandas as pd\n",
    "import matplotlib.pyplot as plt\n",
    "import seaborn as sns\n",
    "import numpy as np"
   ]
  },
  {
   "cell_type": "code",
   "execution_count": 2,
   "id": "f2fa0408",
   "metadata": {},
   "outputs": [],
   "source": [
    "df = pd.read_csv(\"data/googleplaystore.csv\")"
   ]
  },
  {
   "cell_type": "code",
   "execution_count": 3,
   "id": "763ac53e",
   "metadata": {},
   "outputs": [
    {
     "data": {
      "text/html": [
       "<div>\n",
       "<style scoped>\n",
       "    .dataframe tbody tr th:only-of-type {\n",
       "        vertical-align: middle;\n",
       "    }\n",
       "\n",
       "    .dataframe tbody tr th {\n",
       "        vertical-align: top;\n",
       "    }\n",
       "\n",
       "    .dataframe thead th {\n",
       "        text-align: right;\n",
       "    }\n",
       "</style>\n",
       "<table border=\"1\" class=\"dataframe\">\n",
       "  <thead>\n",
       "    <tr style=\"text-align: right;\">\n",
       "      <th></th>\n",
       "      <th>App</th>\n",
       "      <th>Category</th>\n",
       "      <th>Rating</th>\n",
       "      <th>Reviews</th>\n",
       "      <th>Size</th>\n",
       "      <th>Installs</th>\n",
       "      <th>Type</th>\n",
       "      <th>Price</th>\n",
       "      <th>Content Rating</th>\n",
       "      <th>Genres</th>\n",
       "      <th>Last Updated</th>\n",
       "      <th>Current Ver</th>\n",
       "      <th>Android Ver</th>\n",
       "    </tr>\n",
       "  </thead>\n",
       "  <tbody>\n",
       "    <tr>\n",
       "      <th>0</th>\n",
       "      <td>Photo Editor &amp; Candy Camera &amp; Grid &amp; ScrapBook</td>\n",
       "      <td>ART_AND_DESIGN</td>\n",
       "      <td>4.1</td>\n",
       "      <td>159</td>\n",
       "      <td>19M</td>\n",
       "      <td>10,000+</td>\n",
       "      <td>Free</td>\n",
       "      <td>0</td>\n",
       "      <td>Everyone</td>\n",
       "      <td>Art &amp; Design</td>\n",
       "      <td>January 7, 2018</td>\n",
       "      <td>1.0.0</td>\n",
       "      <td>4.0.3 and up</td>\n",
       "    </tr>\n",
       "    <tr>\n",
       "      <th>1</th>\n",
       "      <td>Coloring book moana</td>\n",
       "      <td>ART_AND_DESIGN</td>\n",
       "      <td>3.9</td>\n",
       "      <td>967</td>\n",
       "      <td>14M</td>\n",
       "      <td>500,000+</td>\n",
       "      <td>Free</td>\n",
       "      <td>0</td>\n",
       "      <td>Everyone</td>\n",
       "      <td>Art &amp; Design;Pretend Play</td>\n",
       "      <td>January 15, 2018</td>\n",
       "      <td>2.0.0</td>\n",
       "      <td>4.0.3 and up</td>\n",
       "    </tr>\n",
       "    <tr>\n",
       "      <th>2</th>\n",
       "      <td>U Launcher Lite – FREE Live Cool Themes, Hide ...</td>\n",
       "      <td>ART_AND_DESIGN</td>\n",
       "      <td>4.7</td>\n",
       "      <td>87510</td>\n",
       "      <td>8.7M</td>\n",
       "      <td>5,000,000+</td>\n",
       "      <td>Free</td>\n",
       "      <td>0</td>\n",
       "      <td>Everyone</td>\n",
       "      <td>Art &amp; Design</td>\n",
       "      <td>August 1, 2018</td>\n",
       "      <td>1.2.4</td>\n",
       "      <td>4.0.3 and up</td>\n",
       "    </tr>\n",
       "    <tr>\n",
       "      <th>3</th>\n",
       "      <td>Sketch - Draw &amp; Paint</td>\n",
       "      <td>ART_AND_DESIGN</td>\n",
       "      <td>4.5</td>\n",
       "      <td>215644</td>\n",
       "      <td>25M</td>\n",
       "      <td>50,000,000+</td>\n",
       "      <td>Free</td>\n",
       "      <td>0</td>\n",
       "      <td>Teen</td>\n",
       "      <td>Art &amp; Design</td>\n",
       "      <td>June 8, 2018</td>\n",
       "      <td>Varies with device</td>\n",
       "      <td>4.2 and up</td>\n",
       "    </tr>\n",
       "    <tr>\n",
       "      <th>4</th>\n",
       "      <td>Pixel Draw - Number Art Coloring Book</td>\n",
       "      <td>ART_AND_DESIGN</td>\n",
       "      <td>4.3</td>\n",
       "      <td>967</td>\n",
       "      <td>2.8M</td>\n",
       "      <td>100,000+</td>\n",
       "      <td>Free</td>\n",
       "      <td>0</td>\n",
       "      <td>Everyone</td>\n",
       "      <td>Art &amp; Design;Creativity</td>\n",
       "      <td>June 20, 2018</td>\n",
       "      <td>1.1</td>\n",
       "      <td>4.4 and up</td>\n",
       "    </tr>\n",
       "  </tbody>\n",
       "</table>\n",
       "</div>"
      ],
      "text/plain": [
       "                                                 App        Category  Rating  \\\n",
       "0     Photo Editor & Candy Camera & Grid & ScrapBook  ART_AND_DESIGN     4.1   \n",
       "1                                Coloring book moana  ART_AND_DESIGN     3.9   \n",
       "2  U Launcher Lite – FREE Live Cool Themes, Hide ...  ART_AND_DESIGN     4.7   \n",
       "3                              Sketch - Draw & Paint  ART_AND_DESIGN     4.5   \n",
       "4              Pixel Draw - Number Art Coloring Book  ART_AND_DESIGN     4.3   \n",
       "\n",
       "  Reviews  Size     Installs  Type Price Content Rating  \\\n",
       "0     159   19M      10,000+  Free     0       Everyone   \n",
       "1     967   14M     500,000+  Free     0       Everyone   \n",
       "2   87510  8.7M   5,000,000+  Free     0       Everyone   \n",
       "3  215644   25M  50,000,000+  Free     0           Teen   \n",
       "4     967  2.8M     100,000+  Free     0       Everyone   \n",
       "\n",
       "                      Genres      Last Updated         Current Ver  \\\n",
       "0               Art & Design   January 7, 2018               1.0.0   \n",
       "1  Art & Design;Pretend Play  January 15, 2018               2.0.0   \n",
       "2               Art & Design    August 1, 2018               1.2.4   \n",
       "3               Art & Design      June 8, 2018  Varies with device   \n",
       "4    Art & Design;Creativity     June 20, 2018                 1.1   \n",
       "\n",
       "    Android Ver  \n",
       "0  4.0.3 and up  \n",
       "1  4.0.3 and up  \n",
       "2  4.0.3 and up  \n",
       "3    4.2 and up  \n",
       "4    4.4 and up  "
      ]
     },
     "execution_count": 3,
     "metadata": {},
     "output_type": "execute_result"
    }
   ],
   "source": [
    "df.head()"
   ]
  },
  {
   "cell_type": "code",
   "execution_count": 4,
   "id": "a406a23f",
   "metadata": {},
   "outputs": [
    {
     "name": "stdout",
     "output_type": "stream",
     "text": [
      "<class 'pandas.core.frame.DataFrame'>\n",
      "RangeIndex: 10841 entries, 0 to 10840\n",
      "Data columns (total 13 columns):\n",
      " #   Column          Non-Null Count  Dtype  \n",
      "---  ------          --------------  -----  \n",
      " 0   App             10841 non-null  object \n",
      " 1   Category        10841 non-null  object \n",
      " 2   Rating          9367 non-null   float64\n",
      " 3   Reviews         10841 non-null  object \n",
      " 4   Size            10841 non-null  object \n",
      " 5   Installs        10841 non-null  object \n",
      " 6   Type            10840 non-null  object \n",
      " 7   Price           10841 non-null  object \n",
      " 8   Content Rating  10840 non-null  object \n",
      " 9   Genres          10841 non-null  object \n",
      " 10  Last Updated    10841 non-null  object \n",
      " 11  Current Ver     10833 non-null  object \n",
      " 12  Android Ver     10838 non-null  object \n",
      "dtypes: float64(1), object(12)\n",
      "memory usage: 1.1+ MB\n"
     ]
    }
   ],
   "source": [
    "df.info()"
   ]
  },
  {
   "cell_type": "code",
   "execution_count": 5,
   "id": "1f4102f3",
   "metadata": {},
   "outputs": [
    {
     "data": {
      "text/plain": [
       "(10841, 13)"
      ]
     },
     "execution_count": 5,
     "metadata": {},
     "output_type": "execute_result"
    }
   ],
   "source": [
    "df.shape"
   ]
  },
  {
   "cell_type": "markdown",
   "id": "2e9c9f10",
   "metadata": {},
   "source": [
    "From the above data,\n",
    "- Rating, Type, Content Rating, Current Ver, Android Var has missing values"
   ]
  },
  {
   "cell_type": "code",
   "execution_count": 6,
   "id": "a42470d6",
   "metadata": {},
   "outputs": [
    {
     "data": {
      "text/plain": [
       "App                  0\n",
       "Category             0\n",
       "Rating            1474\n",
       "Reviews              0\n",
       "Size                 0\n",
       "Installs             0\n",
       "Type                 1\n",
       "Price                0\n",
       "Content Rating       1\n",
       "Genres               0\n",
       "Last Updated         0\n",
       "Current Ver          8\n",
       "Android Ver          3\n",
       "dtype: int64"
      ]
     },
     "execution_count": 6,
     "metadata": {},
     "output_type": "execute_result"
    }
   ],
   "source": [
    "df.isna().sum()"
   ]
  },
  {
   "cell_type": "markdown",
   "id": "edc37717",
   "metadata": {},
   "source": [
    "### Data Filtering and Cleaning"
   ]
  },
  {
   "cell_type": "code",
   "execution_count": 7,
   "id": "f81b9078",
   "metadata": {},
   "outputs": [
    {
     "data": {
      "text/html": [
       "<div>\n",
       "<style scoped>\n",
       "    .dataframe tbody tr th:only-of-type {\n",
       "        vertical-align: middle;\n",
       "    }\n",
       "\n",
       "    .dataframe tbody tr th {\n",
       "        vertical-align: top;\n",
       "    }\n",
       "\n",
       "    .dataframe thead th {\n",
       "        text-align: right;\n",
       "    }\n",
       "</style>\n",
       "<table border=\"1\" class=\"dataframe\">\n",
       "  <thead>\n",
       "    <tr style=\"text-align: right;\">\n",
       "      <th></th>\n",
       "      <th>App</th>\n",
       "      <th>Category</th>\n",
       "      <th>Rating</th>\n",
       "      <th>Reviews</th>\n",
       "      <th>Size</th>\n",
       "      <th>Installs</th>\n",
       "      <th>Type</th>\n",
       "      <th>Price</th>\n",
       "      <th>Content Rating</th>\n",
       "      <th>Genres</th>\n",
       "      <th>Last Updated</th>\n",
       "      <th>Current Ver</th>\n",
       "      <th>Android Ver</th>\n",
       "    </tr>\n",
       "  </thead>\n",
       "  <tbody>\n",
       "    <tr>\n",
       "      <th>10472</th>\n",
       "      <td>Life Made WI-Fi Touchscreen Photo Frame</td>\n",
       "      <td>1.9</td>\n",
       "      <td>19.0</td>\n",
       "      <td>3.0M</td>\n",
       "      <td>1,000+</td>\n",
       "      <td>Free</td>\n",
       "      <td>0</td>\n",
       "      <td>Everyone</td>\n",
       "      <td>NaN</td>\n",
       "      <td>February 11, 2018</td>\n",
       "      <td>1.0.19</td>\n",
       "      <td>4.0 and up</td>\n",
       "      <td>NaN</td>\n",
       "    </tr>\n",
       "  </tbody>\n",
       "</table>\n",
       "</div>"
      ],
      "text/plain": [
       "                                           App Category  Rating Reviews  \\\n",
       "10472  Life Made WI-Fi Touchscreen Photo Frame      1.9    19.0    3.0M   \n",
       "\n",
       "         Size Installs Type     Price Content Rating             Genres  \\\n",
       "10472  1,000+     Free    0  Everyone            NaN  February 11, 2018   \n",
       "\n",
       "      Last Updated Current Ver Android Ver  \n",
       "10472       1.0.19  4.0 and up         NaN  "
      ]
     },
     "execution_count": 7,
     "metadata": {},
     "output_type": "execute_result"
    }
   ],
   "source": [
    "df[df['Reviews'] == '3.0M']"
   ]
  },
  {
   "cell_type": "code",
   "execution_count": 8,
   "id": "1f8ca583",
   "metadata": {},
   "outputs": [],
   "source": [
    "for i in range(len(df.columns)-1,1,-1):\n",
    "    df.loc[[df[df['Category']=='1.9'].index[0]],[df.columns[i]]]=df.loc[[df[df['Category']=='1.9'].index[0]],[df.columns[i-1]]].values\n",
    "df.loc[[df[df['Category']=='1.9'].index[0]],['Category']]='ART_AND_DESIGN'"
   ]
  },
  {
   "cell_type": "code",
   "execution_count": 9,
   "id": "288755c7",
   "metadata": {},
   "outputs": [
    {
     "data": {
      "text/plain": [
       "App               Life Made WI-Fi Touchscreen Photo Frame\n",
       "Category                                   ART_AND_DESIGN\n",
       "Rating                                                1.9\n",
       "Reviews                                              19.0\n",
       "Size                                                 3.0M\n",
       "Installs                                           1,000+\n",
       "Type                                                 Free\n",
       "Price                                                   0\n",
       "Content Rating                                   Everyone\n",
       "Genres                                                NaN\n",
       "Last Updated                            February 11, 2018\n",
       "Current Ver                                        1.0.19\n",
       "Android Ver                                    4.0 and up\n",
       "Name: 10472, dtype: object"
      ]
     },
     "execution_count": 9,
     "metadata": {},
     "output_type": "execute_result"
    }
   ],
   "source": [
    "df.iloc[10472]"
   ]
  },
  {
   "cell_type": "code",
   "execution_count": 10,
   "id": "9f894d58",
   "metadata": {},
   "outputs": [],
   "source": [
    "df['Reviews']=df['Reviews'].astype(int)"
   ]
  },
  {
   "cell_type": "code",
   "execution_count": 11,
   "id": "662fff0c",
   "metadata": {},
   "outputs": [],
   "source": [
    "df['Price'].replace(to_replace='0', value='$0', inplace=True)\n",
    "df['Price'] = df['Price'].apply(lambda a : a[1:])\n",
    "df['Price'] = df['Price'].astype(float)"
   ]
  },
  {
   "cell_type": "code",
   "execution_count": 12,
   "id": "67c3e919",
   "metadata": {},
   "outputs": [
    {
     "data": {
      "text/plain": [
       "0                       19M\n",
       "1                       14M\n",
       "2                      8.7M\n",
       "3                       25M\n",
       "4                      2.8M\n",
       "                ...        \n",
       "10836                   53M\n",
       "10837                  3.6M\n",
       "10838                  9.5M\n",
       "10839    Varies with device\n",
       "10840                   19M\n",
       "Name: Size, Length: 10841, dtype: object"
      ]
     },
     "execution_count": 12,
     "metadata": {},
     "output_type": "execute_result"
    }
   ],
   "source": [
    "df['Size']"
   ]
  },
  {
   "cell_type": "code",
   "execution_count": 13,
   "id": "a3a798c1",
   "metadata": {},
   "outputs": [],
   "source": [
    "df['Size'].replace(to_replace=\"Varies with device\", value=\"0M\", inplace=True)\n",
    "df['Size']=df['Size'].apply(lambda a : a.replace(',',''))"
   ]
  },
  {
   "cell_type": "code",
   "execution_count": 14,
   "id": "7c024fcb",
   "metadata": {},
   "outputs": [
    {
     "data": {
      "text/plain": [
       "0         19M\n",
       "1         14M\n",
       "2        8.7M\n",
       "3         25M\n",
       "4        2.8M\n",
       "         ... \n",
       "10836     53M\n",
       "10837    3.6M\n",
       "10838    9.5M\n",
       "10839      0M\n",
       "10840     19M\n",
       "Name: Size, Length: 10841, dtype: object"
      ]
     },
     "execution_count": 14,
     "metadata": {},
     "output_type": "execute_result"
    }
   ],
   "source": [
    "df['Size']"
   ]
  },
  {
   "cell_type": "code",
   "execution_count": 15,
   "id": "193b3d11",
   "metadata": {},
   "outputs": [],
   "source": [
    "df['Value']=df['Size'].apply(lambda a : a[:-1])\n",
    "df['Unit']=df['Size'].apply(lambda a : a[-1:])\n",
    "df['Value']=df['Value'].astype(float)"
   ]
  },
  {
   "cell_type": "code",
   "execution_count": 16,
   "id": "d61b93dc",
   "metadata": {},
   "outputs": [
    {
     "data": {
      "text/html": [
       "<div>\n",
       "<style scoped>\n",
       "    .dataframe tbody tr th:only-of-type {\n",
       "        vertical-align: middle;\n",
       "    }\n",
       "\n",
       "    .dataframe tbody tr th {\n",
       "        vertical-align: top;\n",
       "    }\n",
       "\n",
       "    .dataframe thead th {\n",
       "        text-align: right;\n",
       "    }\n",
       "</style>\n",
       "<table border=\"1\" class=\"dataframe\">\n",
       "  <thead>\n",
       "    <tr style=\"text-align: right;\">\n",
       "      <th></th>\n",
       "      <th>Value</th>\n",
       "      <th>Unit</th>\n",
       "    </tr>\n",
       "  </thead>\n",
       "  <tbody>\n",
       "    <tr>\n",
       "      <th>0</th>\n",
       "      <td>19.0</td>\n",
       "      <td>M</td>\n",
       "    </tr>\n",
       "    <tr>\n",
       "      <th>1</th>\n",
       "      <td>14.0</td>\n",
       "      <td>M</td>\n",
       "    </tr>\n",
       "    <tr>\n",
       "      <th>2</th>\n",
       "      <td>8.7</td>\n",
       "      <td>M</td>\n",
       "    </tr>\n",
       "    <tr>\n",
       "      <th>3</th>\n",
       "      <td>25.0</td>\n",
       "      <td>M</td>\n",
       "    </tr>\n",
       "    <tr>\n",
       "      <th>4</th>\n",
       "      <td>2.8</td>\n",
       "      <td>M</td>\n",
       "    </tr>\n",
       "  </tbody>\n",
       "</table>\n",
       "</div>"
      ],
      "text/plain": [
       "   Value Unit\n",
       "0   19.0    M\n",
       "1   14.0    M\n",
       "2    8.7    M\n",
       "3   25.0    M\n",
       "4    2.8    M"
      ]
     },
     "execution_count": 16,
     "metadata": {},
     "output_type": "execute_result"
    }
   ],
   "source": [
    "df[['Value', 'Unit']].head()"
   ]
  },
  {
   "cell_type": "code",
   "execution_count": 17,
   "id": "f0b1555a",
   "metadata": {},
   "outputs": [],
   "source": [
    "df['Installs'].replace(to_replace='0',value='0+',inplace=True)\n",
    "df['Installs']=df['Installs'].apply(lambda a : a.replace(',',''))\n",
    "\n",
    "df['Installs']=df['Installs'].apply(lambda a : a[:-1])\n",
    "df['Installs']=df['Installs'].astype(int)"
   ]
  },
  {
   "cell_type": "code",
   "execution_count": 18,
   "id": "669880ae",
   "metadata": {},
   "outputs": [
    {
     "data": {
      "text/plain": [
       "0       10000\n",
       "1      500000\n",
       "2     5000000\n",
       "3    50000000\n",
       "4      100000\n",
       "Name: Installs, dtype: int32"
      ]
     },
     "execution_count": 18,
     "metadata": {},
     "output_type": "execute_result"
    }
   ],
   "source": [
    "df['Installs'].head()"
   ]
  },
  {
   "cell_type": "code",
   "execution_count": 19,
   "id": "6099c69c",
   "metadata": {},
   "outputs": [
    {
     "data": {
      "text/plain": [
       "(array([ 0,  1,  2,  3,  4,  5,  6,  7,  8,  9, 10, 11, 12, 13, 14, 15, 16,\n",
       "        17, 18, 19, 20, 21, 22, 23, 24, 25, 26, 27, 28, 29, 30, 31, 32]),\n",
       " [Text(0, 0, 'ART_AND_DESIGN'),\n",
       "  Text(1, 0, 'AUTO_AND_VEHICLES'),\n",
       "  Text(2, 0, 'BEAUTY'),\n",
       "  Text(3, 0, 'BOOKS_AND_REFERENCE'),\n",
       "  Text(4, 0, 'BUSINESS'),\n",
       "  Text(5, 0, 'COMICS'),\n",
       "  Text(6, 0, 'COMMUNICATION'),\n",
       "  Text(7, 0, 'DATING'),\n",
       "  Text(8, 0, 'EDUCATION'),\n",
       "  Text(9, 0, 'ENTERTAINMENT'),\n",
       "  Text(10, 0, 'EVENTS'),\n",
       "  Text(11, 0, 'FINANCE'),\n",
       "  Text(12, 0, 'FOOD_AND_DRINK'),\n",
       "  Text(13, 0, 'HEALTH_AND_FITNESS'),\n",
       "  Text(14, 0, 'HOUSE_AND_HOME'),\n",
       "  Text(15, 0, 'LIBRARIES_AND_DEMO'),\n",
       "  Text(16, 0, 'LIFESTYLE'),\n",
       "  Text(17, 0, 'GAME'),\n",
       "  Text(18, 0, 'FAMILY'),\n",
       "  Text(19, 0, 'MEDICAL'),\n",
       "  Text(20, 0, 'SOCIAL'),\n",
       "  Text(21, 0, 'SHOPPING'),\n",
       "  Text(22, 0, 'PHOTOGRAPHY'),\n",
       "  Text(23, 0, 'SPORTS'),\n",
       "  Text(24, 0, 'TRAVEL_AND_LOCAL'),\n",
       "  Text(25, 0, 'TOOLS'),\n",
       "  Text(26, 0, 'PERSONALIZATION'),\n",
       "  Text(27, 0, 'PRODUCTIVITY'),\n",
       "  Text(28, 0, 'PARENTING'),\n",
       "  Text(29, 0, 'WEATHER'),\n",
       "  Text(30, 0, 'VIDEO_PLAYERS'),\n",
       "  Text(31, 0, 'NEWS_AND_MAGAZINES'),\n",
       "  Text(32, 0, 'MAPS_AND_NAVIGATION')])"
      ]
     },
     "execution_count": 19,
     "metadata": {},
     "output_type": "execute_result"
    },
    {
     "data": {
      "image/png": "[encoded data removed]",
      "text/plain": [
       "<Figure size 1080x576 with 1 Axes>"
      ]
     },
     "metadata": {
      "needs_background": "light"
     },
     "output_type": "display_data"
    }
   ],
   "source": [
    "df['Rating'] = df['Rating'].astype(float)\n",
    "plt.figure(figsize=(15, 8))\n",
    "sns.boxplot(x=\"Category\", y=\"Rating\", data=df)\n",
    "plt.xticks(rotation=90)"
   ]
  },
  {
   "cell_type": "code",
   "execution_count": 20,
   "id": "e5cdb849",
   "metadata": {},
   "outputs": [
    {
     "data": {
      "text/plain": [
       "<AxesSubplot:xlabel='Content Rating', ylabel='Rating'>"
      ]
     },
     "execution_count": 20,
     "metadata": {},
     "output_type": "execute_result"
    },
    {
     "data": {
      "image/png": "[encoded data removed]",
      "text/plain": [
       "<Figure size 1080x576 with 1 Axes>"
      ]
     },
     "metadata": {
      "needs_background": "light"
     },
     "output_type": "display_data"
    }
   ],
   "source": [
    "plt.figure(figsize=(15, 8))\n",
    "sns.boxplot(x=\"Content Rating\", y=\"Rating\", data=df)"
   ]
  },
  {
   "cell_type": "code",
   "execution_count": 21,
   "id": "2e92e1ad",
   "metadata": {},
   "outputs": [
    {
     "data": {
      "text/plain": [
       "Everyone           8715\n",
       "Teen               1208\n",
       "Mature 17+          499\n",
       "Everyone 10+        414\n",
       "Adults only 18+       3\n",
       "Unrated               2\n",
       "Name: Content Rating, dtype: int64"
      ]
     },
     "execution_count": 21,
     "metadata": {},
     "output_type": "execute_result"
    }
   ],
   "source": [
    "df['Content Rating'].value_counts()"
   ]
  },
  {
   "cell_type": "code",
   "execution_count": 22,
   "id": "316a3749",
   "metadata": {},
   "outputs": [
    {
     "data": {
      "text/html": [
       "<div>\n",
       "<style scoped>\n",
       "    .dataframe tbody tr th:only-of-type {\n",
       "        vertical-align: middle;\n",
       "    }\n",
       "\n",
       "    .dataframe tbody tr th {\n",
       "        vertical-align: top;\n",
       "    }\n",
       "\n",
       "    .dataframe thead th {\n",
       "        text-align: right;\n",
       "    }\n",
       "</style>\n",
       "<table border=\"1\" class=\"dataframe\">\n",
       "  <thead>\n",
       "    <tr style=\"text-align: right;\">\n",
       "      <th></th>\n",
       "      <th>App</th>\n",
       "      <th>Category</th>\n",
       "      <th>Rating</th>\n",
       "      <th>Reviews</th>\n",
       "      <th>Size</th>\n",
       "      <th>Installs</th>\n",
       "      <th>Type</th>\n",
       "      <th>Price</th>\n",
       "      <th>Content Rating</th>\n",
       "      <th>Genres</th>\n",
       "      <th>Last Updated</th>\n",
       "      <th>Current Ver</th>\n",
       "      <th>Android Ver</th>\n",
       "      <th>Value</th>\n",
       "      <th>Unit</th>\n",
       "    </tr>\n",
       "  </thead>\n",
       "  <tbody>\n",
       "    <tr>\n",
       "      <th>10472</th>\n",
       "      <td>Life Made WI-Fi Touchscreen Photo Frame</td>\n",
       "      <td>ART_AND_DESIGN</td>\n",
       "      <td>1.9</td>\n",
       "      <td>19</td>\n",
       "      <td>3.0M</td>\n",
       "      <td>1000</td>\n",
       "      <td>Free</td>\n",
       "      <td>0.0</td>\n",
       "      <td>Everyone</td>\n",
       "      <td>NaN</td>\n",
       "      <td>February 11, 2018</td>\n",
       "      <td>1.0.19</td>\n",
       "      <td>4.0 and up</td>\n",
       "      <td>3.0</td>\n",
       "      <td>M</td>\n",
       "    </tr>\n",
       "  </tbody>\n",
       "</table>\n",
       "</div>"
      ],
      "text/plain": [
       "                                           App        Category  Rating  \\\n",
       "10472  Life Made WI-Fi Touchscreen Photo Frame  ART_AND_DESIGN     1.9   \n",
       "\n",
       "       Reviews  Size  Installs  Type  Price Content Rating Genres  \\\n",
       "10472       19  3.0M      1000  Free    0.0       Everyone    NaN   \n",
       "\n",
       "            Last Updated Current Ver Android Ver  Value Unit  \n",
       "10472  February 11, 2018      1.0.19  4.0 and up    3.0    M  "
      ]
     },
     "execution_count": 22,
     "metadata": {},
     "output_type": "execute_result"
    }
   ],
   "source": [
    "df[df['Genres'].isnull()]"
   ]
  },
  {
   "cell_type": "code",
   "execution_count": 23,
   "id": "0f903485",
   "metadata": {},
   "outputs": [],
   "source": [
    "df.loc[[df[df['Genres'].isnull()].index[0]],['Genres']]='Art & Design'"
   ]
  },
  {
   "cell_type": "code",
   "execution_count": 24,
   "id": "b79137e0",
   "metadata": {},
   "outputs": [
    {
     "data": {
      "text/html": [
       "<div>\n",
       "<style scoped>\n",
       "    .dataframe tbody tr th:only-of-type {\n",
       "        vertical-align: middle;\n",
       "    }\n",
       "\n",
       "    .dataframe tbody tr th {\n",
       "        vertical-align: top;\n",
       "    }\n",
       "\n",
       "    .dataframe thead th {\n",
       "        text-align: right;\n",
       "    }\n",
       "</style>\n",
       "<table border=\"1\" class=\"dataframe\">\n",
       "  <thead>\n",
       "    <tr style=\"text-align: right;\">\n",
       "      <th></th>\n",
       "      <th>App</th>\n",
       "      <th>Category</th>\n",
       "      <th>Rating</th>\n",
       "      <th>Reviews</th>\n",
       "      <th>Size</th>\n",
       "      <th>Installs</th>\n",
       "      <th>Type</th>\n",
       "      <th>Price</th>\n",
       "      <th>Content Rating</th>\n",
       "      <th>Genres</th>\n",
       "      <th>Last Updated</th>\n",
       "      <th>Current Ver</th>\n",
       "      <th>Android Ver</th>\n",
       "      <th>Value</th>\n",
       "      <th>Unit</th>\n",
       "    </tr>\n",
       "  </thead>\n",
       "  <tbody>\n",
       "    <tr>\n",
       "      <th>9148</th>\n",
       "      <td>Command &amp; Conquer: Rivals</td>\n",
       "      <td>FAMILY</td>\n",
       "      <td>NaN</td>\n",
       "      <td>0</td>\n",
       "      <td>0M</td>\n",
       "      <td>0</td>\n",
       "      <td>NaN</td>\n",
       "      <td>0.0</td>\n",
       "      <td>Everyone 10+</td>\n",
       "      <td>Strategy</td>\n",
       "      <td>June 28, 2018</td>\n",
       "      <td>Varies with device</td>\n",
       "      <td>Varies with device</td>\n",
       "      <td>0.0</td>\n",
       "      <td>M</td>\n",
       "    </tr>\n",
       "  </tbody>\n",
       "</table>\n",
       "</div>"
      ],
      "text/plain": [
       "                            App Category  Rating  Reviews Size  Installs Type  \\\n",
       "9148  Command & Conquer: Rivals   FAMILY     NaN        0   0M         0  NaN   \n",
       "\n",
       "      Price Content Rating    Genres   Last Updated         Current Ver  \\\n",
       "9148    0.0   Everyone 10+  Strategy  June 28, 2018  Varies with device   \n",
       "\n",
       "             Android Ver  Value Unit  \n",
       "9148  Varies with device    0.0    M  "
      ]
     },
     "execution_count": 24,
     "metadata": {},
     "output_type": "execute_result"
    }
   ],
   "source": [
    "df[df['Type'].isnull()]"
   ]
  },
  {
   "cell_type": "code",
   "execution_count": 25,
   "id": "4d95a6bb",
   "metadata": {},
   "outputs": [],
   "source": [
    "df['Type'].fillna(df['Type'].mode()[0],inplace=True)"
   ]
  },
  {
   "cell_type": "code",
   "execution_count": 26,
   "id": "efc2d8b0",
   "metadata": {},
   "outputs": [
    {
     "data": {
      "text/html": [
       "<div>\n",
       "<style scoped>\n",
       "    .dataframe tbody tr th:only-of-type {\n",
       "        vertical-align: middle;\n",
       "    }\n",
       "\n",
       "    .dataframe tbody tr th {\n",
       "        vertical-align: top;\n",
       "    }\n",
       "\n",
       "    .dataframe thead th {\n",
       "        text-align: right;\n",
       "    }\n",
       "</style>\n",
       "<table border=\"1\" class=\"dataframe\">\n",
       "  <thead>\n",
       "    <tr style=\"text-align: right;\">\n",
       "      <th></th>\n",
       "      <th>App</th>\n",
       "      <th>Category</th>\n",
       "      <th>Rating</th>\n",
       "      <th>Reviews</th>\n",
       "      <th>Size</th>\n",
       "      <th>Installs</th>\n",
       "      <th>Type</th>\n",
       "      <th>Price</th>\n",
       "      <th>Content Rating</th>\n",
       "      <th>Genres</th>\n",
       "      <th>Last Updated</th>\n",
       "      <th>Current Ver</th>\n",
       "      <th>Android Ver</th>\n",
       "      <th>Value</th>\n",
       "      <th>Unit</th>\n",
       "    </tr>\n",
       "  </thead>\n",
       "  <tbody>\n",
       "    <tr>\n",
       "      <th>4453</th>\n",
       "      <td>[substratum] Vacuum: P</td>\n",
       "      <td>PERSONALIZATION</td>\n",
       "      <td>4.4</td>\n",
       "      <td>230</td>\n",
       "      <td>11M</td>\n",
       "      <td>1000</td>\n",
       "      <td>Paid</td>\n",
       "      <td>1.49</td>\n",
       "      <td>Everyone</td>\n",
       "      <td>Personalization</td>\n",
       "      <td>July 20, 2018</td>\n",
       "      <td>4.4</td>\n",
       "      <td>NaN</td>\n",
       "      <td>11.0</td>\n",
       "      <td>M</td>\n",
       "    </tr>\n",
       "    <tr>\n",
       "      <th>4490</th>\n",
       "      <td>Pi Dark [substratum]</td>\n",
       "      <td>PERSONALIZATION</td>\n",
       "      <td>4.5</td>\n",
       "      <td>189</td>\n",
       "      <td>2.1M</td>\n",
       "      <td>10000</td>\n",
       "      <td>Free</td>\n",
       "      <td>0.00</td>\n",
       "      <td>Everyone</td>\n",
       "      <td>Personalization</td>\n",
       "      <td>March 27, 2018</td>\n",
       "      <td>1.1</td>\n",
       "      <td>NaN</td>\n",
       "      <td>2.1</td>\n",
       "      <td>M</td>\n",
       "    </tr>\n",
       "  </tbody>\n",
       "</table>\n",
       "</div>"
      ],
      "text/plain": [
       "                         App         Category  Rating  Reviews  Size  \\\n",
       "4453  [substratum] Vacuum: P  PERSONALIZATION     4.4      230   11M   \n",
       "4490    Pi Dark [substratum]  PERSONALIZATION     4.5      189  2.1M   \n",
       "\n",
       "      Installs  Type  Price Content Rating           Genres    Last Updated  \\\n",
       "4453      1000  Paid   1.49       Everyone  Personalization   July 20, 2018   \n",
       "4490     10000  Free   0.00       Everyone  Personalization  March 27, 2018   \n",
       "\n",
       "     Current Ver Android Ver  Value Unit  \n",
       "4453         4.4         NaN   11.0    M  \n",
       "4490         1.1         NaN    2.1    M  "
      ]
     },
     "execution_count": 26,
     "metadata": {},
     "output_type": "execute_result"
    }
   ],
   "source": [
    "df[df['Android Ver'].isnull()]"
   ]
  },
  {
   "cell_type": "code",
   "execution_count": 27,
   "id": "6ac90a22",
   "metadata": {},
   "outputs": [],
   "source": [
    "df['Android Ver'].fillna(df['Android Ver'].mode()[0],inplace=True)"
   ]
  },
  {
   "cell_type": "code",
   "execution_count": 28,
   "id": "70012ca1",
   "metadata": {},
   "outputs": [
    {
     "data": {
      "text/html": [
       "<div>\n",
       "<style scoped>\n",
       "    .dataframe tbody tr th:only-of-type {\n",
       "        vertical-align: middle;\n",
       "    }\n",
       "\n",
       "    .dataframe tbody tr th {\n",
       "        vertical-align: top;\n",
       "    }\n",
       "\n",
       "    .dataframe thead th {\n",
       "        text-align: right;\n",
       "    }\n",
       "</style>\n",
       "<table border=\"1\" class=\"dataframe\">\n",
       "  <thead>\n",
       "    <tr style=\"text-align: right;\">\n",
       "      <th></th>\n",
       "      <th>App</th>\n",
       "      <th>Category</th>\n",
       "      <th>Rating</th>\n",
       "      <th>Reviews</th>\n",
       "      <th>Size</th>\n",
       "      <th>Installs</th>\n",
       "      <th>Type</th>\n",
       "      <th>Price</th>\n",
       "      <th>Content Rating</th>\n",
       "      <th>Genres</th>\n",
       "      <th>Last Updated</th>\n",
       "      <th>Current Ver</th>\n",
       "      <th>Android Ver</th>\n",
       "      <th>Value</th>\n",
       "      <th>Unit</th>\n",
       "    </tr>\n",
       "  </thead>\n",
       "  <tbody>\n",
       "    <tr>\n",
       "      <th>15</th>\n",
       "      <td>Learn To Draw Kawaii Characters</td>\n",
       "      <td>ART_AND_DESIGN</td>\n",
       "      <td>3.2</td>\n",
       "      <td>55</td>\n",
       "      <td>2.7M</td>\n",
       "      <td>5000</td>\n",
       "      <td>Free</td>\n",
       "      <td>0.00</td>\n",
       "      <td>Everyone</td>\n",
       "      <td>Art &amp; Design</td>\n",
       "      <td>June 6, 2018</td>\n",
       "      <td>NaN</td>\n",
       "      <td>4.2 and up</td>\n",
       "      <td>2.7</td>\n",
       "      <td>M</td>\n",
       "    </tr>\n",
       "    <tr>\n",
       "      <th>1553</th>\n",
       "      <td>Market Update Helper</td>\n",
       "      <td>LIBRARIES_AND_DEMO</td>\n",
       "      <td>4.1</td>\n",
       "      <td>20145</td>\n",
       "      <td>11k</td>\n",
       "      <td>1000000</td>\n",
       "      <td>Free</td>\n",
       "      <td>0.00</td>\n",
       "      <td>Everyone</td>\n",
       "      <td>Libraries &amp; Demo</td>\n",
       "      <td>February 12, 2013</td>\n",
       "      <td>NaN</td>\n",
       "      <td>1.5 and up</td>\n",
       "      <td>11.0</td>\n",
       "      <td>k</td>\n",
       "    </tr>\n",
       "    <tr>\n",
       "      <th>6322</th>\n",
       "      <td>Virtual DJ Sound Mixer</td>\n",
       "      <td>TOOLS</td>\n",
       "      <td>4.2</td>\n",
       "      <td>4010</td>\n",
       "      <td>8.7M</td>\n",
       "      <td>500000</td>\n",
       "      <td>Free</td>\n",
       "      <td>0.00</td>\n",
       "      <td>Everyone</td>\n",
       "      <td>Tools</td>\n",
       "      <td>May 10, 2017</td>\n",
       "      <td>NaN</td>\n",
       "      <td>4.0 and up</td>\n",
       "      <td>8.7</td>\n",
       "      <td>M</td>\n",
       "    </tr>\n",
       "    <tr>\n",
       "      <th>6803</th>\n",
       "      <td>BT Master</td>\n",
       "      <td>FAMILY</td>\n",
       "      <td>NaN</td>\n",
       "      <td>0</td>\n",
       "      <td>222k</td>\n",
       "      <td>100</td>\n",
       "      <td>Free</td>\n",
       "      <td>0.00</td>\n",
       "      <td>Everyone</td>\n",
       "      <td>Education</td>\n",
       "      <td>November 6, 2016</td>\n",
       "      <td>NaN</td>\n",
       "      <td>1.6 and up</td>\n",
       "      <td>222.0</td>\n",
       "      <td>k</td>\n",
       "    </tr>\n",
       "    <tr>\n",
       "      <th>7333</th>\n",
       "      <td>Dots puzzle</td>\n",
       "      <td>FAMILY</td>\n",
       "      <td>4.0</td>\n",
       "      <td>179</td>\n",
       "      <td>14M</td>\n",
       "      <td>50000</td>\n",
       "      <td>Paid</td>\n",
       "      <td>0.99</td>\n",
       "      <td>Everyone</td>\n",
       "      <td>Puzzle</td>\n",
       "      <td>April 18, 2018</td>\n",
       "      <td>NaN</td>\n",
       "      <td>4.0 and up</td>\n",
       "      <td>14.0</td>\n",
       "      <td>M</td>\n",
       "    </tr>\n",
       "    <tr>\n",
       "      <th>7407</th>\n",
       "      <td>Calculate My IQ</td>\n",
       "      <td>FAMILY</td>\n",
       "      <td>NaN</td>\n",
       "      <td>44</td>\n",
       "      <td>7.2M</td>\n",
       "      <td>10000</td>\n",
       "      <td>Free</td>\n",
       "      <td>0.00</td>\n",
       "      <td>Everyone</td>\n",
       "      <td>Entertainment</td>\n",
       "      <td>April 3, 2017</td>\n",
       "      <td>NaN</td>\n",
       "      <td>2.3 and up</td>\n",
       "      <td>7.2</td>\n",
       "      <td>M</td>\n",
       "    </tr>\n",
       "    <tr>\n",
       "      <th>7730</th>\n",
       "      <td>UFO-CQ</td>\n",
       "      <td>TOOLS</td>\n",
       "      <td>NaN</td>\n",
       "      <td>1</td>\n",
       "      <td>237k</td>\n",
       "      <td>10</td>\n",
       "      <td>Paid</td>\n",
       "      <td>0.99</td>\n",
       "      <td>Everyone</td>\n",
       "      <td>Tools</td>\n",
       "      <td>July 4, 2016</td>\n",
       "      <td>NaN</td>\n",
       "      <td>2.0 and up</td>\n",
       "      <td>237.0</td>\n",
       "      <td>k</td>\n",
       "    </tr>\n",
       "    <tr>\n",
       "      <th>10342</th>\n",
       "      <td>La Fe de Jesus</td>\n",
       "      <td>BOOKS_AND_REFERENCE</td>\n",
       "      <td>NaN</td>\n",
       "      <td>8</td>\n",
       "      <td>658k</td>\n",
       "      <td>1000</td>\n",
       "      <td>Free</td>\n",
       "      <td>0.00</td>\n",
       "      <td>Everyone</td>\n",
       "      <td>Books &amp; Reference</td>\n",
       "      <td>January 31, 2017</td>\n",
       "      <td>NaN</td>\n",
       "      <td>3.0 and up</td>\n",
       "      <td>658.0</td>\n",
       "      <td>k</td>\n",
       "    </tr>\n",
       "  </tbody>\n",
       "</table>\n",
       "</div>"
      ],
      "text/plain": [
       "                                   App             Category  Rating  Reviews  \\\n",
       "15     Learn To Draw Kawaii Characters       ART_AND_DESIGN     3.2       55   \n",
       "1553              Market Update Helper   LIBRARIES_AND_DEMO     4.1    20145   \n",
       "6322            Virtual DJ Sound Mixer                TOOLS     4.2     4010   \n",
       "6803                         BT Master               FAMILY     NaN        0   \n",
       "7333                       Dots puzzle               FAMILY     4.0      179   \n",
       "7407                   Calculate My IQ               FAMILY     NaN       44   \n",
       "7730                            UFO-CQ                TOOLS     NaN        1   \n",
       "10342                   La Fe de Jesus  BOOKS_AND_REFERENCE     NaN        8   \n",
       "\n",
       "       Size  Installs  Type  Price Content Rating             Genres  \\\n",
       "15     2.7M      5000  Free   0.00       Everyone       Art & Design   \n",
       "1553    11k   1000000  Free   0.00       Everyone   Libraries & Demo   \n",
       "6322   8.7M    500000  Free   0.00       Everyone              Tools   \n",
       "6803   222k       100  Free   0.00       Everyone          Education   \n",
       "7333    14M     50000  Paid   0.99       Everyone             Puzzle   \n",
       "7407   7.2M     10000  Free   0.00       Everyone      Entertainment   \n",
       "7730   237k        10  Paid   0.99       Everyone              Tools   \n",
       "10342  658k      1000  Free   0.00       Everyone  Books & Reference   \n",
       "\n",
       "            Last Updated Current Ver Android Ver  Value Unit  \n",
       "15          June 6, 2018         NaN  4.2 and up    2.7    M  \n",
       "1553   February 12, 2013         NaN  1.5 and up   11.0    k  \n",
       "6322        May 10, 2017         NaN  4.0 and up    8.7    M  \n",
       "6803    November 6, 2016         NaN  1.6 and up  222.0    k  \n",
       "7333      April 18, 2018         NaN  4.0 and up   14.0    M  \n",
       "7407       April 3, 2017         NaN  2.3 and up    7.2    M  \n",
       "7730        July 4, 2016         NaN  2.0 and up  237.0    k  \n",
       "10342   January 31, 2017         NaN  3.0 and up  658.0    k  "
      ]
     },
     "execution_count": 28,
     "metadata": {},
     "output_type": "execute_result"
    }
   ],
   "source": [
    "df[df['Current Ver'].isnull()]"
   ]
  },
  {
   "cell_type": "code",
   "execution_count": 29,
   "id": "10bebc30",
   "metadata": {},
   "outputs": [],
   "source": [
    "temp=pd.DataFrame()\n",
    "for i in df['Category'].unique():\n",
    "    temp1=df[(df['Category']==i)]['Rating'].fillna(df[(df['Category']==i)]['Rating'].mode()[0])\n",
    "    temp=pd.concat([temp,temp1])"
   ]
  },
  {
   "cell_type": "code",
   "execution_count": 30,
   "id": "8d17800f",
   "metadata": {},
   "outputs": [],
   "source": [
    "df['Rating']=temp"
   ]
  },
  {
   "cell_type": "code",
   "execution_count": 31,
   "id": "626948c8",
   "metadata": {},
   "outputs": [
    {
     "name": "stdout",
     "output_type": "stream",
     "text": [
      "<class 'pandas.core.frame.DataFrame'>\n",
      "RangeIndex: 10841 entries, 0 to 10840\n",
      "Data columns (total 15 columns):\n",
      " #   Column          Non-Null Count  Dtype  \n",
      "---  ------          --------------  -----  \n",
      " 0   App             10841 non-null  object \n",
      " 1   Category        10841 non-null  object \n",
      " 2   Rating          10841 non-null  float64\n",
      " 3   Reviews         10841 non-null  int32  \n",
      " 4   Size            10841 non-null  object \n",
      " 5   Installs        10841 non-null  int32  \n",
      " 6   Type            10841 non-null  object \n",
      " 7   Price           10841 non-null  float64\n",
      " 8   Content Rating  10841 non-null  object \n",
      " 9   Genres          10841 non-null  object \n",
      " 10  Last Updated    10841 non-null  object \n",
      " 11  Current Ver     10833 non-null  object \n",
      " 12  Android Ver     10841 non-null  object \n",
      " 13  Value           10841 non-null  float64\n",
      " 14  Unit            10841 non-null  object \n",
      "dtypes: float64(3), int32(2), object(10)\n",
      "memory usage: 1.2+ MB\n"
     ]
    }
   ],
   "source": [
    "df.info()"
   ]
  },
  {
   "cell_type": "markdown",
   "id": "6c232928",
   "metadata": {},
   "source": [
    "if required we can drop the NA values in Current Ver."
   ]
  },
  {
   "cell_type": "code",
   "execution_count": 32,
   "id": "fcaf42ea",
   "metadata": {},
   "outputs": [
    {
     "data": {
      "text/plain": [
       "<AxesSubplot:xlabel='Reviews', ylabel='Rating'>"
      ]
     },
     "execution_count": 32,
     "metadata": {},
     "output_type": "execute_result"
    },
    {
     "data": {
      "image/png": "[encoded data removed]",
      "text/plain": [
       "<Figure size 720x360 with 1 Axes>"
      ]
     },
     "metadata": {
      "needs_background": "light"
     },
     "output_type": "display_data"
    }
   ],
   "source": [
    "plt.figure(figsize=(10,5))\n",
    "sns.scatterplot(x='Reviews',y='Rating',data=df)"
   ]
  },
  {
   "cell_type": "code",
   "execution_count": 33,
   "id": "552dc43a",
   "metadata": {},
   "outputs": [
    {
     "data": {
      "text/plain": [
       "<AxesSubplot:xlabel='Price', ylabel='Reviews'>"
      ]
     },
     "execution_count": 33,
     "metadata": {},
     "output_type": "execute_result"
    },
    {
     "data": {
      "image/png": "[encoded data removed]",
      "text/plain": [
       "<Figure size 720x360 with 1 Axes>"
      ]
     },
     "metadata": {
      "needs_background": "light"
     },
     "output_type": "display_data"
    }
   ],
   "source": [
    "plt.figure(figsize=(10,5))\n",
    "sns.scatterplot(x='Price',y='Reviews',data=df)"
   ]
  },
  {
   "cell_type": "code",
   "execution_count": 34,
   "id": "76f078b7",
   "metadata": {},
   "outputs": [
    {
     "data": {
      "text/plain": [
       "<AxesSubplot:xlabel='Price', ylabel='Rating'>"
      ]
     },
     "execution_count": 34,
     "metadata": {},
     "output_type": "execute_result"
    },
    {
     "data": {
      "image/png": "[encoded data removed]",
      "text/plain": [
       "<Figure size 720x360 with 1 Axes>"
      ]
     },
     "metadata": {
      "needs_background": "light"
     },
     "output_type": "display_data"
    }
   ],
   "source": [
    "plt.figure(figsize=(10,5))\n",
    "sns.scatterplot(x='Price',y='Rating',data=df)"
   ]
  },
  {
   "cell_type": "code",
   "execution_count": 35,
   "id": "aea2942c",
   "metadata": {},
   "outputs": [
    {
     "data": {
      "text/plain": [
       "<AxesSubplot:>"
      ]
     },
     "execution_count": 35,
     "metadata": {},
     "output_type": "execute_result"
    },
    {
     "data": {
      "image/png": "[encoded data removed]",
      "text/plain": [
       "<Figure size 720x432 with 2 Axes>"
      ]
     },
     "metadata": {
      "needs_background": "light"
     },
     "output_type": "display_data"
    }
   ],
   "source": [
    "plt.figure(figsize=(10,6))\n",
    "sns.heatmap(df.corr(),annot=True,cmap='coolwarm')"
   ]
  },
  {
   "cell_type": "markdown",
   "id": "f33d95a7",
   "metadata": {},
   "source": [
    "## App with Largest Size"
   ]
  },
  {
   "cell_type": "code",
   "execution_count": 36,
   "id": "6313fdba",
   "metadata": {},
   "outputs": [],
   "source": [
    "app_size=df[['App','Size','Value','Unit']]"
   ]
  },
  {
   "cell_type": "code",
   "execution_count": 37,
   "id": "459a5a33",
   "metadata": {},
   "outputs": [
    {
     "data": {
      "text/html": [
       "<div>\n",
       "<style scoped>\n",
       "    .dataframe tbody tr th:only-of-type {\n",
       "        vertical-align: middle;\n",
       "    }\n",
       "\n",
       "    .dataframe tbody tr th {\n",
       "        vertical-align: top;\n",
       "    }\n",
       "\n",
       "    .dataframe thead th {\n",
       "        text-align: right;\n",
       "    }\n",
       "</style>\n",
       "<table border=\"1\" class=\"dataframe\">\n",
       "  <thead>\n",
       "    <tr style=\"text-align: right;\">\n",
       "      <th></th>\n",
       "      <th>App</th>\n",
       "      <th>Size</th>\n",
       "      <th>Value</th>\n",
       "      <th>Unit</th>\n",
       "    </tr>\n",
       "  </thead>\n",
       "  <tbody>\n",
       "    <tr>\n",
       "      <th>0</th>\n",
       "      <td>Photo Editor &amp; Candy Camera &amp; Grid &amp; ScrapBook</td>\n",
       "      <td>19M</td>\n",
       "      <td>19.0</td>\n",
       "      <td>M</td>\n",
       "    </tr>\n",
       "    <tr>\n",
       "      <th>1</th>\n",
       "      <td>Coloring book moana</td>\n",
       "      <td>14M</td>\n",
       "      <td>14.0</td>\n",
       "      <td>M</td>\n",
       "    </tr>\n",
       "    <tr>\n",
       "      <th>2</th>\n",
       "      <td>U Launcher Lite – FREE Live Cool Themes, Hide ...</td>\n",
       "      <td>8.7M</td>\n",
       "      <td>8.7</td>\n",
       "      <td>M</td>\n",
       "    </tr>\n",
       "    <tr>\n",
       "      <th>3</th>\n",
       "      <td>Sketch - Draw &amp; Paint</td>\n",
       "      <td>25M</td>\n",
       "      <td>25.0</td>\n",
       "      <td>M</td>\n",
       "    </tr>\n",
       "    <tr>\n",
       "      <th>4</th>\n",
       "      <td>Pixel Draw - Number Art Coloring Book</td>\n",
       "      <td>2.8M</td>\n",
       "      <td>2.8</td>\n",
       "      <td>M</td>\n",
       "    </tr>\n",
       "  </tbody>\n",
       "</table>\n",
       "</div>"
      ],
      "text/plain": [
       "                                                 App  Size  Value Unit\n",
       "0     Photo Editor & Candy Camera & Grid & ScrapBook   19M   19.0    M\n",
       "1                                Coloring book moana   14M   14.0    M\n",
       "2  U Launcher Lite – FREE Live Cool Themes, Hide ...  8.7M    8.7    M\n",
       "3                              Sketch - Draw & Paint   25M   25.0    M\n",
       "4              Pixel Draw - Number Art Coloring Book  2.8M    2.8    M"
      ]
     },
     "execution_count": 37,
     "metadata": {},
     "output_type": "execute_result"
    }
   ],
   "source": [
    "app_size.head()"
   ]
  },
  {
   "cell_type": "code",
   "execution_count": 38,
   "id": "799d419d",
   "metadata": {},
   "outputs": [
    {
     "name": "stderr",
     "output_type": "stream",
     "text": [
      "C:\\ProgramData\\Anaconda3\\lib\\site-packages\\seaborn\\_decorators.py:36: FutureWarning: Pass the following variable as a keyword arg: x. From version 0.12, the only valid positional argument will be `data`, and passing other arguments without an explicit keyword will result in an error or misinterpretation.\n",
      "  warnings.warn(\n"
     ]
    },
    {
     "data": {
      "text/plain": [
       "<AxesSubplot:xlabel='Unit', ylabel='count'>"
      ]
     },
     "execution_count": 38,
     "metadata": {},
     "output_type": "execute_result"
    },
    {
     "data": {
      "image/png": "[encoded data removed]",
      "text/plain": [
       "<Figure size 432x288 with 1 Axes>"
      ]
     },
     "metadata": {
      "needs_background": "light"
     },
     "output_type": "display_data"
    }
   ],
   "source": [
    "sns.countplot(app_size['Unit'])"
   ]
  },
  {
   "cell_type": "code",
   "execution_count": 39,
   "id": "911ce67c",
   "metadata": {},
   "outputs": [
    {
     "data": {
      "text/html": [
       "<div>\n",
       "<style scoped>\n",
       "    .dataframe tbody tr th:only-of-type {\n",
       "        vertical-align: middle;\n",
       "    }\n",
       "\n",
       "    .dataframe tbody tr th {\n",
       "        vertical-align: top;\n",
       "    }\n",
       "\n",
       "    .dataframe thead th {\n",
       "        text-align: right;\n",
       "    }\n",
       "</style>\n",
       "<table border=\"1\" class=\"dataframe\">\n",
       "  <thead>\n",
       "    <tr style=\"text-align: right;\">\n",
       "      <th></th>\n",
       "      <th>App</th>\n",
       "      <th>Size</th>\n",
       "    </tr>\n",
       "  </thead>\n",
       "  <tbody>\n",
       "    <tr>\n",
       "      <th>1793</th>\n",
       "      <td>Mini Golf King - Multiplayer Game</td>\n",
       "      <td>100M</td>\n",
       "    </tr>\n",
       "    <tr>\n",
       "      <th>1565</th>\n",
       "      <td>Talking Babsy Baby: Baby Games</td>\n",
       "      <td>100M</td>\n",
       "    </tr>\n",
       "    <tr>\n",
       "      <th>8409</th>\n",
       "      <td>Car Crash III Beam DH Real Damage Simulator 2018</td>\n",
       "      <td>100M</td>\n",
       "    </tr>\n",
       "    <tr>\n",
       "      <th>9170</th>\n",
       "      <td>Stickman Legends: Shadow Wars</td>\n",
       "      <td>100M</td>\n",
       "    </tr>\n",
       "    <tr>\n",
       "      <th>5865</th>\n",
       "      <td>Gangster Town: Vice District</td>\n",
       "      <td>100M</td>\n",
       "    </tr>\n",
       "    <tr>\n",
       "      <th>1988</th>\n",
       "      <td>Hungry Shark Evolution</td>\n",
       "      <td>100M</td>\n",
       "    </tr>\n",
       "    <tr>\n",
       "      <th>5862</th>\n",
       "      <td>Miami crime simulator</td>\n",
       "      <td>100M</td>\n",
       "    </tr>\n",
       "    <tr>\n",
       "      <th>1080</th>\n",
       "      <td>Post Bank</td>\n",
       "      <td>100M</td>\n",
       "    </tr>\n",
       "    <tr>\n",
       "      <th>5530</th>\n",
       "      <td>The Walking Dead: Our World</td>\n",
       "      <td>100M</td>\n",
       "    </tr>\n",
       "    <tr>\n",
       "      <th>5427</th>\n",
       "      <td>Ultimate Tennis</td>\n",
       "      <td>100M</td>\n",
       "    </tr>\n",
       "    <tr>\n",
       "      <th>8847</th>\n",
       "      <td>Draft Simulator for FUT 18</td>\n",
       "      <td>100M</td>\n",
       "    </tr>\n",
       "    <tr>\n",
       "      <th>4690</th>\n",
       "      <td>Vi Trainer</td>\n",
       "      <td>100M</td>\n",
       "    </tr>\n",
       "    <tr>\n",
       "      <th>1758</th>\n",
       "      <td>Hungry Shark Evolution</td>\n",
       "      <td>100M</td>\n",
       "    </tr>\n",
       "    <tr>\n",
       "      <th>2299</th>\n",
       "      <td>Navi Radiography Pro</td>\n",
       "      <td>100M</td>\n",
       "    </tr>\n",
       "    <tr>\n",
       "      <th>3973</th>\n",
       "      <td>Hungry Shark Evolution</td>\n",
       "      <td>100M</td>\n",
       "    </tr>\n",
       "    <tr>\n",
       "      <th>7404</th>\n",
       "      <td>SimCity BuildIt</td>\n",
       "      <td>100M</td>\n",
       "    </tr>\n",
       "    <tr>\n",
       "      <th>4798</th>\n",
       "      <td>Vegas Crime Simulator</td>\n",
       "      <td>99M</td>\n",
       "    </tr>\n",
       "    <tr>\n",
       "      <th>5641</th>\n",
       "      <td>Five Nights at Freddy's: SL</td>\n",
       "      <td>99M</td>\n",
       "    </tr>\n",
       "    <tr>\n",
       "      <th>9348</th>\n",
       "      <td>LA Stories 4 New Order Sandbox 2018</td>\n",
       "      <td>99M</td>\n",
       "    </tr>\n",
       "    <tr>\n",
       "      <th>9353</th>\n",
       "      <td>L.A. Crime Stories Mad City Crime</td>\n",
       "      <td>99M</td>\n",
       "    </tr>\n",
       "  </tbody>\n",
       "</table>\n",
       "</div>"
      ],
      "text/plain": [
       "                                                   App  Size\n",
       "1793                 Mini Golf King - Multiplayer Game  100M\n",
       "1565                    Talking Babsy Baby: Baby Games  100M\n",
       "8409  Car Crash III Beam DH Real Damage Simulator 2018  100M\n",
       "9170                     Stickman Legends: Shadow Wars  100M\n",
       "5865                      Gangster Town: Vice District  100M\n",
       "1988                            Hungry Shark Evolution  100M\n",
       "5862                             Miami crime simulator  100M\n",
       "1080                                         Post Bank  100M\n",
       "5530                       The Walking Dead: Our World  100M\n",
       "5427                                   Ultimate Tennis  100M\n",
       "8847                        Draft Simulator for FUT 18  100M\n",
       "4690                                        Vi Trainer  100M\n",
       "1758                            Hungry Shark Evolution  100M\n",
       "2299                              Navi Radiography Pro  100M\n",
       "3973                            Hungry Shark Evolution  100M\n",
       "7404                                   SimCity BuildIt  100M\n",
       "4798                             Vegas Crime Simulator   99M\n",
       "5641                       Five Nights at Freddy's: SL   99M\n",
       "9348               LA Stories 4 New Order Sandbox 2018   99M\n",
       "9353                 L.A. Crime Stories Mad City Crime   99M"
      ]
     },
     "execution_count": 39,
     "metadata": {},
     "output_type": "execute_result"
    }
   ],
   "source": [
    "app_size[app_size['Unit']=='M'].sort_values('Value',ascending=False)[['App','Size']].head(20)"
   ]
  },
  {
   "cell_type": "markdown",
   "id": "1748a987",
   "metadata": {},
   "source": [
    "## App with Largest Number of Installation"
   ]
  },
  {
   "cell_type": "code",
   "execution_count": 40,
   "id": "22553fc2",
   "metadata": {},
   "outputs": [],
   "source": [
    "app_inst=df[['App','Installs']]"
   ]
  },
  {
   "cell_type": "code",
   "execution_count": 41,
   "id": "f86a4a18",
   "metadata": {},
   "outputs": [
    {
     "data": {
      "text/html": [
       "<div>\n",
       "<style scoped>\n",
       "    .dataframe tbody tr th:only-of-type {\n",
       "        vertical-align: middle;\n",
       "    }\n",
       "\n",
       "    .dataframe tbody tr th {\n",
       "        vertical-align: top;\n",
       "    }\n",
       "\n",
       "    .dataframe thead th {\n",
       "        text-align: right;\n",
       "    }\n",
       "</style>\n",
       "<table border=\"1\" class=\"dataframe\">\n",
       "  <thead>\n",
       "    <tr style=\"text-align: right;\">\n",
       "      <th></th>\n",
       "      <th>App</th>\n",
       "      <th>Installs</th>\n",
       "    </tr>\n",
       "  </thead>\n",
       "  <tbody>\n",
       "    <tr>\n",
       "      <th>0</th>\n",
       "      <td>Photo Editor &amp; Candy Camera &amp; Grid &amp; ScrapBook</td>\n",
       "      <td>10000</td>\n",
       "    </tr>\n",
       "    <tr>\n",
       "      <th>1</th>\n",
       "      <td>Coloring book moana</td>\n",
       "      <td>500000</td>\n",
       "    </tr>\n",
       "    <tr>\n",
       "      <th>2</th>\n",
       "      <td>U Launcher Lite – FREE Live Cool Themes, Hide ...</td>\n",
       "      <td>5000000</td>\n",
       "    </tr>\n",
       "    <tr>\n",
       "      <th>3</th>\n",
       "      <td>Sketch - Draw &amp; Paint</td>\n",
       "      <td>50000000</td>\n",
       "    </tr>\n",
       "    <tr>\n",
       "      <th>4</th>\n",
       "      <td>Pixel Draw - Number Art Coloring Book</td>\n",
       "      <td>100000</td>\n",
       "    </tr>\n",
       "  </tbody>\n",
       "</table>\n",
       "</div>"
      ],
      "text/plain": [
       "                                                 App  Installs\n",
       "0     Photo Editor & Candy Camera & Grid & ScrapBook     10000\n",
       "1                                Coloring book moana    500000\n",
       "2  U Launcher Lite – FREE Live Cool Themes, Hide ...   5000000\n",
       "3                              Sketch - Draw & Paint  50000000\n",
       "4              Pixel Draw - Number Art Coloring Book    100000"
      ]
     },
     "execution_count": 41,
     "metadata": {},
     "output_type": "execute_result"
    }
   ],
   "source": [
    "app_inst.head()"
   ]
  },
  {
   "cell_type": "code",
   "execution_count": 42,
   "id": "da05e6bb",
   "metadata": {},
   "outputs": [
    {
     "data": {
      "text/html": [
       "<div>\n",
       "<style scoped>\n",
       "    .dataframe tbody tr th:only-of-type {\n",
       "        vertical-align: middle;\n",
       "    }\n",
       "\n",
       "    .dataframe tbody tr th {\n",
       "        vertical-align: top;\n",
       "    }\n",
       "\n",
       "    .dataframe thead th {\n",
       "        text-align: right;\n",
       "    }\n",
       "</style>\n",
       "<table border=\"1\" class=\"dataframe\">\n",
       "  <thead>\n",
       "    <tr style=\"text-align: right;\">\n",
       "      <th></th>\n",
       "      <th>App</th>\n",
       "      <th>Installs</th>\n",
       "    </tr>\n",
       "  </thead>\n",
       "  <tbody>\n",
       "    <tr>\n",
       "      <th>3896</th>\n",
       "      <td>Subway Surfers</td>\n",
       "      <td>1000000000</td>\n",
       "    </tr>\n",
       "    <tr>\n",
       "      <th>3943</th>\n",
       "      <td>Facebook</td>\n",
       "      <td>1000000000</td>\n",
       "    </tr>\n",
       "    <tr>\n",
       "      <th>335</th>\n",
       "      <td>Messenger – Text and Video Chat for Free</td>\n",
       "      <td>1000000000</td>\n",
       "    </tr>\n",
       "    <tr>\n",
       "      <th>3523</th>\n",
       "      <td>Google Drive</td>\n",
       "      <td>1000000000</td>\n",
       "    </tr>\n",
       "    <tr>\n",
       "      <th>3565</th>\n",
       "      <td>Google Drive</td>\n",
       "      <td>1000000000</td>\n",
       "    </tr>\n",
       "    <tr>\n",
       "      <th>2884</th>\n",
       "      <td>Google Photos</td>\n",
       "      <td>1000000000</td>\n",
       "    </tr>\n",
       "    <tr>\n",
       "      <th>3665</th>\n",
       "      <td>YouTube</td>\n",
       "      <td>1000000000</td>\n",
       "    </tr>\n",
       "    <tr>\n",
       "      <th>2853</th>\n",
       "      <td>Google Photos</td>\n",
       "      <td>1000000000</td>\n",
       "    </tr>\n",
       "    <tr>\n",
       "      <th>4234</th>\n",
       "      <td>Skype - free IM &amp; video calls</td>\n",
       "      <td>1000000000</td>\n",
       "    </tr>\n",
       "    <tr>\n",
       "      <th>3687</th>\n",
       "      <td>Google Play Movies &amp; TV</td>\n",
       "      <td>1000000000</td>\n",
       "    </tr>\n",
       "  </tbody>\n",
       "</table>\n",
       "</div>"
      ],
      "text/plain": [
       "                                           App    Installs\n",
       "3896                            Subway Surfers  1000000000\n",
       "3943                                  Facebook  1000000000\n",
       "335   Messenger – Text and Video Chat for Free  1000000000\n",
       "3523                              Google Drive  1000000000\n",
       "3565                              Google Drive  1000000000\n",
       "2884                             Google Photos  1000000000\n",
       "3665                                   YouTube  1000000000\n",
       "2853                             Google Photos  1000000000\n",
       "4234             Skype - free IM & video calls  1000000000\n",
       "3687                   Google Play Movies & TV  1000000000"
      ]
     },
     "execution_count": 42,
     "metadata": {},
     "output_type": "execute_result"
    }
   ],
   "source": [
    "app_inst.sort_values('Installs',ascending=False).head(10)"
   ]
  },
  {
   "cell_type": "markdown",
   "id": "ffad57dc",
   "metadata": {},
   "source": [
    "## App with large number of Reviews"
   ]
  },
  {
   "cell_type": "code",
   "execution_count": 43,
   "id": "6e027952",
   "metadata": {},
   "outputs": [],
   "source": [
    "app_rev=df[['App','Reviews']]"
   ]
  },
  {
   "cell_type": "code",
   "execution_count": 44,
   "id": "20110bce",
   "metadata": {},
   "outputs": [
    {
     "data": {
      "text/html": [
       "<div>\n",
       "<style scoped>\n",
       "    .dataframe tbody tr th:only-of-type {\n",
       "        vertical-align: middle;\n",
       "    }\n",
       "\n",
       "    .dataframe tbody tr th {\n",
       "        vertical-align: top;\n",
       "    }\n",
       "\n",
       "    .dataframe thead th {\n",
       "        text-align: right;\n",
       "    }\n",
       "</style>\n",
       "<table border=\"1\" class=\"dataframe\">\n",
       "  <thead>\n",
       "    <tr style=\"text-align: right;\">\n",
       "      <th></th>\n",
       "      <th>App</th>\n",
       "      <th>Reviews</th>\n",
       "    </tr>\n",
       "  </thead>\n",
       "  <tbody>\n",
       "    <tr>\n",
       "      <th>2544</th>\n",
       "      <td>Facebook</td>\n",
       "      <td>78158306</td>\n",
       "    </tr>\n",
       "    <tr>\n",
       "      <th>3943</th>\n",
       "      <td>Facebook</td>\n",
       "      <td>78128208</td>\n",
       "    </tr>\n",
       "    <tr>\n",
       "      <th>381</th>\n",
       "      <td>WhatsApp Messenger</td>\n",
       "      <td>69119316</td>\n",
       "    </tr>\n",
       "    <tr>\n",
       "      <th>336</th>\n",
       "      <td>WhatsApp Messenger</td>\n",
       "      <td>69119316</td>\n",
       "    </tr>\n",
       "    <tr>\n",
       "      <th>3904</th>\n",
       "      <td>WhatsApp Messenger</td>\n",
       "      <td>69109672</td>\n",
       "    </tr>\n",
       "    <tr>\n",
       "      <th>2604</th>\n",
       "      <td>Instagram</td>\n",
       "      <td>66577446</td>\n",
       "    </tr>\n",
       "    <tr>\n",
       "      <th>2611</th>\n",
       "      <td>Instagram</td>\n",
       "      <td>66577313</td>\n",
       "    </tr>\n",
       "    <tr>\n",
       "      <th>2545</th>\n",
       "      <td>Instagram</td>\n",
       "      <td>66577313</td>\n",
       "    </tr>\n",
       "    <tr>\n",
       "      <th>3909</th>\n",
       "      <td>Instagram</td>\n",
       "      <td>66509917</td>\n",
       "    </tr>\n",
       "    <tr>\n",
       "      <th>382</th>\n",
       "      <td>Messenger – Text and Video Chat for Free</td>\n",
       "      <td>56646578</td>\n",
       "    </tr>\n",
       "  </tbody>\n",
       "</table>\n",
       "</div>"
      ],
      "text/plain": [
       "                                           App   Reviews\n",
       "2544                                  Facebook  78158306\n",
       "3943                                  Facebook  78128208\n",
       "381                         WhatsApp Messenger  69119316\n",
       "336                         WhatsApp Messenger  69119316\n",
       "3904                        WhatsApp Messenger  69109672\n",
       "2604                                 Instagram  66577446\n",
       "2611                                 Instagram  66577313\n",
       "2545                                 Instagram  66577313\n",
       "3909                                 Instagram  66509917\n",
       "382   Messenger – Text and Video Chat for Free  56646578"
      ]
     },
     "execution_count": 44,
     "metadata": {},
     "output_type": "execute_result"
    }
   ],
   "source": [
    "app_rev.sort_values('Reviews',ascending=False).head(10)"
   ]
  },
  {
   "cell_type": "markdown",
   "id": "b5de3cc1",
   "metadata": {},
   "source": [
    "## Most Popular Category"
   ]
  },
  {
   "cell_type": "code",
   "execution_count": 45,
   "id": "f393fb0a",
   "metadata": {},
   "outputs": [],
   "source": [
    "app_grp=df.groupby('Category')"
   ]
  },
  {
   "cell_type": "code",
   "execution_count": 46,
   "id": "ebe150c7",
   "metadata": {},
   "outputs": [],
   "source": [
    "grp=app_grp.mean()\n",
    "grp['Count']=app_grp['App'].count()"
   ]
  },
  {
   "cell_type": "markdown",
   "id": "d2a95e5c",
   "metadata": {},
   "source": [
    "### Popularity based on Customer Preference"
   ]
  },
  {
   "cell_type": "code",
   "execution_count": 47,
   "id": "d6c52230",
   "metadata": {},
   "outputs": [
    {
     "data": {
      "text/html": [
       "<div>\n",
       "<style scoped>\n",
       "    .dataframe tbody tr th:only-of-type {\n",
       "        vertical-align: middle;\n",
       "    }\n",
       "\n",
       "    .dataframe tbody tr th {\n",
       "        vertical-align: top;\n",
       "    }\n",
       "\n",
       "    .dataframe thead th {\n",
       "        text-align: right;\n",
       "    }\n",
       "</style>\n",
       "<table border=\"1\" class=\"dataframe\">\n",
       "  <thead>\n",
       "    <tr style=\"text-align: right;\">\n",
       "      <th></th>\n",
       "      <th>Rating</th>\n",
       "      <th>Reviews</th>\n",
       "      <th>Installs</th>\n",
       "      <th>Price</th>\n",
       "      <th>Value</th>\n",
       "      <th>Count</th>\n",
       "    </tr>\n",
       "    <tr>\n",
       "      <th>Category</th>\n",
       "      <th></th>\n",
       "      <th></th>\n",
       "      <th></th>\n",
       "      <th></th>\n",
       "      <th></th>\n",
       "      <th></th>\n",
       "    </tr>\n",
       "  </thead>\n",
       "  <tbody>\n",
       "    <tr>\n",
       "      <th>COMMUNICATION</th>\n",
       "      <td>4.180103</td>\n",
       "      <td>2.107138e+06</td>\n",
       "      <td>8.435989e+07</td>\n",
       "      <td>0.214832</td>\n",
       "      <td>38.200258</td>\n",
       "      <td>387</td>\n",
       "    </tr>\n",
       "    <tr>\n",
       "      <th>SOCIAL</th>\n",
       "      <td>4.261017</td>\n",
       "      <td>2.105903e+06</td>\n",
       "      <td>4.769447e+07</td>\n",
       "      <td>0.054136</td>\n",
       "      <td>18.658983</td>\n",
       "      <td>295</td>\n",
       "    </tr>\n",
       "    <tr>\n",
       "      <th>GAME</th>\n",
       "      <td>4.295105</td>\n",
       "      <td>1.385859e+06</td>\n",
       "      <td>3.066960e+07</td>\n",
       "      <td>0.251136</td>\n",
       "      <td>40.633042</td>\n",
       "      <td>1144</td>\n",
       "    </tr>\n",
       "    <tr>\n",
       "      <th>PHOTOGRAPHY</th>\n",
       "      <td>4.197910</td>\n",
       "      <td>6.373631e+05</td>\n",
       "      <td>3.011417e+07</td>\n",
       "      <td>0.400627</td>\n",
       "      <td>16.111642</td>\n",
       "      <td>335</td>\n",
       "    </tr>\n",
       "    <tr>\n",
       "      <th>VIDEO_PLAYERS</th>\n",
       "      <td>4.084000</td>\n",
       "      <td>6.307439e+05</td>\n",
       "      <td>3.555430e+07</td>\n",
       "      <td>0.059771</td>\n",
       "      <td>16.493143</td>\n",
       "      <td>175</td>\n",
       "    </tr>\n",
       "  </tbody>\n",
       "</table>\n",
       "</div>"
      ],
      "text/plain": [
       "                 Rating       Reviews      Installs     Price      Value  \\\n",
       "Category                                                                   \n",
       "COMMUNICATION  4.180103  2.107138e+06  8.435989e+07  0.214832  38.200258   \n",
       "SOCIAL         4.261017  2.105903e+06  4.769447e+07  0.054136  18.658983   \n",
       "GAME           4.295105  1.385859e+06  3.066960e+07  0.251136  40.633042   \n",
       "PHOTOGRAPHY    4.197910  6.373631e+05  3.011417e+07  0.400627  16.111642   \n",
       "VIDEO_PLAYERS  4.084000  6.307439e+05  3.555430e+07  0.059771  16.493143   \n",
       "\n",
       "               Count  \n",
       "Category              \n",
       "COMMUNICATION    387  \n",
       "SOCIAL           295  \n",
       "GAME            1144  \n",
       "PHOTOGRAPHY      335  \n",
       "VIDEO_PLAYERS    175  "
      ]
     },
     "execution_count": 47,
     "metadata": {},
     "output_type": "execute_result"
    }
   ],
   "source": [
    "grp.sort_values(['Reviews','Rating'],ascending=False).head()"
   ]
  },
  {
   "cell_type": "markdown",
   "id": "00eb4c51",
   "metadata": {},
   "source": [
    "### Popularity based on App Development"
   ]
  },
  {
   "cell_type": "code",
   "execution_count": 48,
   "id": "74c5b059",
   "metadata": {},
   "outputs": [
    {
     "data": {
      "text/html": [
       "<div>\n",
       "<style scoped>\n",
       "    .dataframe tbody tr th:only-of-type {\n",
       "        vertical-align: middle;\n",
       "    }\n",
       "\n",
       "    .dataframe tbody tr th {\n",
       "        vertical-align: top;\n",
       "    }\n",
       "\n",
       "    .dataframe thead th {\n",
       "        text-align: right;\n",
       "    }\n",
       "</style>\n",
       "<table border=\"1\" class=\"dataframe\">\n",
       "  <thead>\n",
       "    <tr style=\"text-align: right;\">\n",
       "      <th></th>\n",
       "      <th>Rating</th>\n",
       "      <th>Reviews</th>\n",
       "      <th>Installs</th>\n",
       "      <th>Price</th>\n",
       "      <th>Value</th>\n",
       "      <th>Count</th>\n",
       "    </tr>\n",
       "    <tr>\n",
       "      <th>Category</th>\n",
       "      <th></th>\n",
       "      <th></th>\n",
       "      <th></th>\n",
       "      <th></th>\n",
       "      <th></th>\n",
       "      <th></th>\n",
       "    </tr>\n",
       "  </thead>\n",
       "  <tbody>\n",
       "    <tr>\n",
       "      <th>FAMILY</th>\n",
       "      <td>4.204564</td>\n",
       "      <td>2.080255e+05</td>\n",
       "      <td>5.201959e+06</td>\n",
       "      <td>1.234675</td>\n",
       "      <td>35.309381</td>\n",
       "      <td>1972</td>\n",
       "    </tr>\n",
       "    <tr>\n",
       "      <th>GAME</th>\n",
       "      <td>4.295105</td>\n",
       "      <td>1.385859e+06</td>\n",
       "      <td>3.066960e+07</td>\n",
       "      <td>0.251136</td>\n",
       "      <td>40.633042</td>\n",
       "      <td>1144</td>\n",
       "    </tr>\n",
       "    <tr>\n",
       "      <th>TOOLS</th>\n",
       "      <td>4.067141</td>\n",
       "      <td>3.240629e+05</td>\n",
       "      <td>1.358573e+07</td>\n",
       "      <td>0.317023</td>\n",
       "      <td>41.882681</td>\n",
       "      <td>843</td>\n",
       "    </tr>\n",
       "    <tr>\n",
       "      <th>MEDICAL</th>\n",
       "      <td>4.265011</td>\n",
       "      <td>3.425432e+03</td>\n",
       "      <td>1.150269e+05</td>\n",
       "      <td>3.110065</td>\n",
       "      <td>41.708855</td>\n",
       "      <td>463</td>\n",
       "    </tr>\n",
       "    <tr>\n",
       "      <th>BUSINESS</th>\n",
       "      <td>4.216522</td>\n",
       "      <td>3.033598e+04</td>\n",
       "      <td>2.178076e+06</td>\n",
       "      <td>0.402761</td>\n",
       "      <td>23.150000</td>\n",
       "      <td>460</td>\n",
       "    </tr>\n",
       "  </tbody>\n",
       "</table>\n",
       "</div>"
      ],
      "text/plain": [
       "            Rating       Reviews      Installs     Price      Value  Count\n",
       "Category                                                                  \n",
       "FAMILY    4.204564  2.080255e+05  5.201959e+06  1.234675  35.309381   1972\n",
       "GAME      4.295105  1.385859e+06  3.066960e+07  0.251136  40.633042   1144\n",
       "TOOLS     4.067141  3.240629e+05  1.358573e+07  0.317023  41.882681    843\n",
       "MEDICAL   4.265011  3.425432e+03  1.150269e+05  3.110065  41.708855    463\n",
       "BUSINESS  4.216522  3.033598e+04  2.178076e+06  0.402761  23.150000    460"
      ]
     },
     "execution_count": 48,
     "metadata": {},
     "output_type": "execute_result"
    }
   ],
   "source": [
    "grp.sort_values(['Count'],ascending=False).head()"
   ]
  },
  {
   "cell_type": "markdown",
   "id": "7e5f2aa4",
   "metadata": {},
   "source": [
    "## Paid vs Free"
   ]
  },
  {
   "cell_type": "code",
   "execution_count": 49,
   "id": "0287311b",
   "metadata": {},
   "outputs": [
    {
     "data": {
      "text/plain": [
       "<AxesSubplot:xlabel='Type', ylabel='count'>"
      ]
     },
     "execution_count": 49,
     "metadata": {},
     "output_type": "execute_result"
    },
    {
     "data": {
      "image/png": "[encoded data removed]",
      "text/plain": [
       "<Figure size 720x360 with 1 Axes>"
      ]
     },
     "metadata": {
      "needs_background": "light"
     },
     "output_type": "display_data"
    }
   ],
   "source": [
    "plt.figure(figsize=(10, 5))\n",
    "sns.countplot(x=\"Type\", data=df)"
   ]
  },
  {
   "cell_type": "code",
   "execution_count": 50,
   "id": "73f6a007",
   "metadata": {},
   "outputs": [
    {
     "data": {
      "text/plain": [
       "<AxesSubplot:xlabel='Rating', ylabel='Count'>"
      ]
     },
     "execution_count": 50,
     "metadata": {},
     "output_type": "execute_result"
    },
    {
     "data": {
      "image/png": "[encoded data removed]",
      "text/plain": [
       "<Figure size 1080x504 with 1 Axes>"
      ]
     },
     "metadata": {
      "needs_background": "light"
     },
     "output_type": "display_data"
    }
   ],
   "source": [
    "plt.figure(figsize=(15,7))\n",
    "sns.histplot(x='Rating',hue='Type',data=df,kde=True)"
   ]
  },
  {
   "cell_type": "code",
   "execution_count": 51,
   "id": "5e4ee9c7",
   "metadata": {},
   "outputs": [
    {
     "data": {
      "text/html": [
       "<div>\n",
       "<style scoped>\n",
       "    .dataframe tbody tr th:only-of-type {\n",
       "        vertical-align: middle;\n",
       "    }\n",
       "\n",
       "    .dataframe tbody tr th {\n",
       "        vertical-align: top;\n",
       "    }\n",
       "\n",
       "    .dataframe thead th {\n",
       "        text-align: right;\n",
       "    }\n",
       "</style>\n",
       "<table border=\"1\" class=\"dataframe\">\n",
       "  <thead>\n",
       "    <tr style=\"text-align: right;\">\n",
       "      <th></th>\n",
       "      <th>Rating</th>\n",
       "      <th>Reviews</th>\n",
       "      <th>Installs</th>\n",
       "      <th>Price</th>\n",
       "      <th>Value</th>\n",
       "      <th>Count</th>\n",
       "    </tr>\n",
       "    <tr>\n",
       "      <th>Type</th>\n",
       "      <th></th>\n",
       "      <th></th>\n",
       "      <th></th>\n",
       "      <th></th>\n",
       "      <th></th>\n",
       "      <th></th>\n",
       "    </tr>\n",
       "  </thead>\n",
       "  <tbody>\n",
       "    <tr>\n",
       "      <th>Free</th>\n",
       "      <td>4.214779</td>\n",
       "      <td>478565.756598</td>\n",
       "      <td>1.668763e+07</td>\n",
       "      <td>0.000000</td>\n",
       "      <td>29.492889</td>\n",
       "      <td>10041</td>\n",
       "    </tr>\n",
       "    <tr>\n",
       "      <th>Paid</th>\n",
       "      <td>4.291625</td>\n",
       "      <td>11673.312500</td>\n",
       "      <td>9.119510e+04</td>\n",
       "      <td>13.920837</td>\n",
       "      <td>53.192500</td>\n",
       "      <td>800</td>\n",
       "    </tr>\n",
       "  </tbody>\n",
       "</table>\n",
       "</div>"
      ],
      "text/plain": [
       "        Rating        Reviews      Installs      Price      Value  Count\n",
       "Type                                                                    \n",
       "Free  4.214779  478565.756598  1.668763e+07   0.000000  29.492889  10041\n",
       "Paid  4.291625   11673.312500  9.119510e+04  13.920837  53.192500    800"
      ]
     },
     "execution_count": 51,
     "metadata": {},
     "output_type": "execute_result"
    }
   ],
   "source": [
    "type_grp=df.groupby('Type')\n",
    "type_grp=type_grp.mean()\n",
    "type_grp['Count']=df.groupby('Type')['App'].count()\n",
    "type_grp"
   ]
  },
  {
   "cell_type": "code",
   "execution_count": 52,
   "id": "50234a41",
   "metadata": {},
   "outputs": [
    {
     "data": {
      "text/plain": [
       "<AxesSubplot:xlabel='Type', ylabel='Rating'>"
      ]
     },
     "execution_count": 52,
     "metadata": {},
     "output_type": "execute_result"
    },
    {
     "data": {
      "image/png": "[encoded data removed]",
      "text/plain": [
       "<Figure size 720x360 with 1 Axes>"
      ]
     },
     "metadata": {
      "needs_background": "light"
     },
     "output_type": "display_data"
    }
   ],
   "source": [
    "plt.figure(figsize=(10,5))\n",
    "sns.barplot(x=type_grp.index,y='Rating',data=type_grp)"
   ]
  },
  {
   "cell_type": "markdown",
   "id": "d4f50110",
   "metadata": {},
   "source": [
    "## Most Downloads on the latest update Year 2010 to 2018"
   ]
  },
  {
   "cell_type": "code",
   "execution_count": 53,
   "id": "b7421e66",
   "metadata": {},
   "outputs": [
    {
     "data": {
      "text/html": [
       "<div>\n",
       "<style scoped>\n",
       "    .dataframe tbody tr th:only-of-type {\n",
       "        vertical-align: middle;\n",
       "    }\n",
       "\n",
       "    .dataframe tbody tr th {\n",
       "        vertical-align: top;\n",
       "    }\n",
       "\n",
       "    .dataframe thead th {\n",
       "        text-align: right;\n",
       "    }\n",
       "</style>\n",
       "<table border=\"1\" class=\"dataframe\">\n",
       "  <thead>\n",
       "    <tr style=\"text-align: right;\">\n",
       "      <th></th>\n",
       "      <th>App</th>\n",
       "      <th>Installs</th>\n",
       "      <th>Reviews</th>\n",
       "      <th>Rating</th>\n",
       "      <th>Last Updated</th>\n",
       "    </tr>\n",
       "  </thead>\n",
       "  <tbody>\n",
       "    <tr>\n",
       "      <th>0</th>\n",
       "      <td>Photo Editor &amp; Candy Camera &amp; Grid &amp; ScrapBook</td>\n",
       "      <td>10000</td>\n",
       "      <td>159</td>\n",
       "      <td>4.1</td>\n",
       "      <td>January 7, 2018</td>\n",
       "    </tr>\n",
       "    <tr>\n",
       "      <th>1</th>\n",
       "      <td>Coloring book moana</td>\n",
       "      <td>500000</td>\n",
       "      <td>967</td>\n",
       "      <td>3.9</td>\n",
       "      <td>January 15, 2018</td>\n",
       "    </tr>\n",
       "    <tr>\n",
       "      <th>2</th>\n",
       "      <td>U Launcher Lite – FREE Live Cool Themes, Hide ...</td>\n",
       "      <td>5000000</td>\n",
       "      <td>87510</td>\n",
       "      <td>4.7</td>\n",
       "      <td>August 1, 2018</td>\n",
       "    </tr>\n",
       "    <tr>\n",
       "      <th>3</th>\n",
       "      <td>Sketch - Draw &amp; Paint</td>\n",
       "      <td>50000000</td>\n",
       "      <td>215644</td>\n",
       "      <td>4.5</td>\n",
       "      <td>June 8, 2018</td>\n",
       "    </tr>\n",
       "    <tr>\n",
       "      <th>4</th>\n",
       "      <td>Pixel Draw - Number Art Coloring Book</td>\n",
       "      <td>100000</td>\n",
       "      <td>967</td>\n",
       "      <td>4.3</td>\n",
       "      <td>June 20, 2018</td>\n",
       "    </tr>\n",
       "    <tr>\n",
       "      <th>...</th>\n",
       "      <td>...</td>\n",
       "      <td>...</td>\n",
       "      <td>...</td>\n",
       "      <td>...</td>\n",
       "      <td>...</td>\n",
       "    </tr>\n",
       "    <tr>\n",
       "      <th>10836</th>\n",
       "      <td>Sya9a Maroc - FR</td>\n",
       "      <td>5000</td>\n",
       "      <td>38</td>\n",
       "      <td>4.5</td>\n",
       "      <td>July 25, 2017</td>\n",
       "    </tr>\n",
       "    <tr>\n",
       "      <th>10837</th>\n",
       "      <td>Fr. Mike Schmitz Audio Teachings</td>\n",
       "      <td>100</td>\n",
       "      <td>4</td>\n",
       "      <td>5.0</td>\n",
       "      <td>July 6, 2018</td>\n",
       "    </tr>\n",
       "    <tr>\n",
       "      <th>10838</th>\n",
       "      <td>Parkinson Exercices FR</td>\n",
       "      <td>1000</td>\n",
       "      <td>3</td>\n",
       "      <td>4.5</td>\n",
       "      <td>January 20, 2017</td>\n",
       "    </tr>\n",
       "    <tr>\n",
       "      <th>10839</th>\n",
       "      <td>The SCP Foundation DB fr nn5n</td>\n",
       "      <td>1000</td>\n",
       "      <td>114</td>\n",
       "      <td>4.5</td>\n",
       "      <td>January 19, 2015</td>\n",
       "    </tr>\n",
       "    <tr>\n",
       "      <th>10840</th>\n",
       "      <td>iHoroscope - 2018 Daily Horoscope &amp; Astrology</td>\n",
       "      <td>10000000</td>\n",
       "      <td>398307</td>\n",
       "      <td>4.5</td>\n",
       "      <td>July 25, 2018</td>\n",
       "    </tr>\n",
       "  </tbody>\n",
       "</table>\n",
       "<p>10841 rows × 5 columns</p>\n",
       "</div>"
      ],
      "text/plain": [
       "                                                     App  Installs  Reviews  \\\n",
       "0         Photo Editor & Candy Camera & Grid & ScrapBook     10000      159   \n",
       "1                                    Coloring book moana    500000      967   \n",
       "2      U Launcher Lite – FREE Live Cool Themes, Hide ...   5000000    87510   \n",
       "3                                  Sketch - Draw & Paint  50000000   215644   \n",
       "4                  Pixel Draw - Number Art Coloring Book    100000      967   \n",
       "...                                                  ...       ...      ...   \n",
       "10836                                   Sya9a Maroc - FR      5000       38   \n",
       "10837                   Fr. Mike Schmitz Audio Teachings       100        4   \n",
       "10838                             Parkinson Exercices FR      1000        3   \n",
       "10839                      The SCP Foundation DB fr nn5n      1000      114   \n",
       "10840      iHoroscope - 2018 Daily Horoscope & Astrology  10000000   398307   \n",
       "\n",
       "       Rating      Last Updated  \n",
       "0         4.1   January 7, 2018  \n",
       "1         3.9  January 15, 2018  \n",
       "2         4.7    August 1, 2018  \n",
       "3         4.5      June 8, 2018  \n",
       "4         4.3     June 20, 2018  \n",
       "...       ...               ...  \n",
       "10836     4.5     July 25, 2017  \n",
       "10837     5.0      July 6, 2018  \n",
       "10838     4.5  January 20, 2017  \n",
       "10839     4.5  January 19, 2015  \n",
       "10840     4.5     July 25, 2018  \n",
       "\n",
       "[10841 rows x 5 columns]"
      ]
     },
     "execution_count": 53,
     "metadata": {},
     "output_type": "execute_result"
    }
   ],
   "source": [
    "app_year=df[['App','Installs','Reviews','Rating','Last Updated']]\n",
    "app_year"
   ]
  },
  {
   "cell_type": "code",
   "execution_count": 54,
   "id": "201f9ba9",
   "metadata": {},
   "outputs": [
    {
     "name": "stderr",
     "output_type": "stream",
     "text": [
      "<ipython-input-54-73fd4686c2c7>:1: SettingWithCopyWarning: \n",
      "A value is trying to be set on a copy of a slice from a DataFrame.\n",
      "Try using .loc[row_indexer,col_indexer] = value instead\n",
      "\n",
      "See the caveats in the documentation: https://pandas.pydata.org/pandas-docs/stable/user_guide/indexing.html#returning-a-view-versus-a-copy\n",
      "  app_year['Year']=app_year['Last Updated'].apply(lambda a : a[-4:])\n",
      "<ipython-input-54-73fd4686c2c7>:2: SettingWithCopyWarning: \n",
      "A value is trying to be set on a copy of a slice from a DataFrame.\n",
      "Try using .loc[row_indexer,col_indexer] = value instead\n",
      "\n",
      "See the caveats in the documentation: https://pandas.pydata.org/pandas-docs/stable/user_guide/indexing.html#returning-a-view-versus-a-copy\n",
      "  app_year['Year']=app_year['Year'].astype(int)\n"
     ]
    },
    {
     "data": {
      "text/html": [
       "<div>\n",
       "<style scoped>\n",
       "    .dataframe tbody tr th:only-of-type {\n",
       "        vertical-align: middle;\n",
       "    }\n",
       "\n",
       "    .dataframe tbody tr th {\n",
       "        vertical-align: top;\n",
       "    }\n",
       "\n",
       "    .dataframe thead th {\n",
       "        text-align: right;\n",
       "    }\n",
       "</style>\n",
       "<table border=\"1\" class=\"dataframe\">\n",
       "  <thead>\n",
       "    <tr style=\"text-align: right;\">\n",
       "      <th></th>\n",
       "      <th>App</th>\n",
       "      <th>Installs</th>\n",
       "      <th>Reviews</th>\n",
       "      <th>Rating</th>\n",
       "      <th>Last Updated</th>\n",
       "      <th>Year</th>\n",
       "    </tr>\n",
       "  </thead>\n",
       "  <tbody>\n",
       "    <tr>\n",
       "      <th>0</th>\n",
       "      <td>Photo Editor &amp; Candy Camera &amp; Grid &amp; ScrapBook</td>\n",
       "      <td>10000</td>\n",
       "      <td>159</td>\n",
       "      <td>4.1</td>\n",
       "      <td>January 7, 2018</td>\n",
       "      <td>2018</td>\n",
       "    </tr>\n",
       "    <tr>\n",
       "      <th>1</th>\n",
       "      <td>Coloring book moana</td>\n",
       "      <td>500000</td>\n",
       "      <td>967</td>\n",
       "      <td>3.9</td>\n",
       "      <td>January 15, 2018</td>\n",
       "      <td>2018</td>\n",
       "    </tr>\n",
       "    <tr>\n",
       "      <th>2</th>\n",
       "      <td>U Launcher Lite – FREE Live Cool Themes, Hide ...</td>\n",
       "      <td>5000000</td>\n",
       "      <td>87510</td>\n",
       "      <td>4.7</td>\n",
       "      <td>August 1, 2018</td>\n",
       "      <td>2018</td>\n",
       "    </tr>\n",
       "    <tr>\n",
       "      <th>3</th>\n",
       "      <td>Sketch - Draw &amp; Paint</td>\n",
       "      <td>50000000</td>\n",
       "      <td>215644</td>\n",
       "      <td>4.5</td>\n",
       "      <td>June 8, 2018</td>\n",
       "      <td>2018</td>\n",
       "    </tr>\n",
       "    <tr>\n",
       "      <th>4</th>\n",
       "      <td>Pixel Draw - Number Art Coloring Book</td>\n",
       "      <td>100000</td>\n",
       "      <td>967</td>\n",
       "      <td>4.3</td>\n",
       "      <td>June 20, 2018</td>\n",
       "      <td>2018</td>\n",
       "    </tr>\n",
       "  </tbody>\n",
       "</table>\n",
       "</div>"
      ],
      "text/plain": [
       "                                                 App  Installs  Reviews  \\\n",
       "0     Photo Editor & Candy Camera & Grid & ScrapBook     10000      159   \n",
       "1                                Coloring book moana    500000      967   \n",
       "2  U Launcher Lite – FREE Live Cool Themes, Hide ...   5000000    87510   \n",
       "3                              Sketch - Draw & Paint  50000000   215644   \n",
       "4              Pixel Draw - Number Art Coloring Book    100000      967   \n",
       "\n",
       "   Rating      Last Updated  Year  \n",
       "0     4.1   January 7, 2018  2018  \n",
       "1     3.9  January 15, 2018  2018  \n",
       "2     4.7    August 1, 2018  2018  \n",
       "3     4.5      June 8, 2018  2018  \n",
       "4     4.3     June 20, 2018  2018  "
      ]
     },
     "execution_count": 54,
     "metadata": {},
     "output_type": "execute_result"
    }
   ],
   "source": [
    "app_year['Year']=app_year['Last Updated'].apply(lambda a : a[-4:])\n",
    "app_year['Year']=app_year['Year'].astype(int)\n",
    "app_year.head()"
   ]
  },
  {
   "cell_type": "code",
   "execution_count": 55,
   "id": "d4bf66c0",
   "metadata": {},
   "outputs": [
    {
     "data": {
      "text/html": [
       "<div>\n",
       "<style scoped>\n",
       "    .dataframe tbody tr th:only-of-type {\n",
       "        vertical-align: middle;\n",
       "    }\n",
       "\n",
       "    .dataframe tbody tr th {\n",
       "        vertical-align: top;\n",
       "    }\n",
       "\n",
       "    .dataframe thead th {\n",
       "        text-align: right;\n",
       "    }\n",
       "</style>\n",
       "<table border=\"1\" class=\"dataframe\">\n",
       "  <thead>\n",
       "    <tr style=\"text-align: right;\">\n",
       "      <th></th>\n",
       "      <th>App</th>\n",
       "      <th>Installs</th>\n",
       "      <th>Reviews</th>\n",
       "      <th>Rating</th>\n",
       "      <th>Last Updated</th>\n",
       "    </tr>\n",
       "    <tr>\n",
       "      <th>Year</th>\n",
       "      <th></th>\n",
       "      <th></th>\n",
       "      <th></th>\n",
       "      <th></th>\n",
       "      <th></th>\n",
       "    </tr>\n",
       "  </thead>\n",
       "  <tbody>\n",
       "    <tr>\n",
       "      <th>2018</th>\n",
       "      <td>Facebook</td>\n",
       "      <td>1000000000</td>\n",
       "      <td>78158306</td>\n",
       "      <td>4.1</td>\n",
       "      <td>August 3, 2018</td>\n",
       "    </tr>\n",
       "    <tr>\n",
       "      <th>2017</th>\n",
       "      <td>Geometry Dash Lite</td>\n",
       "      <td>100000000</td>\n",
       "      <td>6181640</td>\n",
       "      <td>4.5</td>\n",
       "      <td>December 22, 2017</td>\n",
       "    </tr>\n",
       "    <tr>\n",
       "      <th>2016</th>\n",
       "      <td>Vector</td>\n",
       "      <td>100000000</td>\n",
       "      <td>3058687</td>\n",
       "      <td>4.4</td>\n",
       "      <td>July 18, 2016</td>\n",
       "    </tr>\n",
       "    <tr>\n",
       "      <th>2015</th>\n",
       "      <td>Smash Hit</td>\n",
       "      <td>100000000</td>\n",
       "      <td>4147718</td>\n",
       "      <td>4.5</td>\n",
       "      <td>November 26, 2015</td>\n",
       "    </tr>\n",
       "    <tr>\n",
       "      <th>2014</th>\n",
       "      <td>Five Nights at Freddy's 2 Demo</td>\n",
       "      <td>50000000</td>\n",
       "      <td>1503544</td>\n",
       "      <td>4.3</td>\n",
       "      <td>November 15, 2014</td>\n",
       "    </tr>\n",
       "    <tr>\n",
       "      <th>2013</th>\n",
       "      <td>SpongeBob Diner Dash</td>\n",
       "      <td>50000000</td>\n",
       "      <td>576210</td>\n",
       "      <td>4.0</td>\n",
       "      <td>August 22, 2013</td>\n",
       "    </tr>\n",
       "    <tr>\n",
       "      <th>2012</th>\n",
       "      <td>Aviary Stickers: Free Pack</td>\n",
       "      <td>10000000</td>\n",
       "      <td>126862</td>\n",
       "      <td>3.5</td>\n",
       "      <td>January 17, 2012</td>\n",
       "    </tr>\n",
       "    <tr>\n",
       "      <th>2011</th>\n",
       "      <td>CONTRACT KILLER: ZOMBIES</td>\n",
       "      <td>5000000</td>\n",
       "      <td>144545</td>\n",
       "      <td>4.4</td>\n",
       "      <td>December 1, 2011</td>\n",
       "    </tr>\n",
       "    <tr>\n",
       "      <th>2010</th>\n",
       "      <td>FML F*ck my life + widget</td>\n",
       "      <td>100000</td>\n",
       "      <td>1415</td>\n",
       "      <td>4.2</td>\n",
       "      <td>May 21, 2010</td>\n",
       "    </tr>\n",
       "  </tbody>\n",
       "</table>\n",
       "</div>"
      ],
      "text/plain": [
       "                                 App    Installs   Reviews  Rating  \\\n",
       "Year                                                                 \n",
       "2018                        Facebook  1000000000  78158306     4.1   \n",
       "2017              Geometry Dash Lite   100000000   6181640     4.5   \n",
       "2016                          Vector   100000000   3058687     4.4   \n",
       "2015                       Smash Hit   100000000   4147718     4.5   \n",
       "2014  Five Nights at Freddy's 2 Demo    50000000   1503544     4.3   \n",
       "2013            SpongeBob Diner Dash    50000000    576210     4.0   \n",
       "2012      Aviary Stickers: Free Pack    10000000    126862     3.5   \n",
       "2011        CONTRACT KILLER: ZOMBIES     5000000    144545     4.4   \n",
       "2010       FML F*ck my life + widget      100000      1415     4.2   \n",
       "\n",
       "           Last Updated  \n",
       "Year                     \n",
       "2018     August 3, 2018  \n",
       "2017  December 22, 2017  \n",
       "2016      July 18, 2016  \n",
       "2015  November 26, 2015  \n",
       "2014  November 15, 2014  \n",
       "2013    August 22, 2013  \n",
       "2012   January 17, 2012  \n",
       "2011   December 1, 2011  \n",
       "2010       May 21, 2010  "
      ]
     },
     "execution_count": 55,
     "metadata": {},
     "output_type": "execute_result"
    }
   ],
   "source": [
    "year_grp=app_year.sort_values(['Installs','Reviews'],ascending=False).groupby('Year')\n",
    "year_grp.first().sort_index(ascending=False)"
   ]
  },
  {
   "cell_type": "code",
   "execution_count": 56,
   "id": "03904440",
   "metadata": {},
   "outputs": [
    {
     "data": {
      "text/html": [
       "<div>\n",
       "<style scoped>\n",
       "    .dataframe tbody tr th:only-of-type {\n",
       "        vertical-align: middle;\n",
       "    }\n",
       "\n",
       "    .dataframe tbody tr th {\n",
       "        vertical-align: top;\n",
       "    }\n",
       "\n",
       "    .dataframe thead th {\n",
       "        text-align: right;\n",
       "    }\n",
       "</style>\n",
       "<table border=\"1\" class=\"dataframe\">\n",
       "  <thead>\n",
       "    <tr style=\"text-align: right;\">\n",
       "      <th></th>\n",
       "      <th>App</th>\n",
       "      <th>Installs</th>\n",
       "      <th>Reviews</th>\n",
       "      <th>Rating</th>\n",
       "      <th>Last Updated</th>\n",
       "    </tr>\n",
       "    <tr>\n",
       "      <th>Year</th>\n",
       "      <th></th>\n",
       "      <th></th>\n",
       "      <th></th>\n",
       "      <th></th>\n",
       "      <th></th>\n",
       "    </tr>\n",
       "  </thead>\n",
       "  <tbody>\n",
       "    <tr>\n",
       "      <th>2018</th>\n",
       "      <td>Facebook</td>\n",
       "      <td>1000000000</td>\n",
       "      <td>78158306</td>\n",
       "      <td>4.1</td>\n",
       "      <td>August 3, 2018</td>\n",
       "    </tr>\n",
       "    <tr>\n",
       "      <th>2017</th>\n",
       "      <td>Geometry Dash Lite</td>\n",
       "      <td>100000000</td>\n",
       "      <td>6181640</td>\n",
       "      <td>4.5</td>\n",
       "      <td>December 22, 2017</td>\n",
       "    </tr>\n",
       "    <tr>\n",
       "      <th>2016</th>\n",
       "      <td>Vector</td>\n",
       "      <td>100000000</td>\n",
       "      <td>3058687</td>\n",
       "      <td>4.4</td>\n",
       "      <td>July 18, 2016</td>\n",
       "    </tr>\n",
       "    <tr>\n",
       "      <th>2015</th>\n",
       "      <td>Smash Hit</td>\n",
       "      <td>100000000</td>\n",
       "      <td>4147718</td>\n",
       "      <td>4.5</td>\n",
       "      <td>November 26, 2015</td>\n",
       "    </tr>\n",
       "    <tr>\n",
       "      <th>2014</th>\n",
       "      <td>FRONTLINE COMMANDO: D-DAY</td>\n",
       "      <td>10000000</td>\n",
       "      <td>1736105</td>\n",
       "      <td>4.5</td>\n",
       "      <td>May 16, 2014</td>\n",
       "    </tr>\n",
       "    <tr>\n",
       "      <th>2013</th>\n",
       "      <td>FRONTLINE COMMANDO</td>\n",
       "      <td>10000000</td>\n",
       "      <td>1351833</td>\n",
       "      <td>4.4</td>\n",
       "      <td>October 28, 2013</td>\n",
       "    </tr>\n",
       "    <tr>\n",
       "      <th>2012</th>\n",
       "      <td>Aviary Stickers: Free Pack</td>\n",
       "      <td>10000000</td>\n",
       "      <td>126862</td>\n",
       "      <td>3.5</td>\n",
       "      <td>January 17, 2012</td>\n",
       "    </tr>\n",
       "    <tr>\n",
       "      <th>2011</th>\n",
       "      <td>CONTRACT KILLER: ZOMBIES</td>\n",
       "      <td>5000000</td>\n",
       "      <td>144545</td>\n",
       "      <td>4.4</td>\n",
       "      <td>December 1, 2011</td>\n",
       "    </tr>\n",
       "    <tr>\n",
       "      <th>2010</th>\n",
       "      <td>FML F*ck my life + widget</td>\n",
       "      <td>100000</td>\n",
       "      <td>1415</td>\n",
       "      <td>4.2</td>\n",
       "      <td>May 21, 2010</td>\n",
       "    </tr>\n",
       "  </tbody>\n",
       "</table>\n",
       "</div>"
      ],
      "text/plain": [
       "                             App    Installs   Reviews  Rating  \\\n",
       "Year                                                             \n",
       "2018                    Facebook  1000000000  78158306     4.1   \n",
       "2017          Geometry Dash Lite   100000000   6181640     4.5   \n",
       "2016                      Vector   100000000   3058687     4.4   \n",
       "2015                   Smash Hit   100000000   4147718     4.5   \n",
       "2014   FRONTLINE COMMANDO: D-DAY    10000000   1736105     4.5   \n",
       "2013          FRONTLINE COMMANDO    10000000   1351833     4.4   \n",
       "2012  Aviary Stickers: Free Pack    10000000    126862     3.5   \n",
       "2011    CONTRACT KILLER: ZOMBIES     5000000    144545     4.4   \n",
       "2010   FML F*ck my life + widget      100000      1415     4.2   \n",
       "\n",
       "           Last Updated  \n",
       "Year                     \n",
       "2018     August 3, 2018  \n",
       "2017  December 22, 2017  \n",
       "2016      July 18, 2016  \n",
       "2015  November 26, 2015  \n",
       "2014       May 16, 2014  \n",
       "2013   October 28, 2013  \n",
       "2012   January 17, 2012  \n",
       "2011   December 1, 2011  \n",
       "2010       May 21, 2010  "
      ]
     },
     "execution_count": 56,
     "metadata": {},
     "output_type": "execute_result"
    }
   ],
   "source": [
    "year_grp=app_year.sort_values(['Reviews','Installs'],ascending=False).groupby('Year')\n",
    "year_grp.first().sort_index(ascending=False)"
   ]
  },
  {
   "cell_type": "markdown",
   "id": "c91f8f35",
   "metadata": {},
   "source": [
    "## Prediction Model"
   ]
  },
  {
   "cell_type": "markdown",
   "id": "7d22572a",
   "metadata": {},
   "source": [
    "### PreProcessing"
   ]
  },
  {
   "cell_type": "code",
   "execution_count": 57,
   "id": "d1fc1429",
   "metadata": {},
   "outputs": [],
   "source": [
    "from sklearn.preprocessing import LabelEncoder"
   ]
  },
  {
   "cell_type": "code",
   "execution_count": 58,
   "id": "ba34a567",
   "metadata": {},
   "outputs": [],
   "source": [
    "required_data=df[['App', 'Category', 'Reviews', 'Installs','Price', 'Content Rating','Value', 'Unit','Genres']]\n",
    "target=df['Rating']\n",
    "target.index=df['App']"
   ]
  },
  {
   "cell_type": "code",
   "execution_count": 59,
   "id": "cc1602fd",
   "metadata": {},
   "outputs": [
    {
     "name": "stderr",
     "output_type": "stream",
     "text": [
      "<ipython-input-59-56c2b66380dc>:1: SettingWithCopyWarning: \n",
      "A value is trying to be set on a copy of a slice from a DataFrame.\n",
      "Try using .loc[row_indexer,col_indexer] = value instead\n",
      "\n",
      "See the caveats in the documentation: https://pandas.pydata.org/pandas-docs/stable/user_guide/indexing.html#returning-a-view-versus-a-copy\n",
      "  required_data['Year']=df['Last Updated'].apply(lambda a : a[-4:])\n",
      "<ipython-input-59-56c2b66380dc>:2: SettingWithCopyWarning: \n",
      "A value is trying to be set on a copy of a slice from a DataFrame.\n",
      "Try using .loc[row_indexer,col_indexer] = value instead\n",
      "\n",
      "See the caveats in the documentation: https://pandas.pydata.org/pandas-docs/stable/user_guide/indexing.html#returning-a-view-versus-a-copy\n",
      "  required_data['Year']=required_data['Year'].astype(int)\n"
     ]
    }
   ],
   "source": [
    "required_data['Year']=df['Last Updated'].apply(lambda a : a[-4:])\n",
    "required_data['Year']=required_data['Year'].astype(int)"
   ]
  },
  {
   "cell_type": "code",
   "execution_count": 60,
   "id": "ec528d29",
   "metadata": {},
   "outputs": [
    {
     "data": {
      "text/html": [
       "<div>\n",
       "<style scoped>\n",
       "    .dataframe tbody tr th:only-of-type {\n",
       "        vertical-align: middle;\n",
       "    }\n",
       "\n",
       "    .dataframe tbody tr th {\n",
       "        vertical-align: top;\n",
       "    }\n",
       "\n",
       "    .dataframe thead th {\n",
       "        text-align: right;\n",
       "    }\n",
       "</style>\n",
       "<table border=\"1\" class=\"dataframe\">\n",
       "  <thead>\n",
       "    <tr style=\"text-align: right;\">\n",
       "      <th></th>\n",
       "      <th>Category</th>\n",
       "      <th>Reviews</th>\n",
       "      <th>Installs</th>\n",
       "      <th>Price</th>\n",
       "      <th>Content Rating</th>\n",
       "      <th>Value</th>\n",
       "      <th>Unit</th>\n",
       "      <th>Genres</th>\n",
       "      <th>Year</th>\n",
       "    </tr>\n",
       "    <tr>\n",
       "      <th>App</th>\n",
       "      <th></th>\n",
       "      <th></th>\n",
       "      <th></th>\n",
       "      <th></th>\n",
       "      <th></th>\n",
       "      <th></th>\n",
       "      <th></th>\n",
       "      <th></th>\n",
       "      <th></th>\n",
       "    </tr>\n",
       "  </thead>\n",
       "  <tbody>\n",
       "    <tr>\n",
       "      <th>Photo Editor &amp; Candy Camera &amp; Grid &amp; ScrapBook</th>\n",
       "      <td>ART_AND_DESIGN</td>\n",
       "      <td>159</td>\n",
       "      <td>10000</td>\n",
       "      <td>0.0</td>\n",
       "      <td>Everyone</td>\n",
       "      <td>19.0</td>\n",
       "      <td>M</td>\n",
       "      <td>Art &amp; Design</td>\n",
       "      <td>2018</td>\n",
       "    </tr>\n",
       "    <tr>\n",
       "      <th>Coloring book moana</th>\n",
       "      <td>ART_AND_DESIGN</td>\n",
       "      <td>967</td>\n",
       "      <td>500000</td>\n",
       "      <td>0.0</td>\n",
       "      <td>Everyone</td>\n",
       "      <td>14.0</td>\n",
       "      <td>M</td>\n",
       "      <td>Art &amp; Design;Pretend Play</td>\n",
       "      <td>2018</td>\n",
       "    </tr>\n",
       "    <tr>\n",
       "      <th>U Launcher Lite – FREE Live Cool Themes, Hide Apps</th>\n",
       "      <td>ART_AND_DESIGN</td>\n",
       "      <td>87510</td>\n",
       "      <td>5000000</td>\n",
       "      <td>0.0</td>\n",
       "      <td>Everyone</td>\n",
       "      <td>8.7</td>\n",
       "      <td>M</td>\n",
       "      <td>Art &amp; Design</td>\n",
       "      <td>2018</td>\n",
       "    </tr>\n",
       "    <tr>\n",
       "      <th>Sketch - Draw &amp; Paint</th>\n",
       "      <td>ART_AND_DESIGN</td>\n",
       "      <td>215644</td>\n",
       "      <td>50000000</td>\n",
       "      <td>0.0</td>\n",
       "      <td>Teen</td>\n",
       "      <td>25.0</td>\n",
       "      <td>M</td>\n",
       "      <td>Art &amp; Design</td>\n",
       "      <td>2018</td>\n",
       "    </tr>\n",
       "    <tr>\n",
       "      <th>Pixel Draw - Number Art Coloring Book</th>\n",
       "      <td>ART_AND_DESIGN</td>\n",
       "      <td>967</td>\n",
       "      <td>100000</td>\n",
       "      <td>0.0</td>\n",
       "      <td>Everyone</td>\n",
       "      <td>2.8</td>\n",
       "      <td>M</td>\n",
       "      <td>Art &amp; Design;Creativity</td>\n",
       "      <td>2018</td>\n",
       "    </tr>\n",
       "  </tbody>\n",
       "</table>\n",
       "</div>"
      ],
      "text/plain": [
       "                                                          Category  Reviews  \\\n",
       "App                                                                           \n",
       "Photo Editor & Candy Camera & Grid & ScrapBook      ART_AND_DESIGN      159   \n",
       "Coloring book moana                                 ART_AND_DESIGN      967   \n",
       "U Launcher Lite – FREE Live Cool Themes, Hide Apps  ART_AND_DESIGN    87510   \n",
       "Sketch - Draw & Paint                               ART_AND_DESIGN   215644   \n",
       "Pixel Draw - Number Art Coloring Book               ART_AND_DESIGN      967   \n",
       "\n",
       "                                                    Installs  Price  \\\n",
       "App                                                                   \n",
       "Photo Editor & Candy Camera & Grid & ScrapBook         10000    0.0   \n",
       "Coloring book moana                                   500000    0.0   \n",
       "U Launcher Lite – FREE Live Cool Themes, Hide Apps   5000000    0.0   \n",
       "Sketch - Draw & Paint                               50000000    0.0   \n",
       "Pixel Draw - Number Art Coloring Book                 100000    0.0   \n",
       "\n",
       "                                                   Content Rating  Value Unit  \\\n",
       "App                                                                             \n",
       "Photo Editor & Candy Camera & Grid & ScrapBook           Everyone   19.0    M   \n",
       "Coloring book moana                                      Everyone   14.0    M   \n",
       "U Launcher Lite – FREE Live Cool Themes, Hide Apps       Everyone    8.7    M   \n",
       "Sketch - Draw & Paint                                        Teen   25.0    M   \n",
       "Pixel Draw - Number Art Coloring Book                    Everyone    2.8    M   \n",
       "\n",
       "                                                                       Genres  \\\n",
       "App                                                                             \n",
       "Photo Editor & Candy Camera & Grid & ScrapBook                   Art & Design   \n",
       "Coloring book moana                                 Art & Design;Pretend Play   \n",
       "U Launcher Lite – FREE Live Cool Themes, Hide Apps               Art & Design   \n",
       "Sketch - Draw & Paint                                            Art & Design   \n",
       "Pixel Draw - Number Art Coloring Book                 Art & Design;Creativity   \n",
       "\n",
       "                                                    Year  \n",
       "App                                                       \n",
       "Photo Editor & Candy Camera & Grid & ScrapBook      2018  \n",
       "Coloring book moana                                 2018  \n",
       "U Launcher Lite – FREE Live Cool Themes, Hide Apps  2018  \n",
       "Sketch - Draw & Paint                               2018  \n",
       "Pixel Draw - Number Art Coloring Book               2018  "
      ]
     },
     "execution_count": 60,
     "metadata": {},
     "output_type": "execute_result"
    }
   ],
   "source": [
    "required_data.set_index('App',inplace=True)\n",
    "required_data.head()"
   ]
  },
  {
   "cell_type": "code",
   "execution_count": 61,
   "id": "57b0884e",
   "metadata": {},
   "outputs": [
    {
     "name": "stdout",
     "output_type": "stream",
     "text": [
      "<class 'pandas.core.frame.DataFrame'>\n",
      "Index: 10841 entries, Photo Editor & Candy Camera & Grid & ScrapBook to iHoroscope - 2018 Daily Horoscope & Astrology\n",
      "Data columns (total 9 columns):\n",
      " #   Column          Non-Null Count  Dtype  \n",
      "---  ------          --------------  -----  \n",
      " 0   Category        10841 non-null  object \n",
      " 1   Reviews         10841 non-null  int32  \n",
      " 2   Installs        10841 non-null  int32  \n",
      " 3   Price           10841 non-null  float64\n",
      " 4   Content Rating  10841 non-null  object \n",
      " 5   Value           10841 non-null  float64\n",
      " 6   Unit            10841 non-null  object \n",
      " 7   Genres          10841 non-null  object \n",
      " 8   Year            10841 non-null  int32  \n",
      "dtypes: float64(2), int32(3), object(4)\n",
      "memory usage: 719.9+ KB\n"
     ]
    }
   ],
   "source": [
    "required_data.info()"
   ]
  },
  {
   "cell_type": "code",
   "execution_count": 62,
   "id": "a3cd34b4",
   "metadata": {},
   "outputs": [],
   "source": [
    "required_data=pd.get_dummies(required_data,columns=['Unit'],drop_first=True)"
   ]
  },
  {
   "cell_type": "code",
   "execution_count": 63,
   "id": "7a0bb910",
   "metadata": {},
   "outputs": [],
   "source": [
    "LE=LabelEncoder()\n",
    "LE.fit(required_data['Content Rating'])\n",
    "required_data['Content Rating']=LE.transform(required_data['Content Rating'])"
   ]
  },
  {
   "cell_type": "code",
   "execution_count": 64,
   "id": "4dd6d0eb",
   "metadata": {},
   "outputs": [],
   "source": [
    "LE.fit(required_data['Category'])\n",
    "required_data['Category']=LE.transform(required_data['Category'])"
   ]
  },
  {
   "cell_type": "code",
   "execution_count": 65,
   "id": "61a3a032",
   "metadata": {},
   "outputs": [],
   "source": [
    "LE.fit(required_data['Genres'])\n",
    "required_data['Genres']=LE.transform(required_data['Genres'])"
   ]
  },
  {
   "cell_type": "code",
   "execution_count": 66,
   "id": "cb262c49",
   "metadata": {},
   "outputs": [
    {
     "data": {
      "text/html": [
       "<div>\n",
       "<style scoped>\n",
       "    .dataframe tbody tr th:only-of-type {\n",
       "        vertical-align: middle;\n",
       "    }\n",
       "\n",
       "    .dataframe tbody tr th {\n",
       "        vertical-align: top;\n",
       "    }\n",
       "\n",
       "    .dataframe thead th {\n",
       "        text-align: right;\n",
       "    }\n",
       "</style>\n",
       "<table border=\"1\" class=\"dataframe\">\n",
       "  <thead>\n",
       "    <tr style=\"text-align: right;\">\n",
       "      <th></th>\n",
       "      <th>Category</th>\n",
       "      <th>Reviews</th>\n",
       "      <th>Installs</th>\n",
       "      <th>Price</th>\n",
       "      <th>Content Rating</th>\n",
       "      <th>Value</th>\n",
       "      <th>Genres</th>\n",
       "      <th>Year</th>\n",
       "      <th>Unit_k</th>\n",
       "    </tr>\n",
       "    <tr>\n",
       "      <th>App</th>\n",
       "      <th></th>\n",
       "      <th></th>\n",
       "      <th></th>\n",
       "      <th></th>\n",
       "      <th></th>\n",
       "      <th></th>\n",
       "      <th></th>\n",
       "      <th></th>\n",
       "      <th></th>\n",
       "    </tr>\n",
       "  </thead>\n",
       "  <tbody>\n",
       "    <tr>\n",
       "      <th>Photo Editor &amp; Candy Camera &amp; Grid &amp; ScrapBook</th>\n",
       "      <td>0</td>\n",
       "      <td>159</td>\n",
       "      <td>10000</td>\n",
       "      <td>0.0</td>\n",
       "      <td>1</td>\n",
       "      <td>19.0</td>\n",
       "      <td>9</td>\n",
       "      <td>2018</td>\n",
       "      <td>0</td>\n",
       "    </tr>\n",
       "    <tr>\n",
       "      <th>Coloring book moana</th>\n",
       "      <td>0</td>\n",
       "      <td>967</td>\n",
       "      <td>500000</td>\n",
       "      <td>0.0</td>\n",
       "      <td>1</td>\n",
       "      <td>14.0</td>\n",
       "      <td>12</td>\n",
       "      <td>2018</td>\n",
       "      <td>0</td>\n",
       "    </tr>\n",
       "    <tr>\n",
       "      <th>U Launcher Lite – FREE Live Cool Themes, Hide Apps</th>\n",
       "      <td>0</td>\n",
       "      <td>87510</td>\n",
       "      <td>5000000</td>\n",
       "      <td>0.0</td>\n",
       "      <td>1</td>\n",
       "      <td>8.7</td>\n",
       "      <td>9</td>\n",
       "      <td>2018</td>\n",
       "      <td>0</td>\n",
       "    </tr>\n",
       "    <tr>\n",
       "      <th>Sketch - Draw &amp; Paint</th>\n",
       "      <td>0</td>\n",
       "      <td>215644</td>\n",
       "      <td>50000000</td>\n",
       "      <td>0.0</td>\n",
       "      <td>4</td>\n",
       "      <td>25.0</td>\n",
       "      <td>9</td>\n",
       "      <td>2018</td>\n",
       "      <td>0</td>\n",
       "    </tr>\n",
       "    <tr>\n",
       "      <th>Pixel Draw - Number Art Coloring Book</th>\n",
       "      <td>0</td>\n",
       "      <td>967</td>\n",
       "      <td>100000</td>\n",
       "      <td>0.0</td>\n",
       "      <td>1</td>\n",
       "      <td>2.8</td>\n",
       "      <td>11</td>\n",
       "      <td>2018</td>\n",
       "      <td>0</td>\n",
       "    </tr>\n",
       "  </tbody>\n",
       "</table>\n",
       "</div>"
      ],
      "text/plain": [
       "                                                    Category  Reviews  \\\n",
       "App                                                                     \n",
       "Photo Editor & Candy Camera & Grid & ScrapBook             0      159   \n",
       "Coloring book moana                                        0      967   \n",
       "U Launcher Lite – FREE Live Cool Themes, Hide Apps         0    87510   \n",
       "Sketch - Draw & Paint                                      0   215644   \n",
       "Pixel Draw - Number Art Coloring Book                      0      967   \n",
       "\n",
       "                                                    Installs  Price  \\\n",
       "App                                                                   \n",
       "Photo Editor & Candy Camera & Grid & ScrapBook         10000    0.0   \n",
       "Coloring book moana                                   500000    0.0   \n",
       "U Launcher Lite – FREE Live Cool Themes, Hide Apps   5000000    0.0   \n",
       "Sketch - Draw & Paint                               50000000    0.0   \n",
       "Pixel Draw - Number Art Coloring Book                 100000    0.0   \n",
       "\n",
       "                                                    Content Rating  Value  \\\n",
       "App                                                                         \n",
       "Photo Editor & Candy Camera & Grid & ScrapBook                   1   19.0   \n",
       "Coloring book moana                                              1   14.0   \n",
       "U Launcher Lite – FREE Live Cool Themes, Hide Apps               1    8.7   \n",
       "Sketch - Draw & Paint                                            4   25.0   \n",
       "Pixel Draw - Number Art Coloring Book                            1    2.8   \n",
       "\n",
       "                                                    Genres  Year  Unit_k  \n",
       "App                                                                       \n",
       "Photo Editor & Candy Camera & Grid & ScrapBook           9  2018       0  \n",
       "Coloring book moana                                     12  2018       0  \n",
       "U Launcher Lite – FREE Live Cool Themes, Hide Apps       9  2018       0  \n",
       "Sketch - Draw & Paint                                    9  2018       0  \n",
       "Pixel Draw - Number Art Coloring Book                   11  2018       0  "
      ]
     },
     "execution_count": 66,
     "metadata": {},
     "output_type": "execute_result"
    }
   ],
   "source": [
    "required_data.head()"
   ]
  },
  {
   "cell_type": "code",
   "execution_count": 67,
   "id": "cb820ddb",
   "metadata": {},
   "outputs": [
    {
     "name": "stdout",
     "output_type": "stream",
     "text": [
      "<class 'pandas.core.frame.DataFrame'>\n",
      "Index: 10841 entries, Photo Editor & Candy Camera & Grid & ScrapBook to iHoroscope - 2018 Daily Horoscope & Astrology\n",
      "Data columns (total 9 columns):\n",
      " #   Column          Non-Null Count  Dtype  \n",
      "---  ------          --------------  -----  \n",
      " 0   Category        10841 non-null  int32  \n",
      " 1   Reviews         10841 non-null  int32  \n",
      " 2   Installs        10841 non-null  int32  \n",
      " 3   Price           10841 non-null  float64\n",
      " 4   Content Rating  10841 non-null  int32  \n",
      " 5   Value           10841 non-null  float64\n",
      " 6   Genres          10841 non-null  int32  \n",
      " 7   Year            10841 non-null  int32  \n",
      " 8   Unit_k          10841 non-null  uint8  \n",
      "dtypes: float64(2), int32(6), uint8(1)\n",
      "memory usage: 518.8+ KB\n"
     ]
    }
   ],
   "source": [
    "required_data.info()"
   ]
  },
  {
   "cell_type": "code",
   "execution_count": 68,
   "id": "c5d4cd60",
   "metadata": {},
   "outputs": [
    {
     "data": {
      "text/plain": [
       "(10841, 9)"
      ]
     },
     "execution_count": 68,
     "metadata": {},
     "output_type": "execute_result"
    }
   ],
   "source": [
    "required_data.shape"
   ]
  },
  {
   "cell_type": "markdown",
   "id": "0e36221a",
   "metadata": {},
   "source": [
    "### Model creation and prediction"
   ]
  },
  {
   "cell_type": "code",
   "execution_count": 69,
   "id": "f5d127f5",
   "metadata": {},
   "outputs": [],
   "source": [
    "from sklearn.preprocessing import StandardScaler\n",
    "from sklearn.model_selection import train_test_split\n",
    "from sklearn.linear_model import LinearRegression, Lasso\n",
    "from sklearn.metrics import mean_squared_error"
   ]
  },
  {
   "cell_type": "code",
   "execution_count": 70,
   "id": "1f18c7ee",
   "metadata": {},
   "outputs": [],
   "source": [
    "sc=StandardScaler()\n",
    "sc.fit(required_data)\n",
    "required_data_sc=sc.transform(required_data)"
   ]
  },
  {
   "cell_type": "code",
   "execution_count": 71,
   "id": "86870c6c",
   "metadata": {},
   "outputs": [],
   "source": [
    "X_train, X_test, y_train, y_test = train_test_split(required_data_sc, target, test_size=0.3)"
   ]
  },
  {
   "cell_type": "code",
   "execution_count": 72,
   "id": "ebc119e6",
   "metadata": {},
   "outputs": [
    {
     "data": {
      "text/html": [
       "<div>\n",
       "<style scoped>\n",
       "    .dataframe tbody tr th:only-of-type {\n",
       "        vertical-align: middle;\n",
       "    }\n",
       "\n",
       "    .dataframe tbody tr th {\n",
       "        vertical-align: top;\n",
       "    }\n",
       "\n",
       "    .dataframe thead th {\n",
       "        text-align: right;\n",
       "    }\n",
       "</style>\n",
       "<table border=\"1\" class=\"dataframe\">\n",
       "  <thead>\n",
       "    <tr style=\"text-align: right;\">\n",
       "      <th></th>\n",
       "      <th>Rating</th>\n",
       "    </tr>\n",
       "    <tr>\n",
       "      <th>App</th>\n",
       "      <th></th>\n",
       "    </tr>\n",
       "  </thead>\n",
       "  <tbody>\n",
       "    <tr>\n",
       "      <th>I Am Rich Pro</th>\n",
       "      <td>4.4</td>\n",
       "    </tr>\n",
       "    <tr>\n",
       "      <th>PlugShare</th>\n",
       "      <td>4.7</td>\n",
       "    </tr>\n",
       "    <tr>\n",
       "      <th>FINAL FANTASY BRAVE EXVIUS</th>\n",
       "      <td>4.6</td>\n",
       "    </tr>\n",
       "    <tr>\n",
       "      <th>AU Results 2017 Auzone</th>\n",
       "      <td>3.8</td>\n",
       "    </tr>\n",
       "    <tr>\n",
       "      <th>Cisco Webex Teams</th>\n",
       "      <td>4.2</td>\n",
       "    </tr>\n",
       "  </tbody>\n",
       "</table>\n",
       "</div>"
      ],
      "text/plain": [
       "                            Rating\n",
       "App                               \n",
       "I Am Rich Pro                  4.4\n",
       "PlugShare                      4.7\n",
       "FINAL FANTASY BRAVE EXVIUS     4.6\n",
       "AU Results 2017 Auzone         3.8\n",
       "Cisco Webex Teams              4.2"
      ]
     },
     "execution_count": 72,
     "metadata": {},
     "output_type": "execute_result"
    }
   ],
   "source": [
    "prediction=pd.DataFrame(y_test)\n",
    "prediction.head()"
   ]
  },
  {
   "cell_type": "code",
   "execution_count": 73,
   "id": "6c10e6ee",
   "metadata": {},
   "outputs": [
    {
     "data": {
      "text/plain": [
       "LinearRegression()"
      ]
     },
     "execution_count": 73,
     "metadata": {},
     "output_type": "execute_result"
    }
   ],
   "source": [
    "LR=LinearRegression()\n",
    "LR.fit(X_train,y_train)"
   ]
  },
  {
   "cell_type": "code",
   "execution_count": 74,
   "id": "064ee268",
   "metadata": {},
   "outputs": [],
   "source": [
    "prediction['Linear_R']=LR.predict(X_test)\n",
    "prediction['Linear_R']=round(prediction['Linear_R'],1)"
   ]
  },
  {
   "cell_type": "code",
   "execution_count": 75,
   "id": "f484bf61",
   "metadata": {},
   "outputs": [
    {
     "name": "stdout",
     "output_type": "stream",
     "text": [
      "0.480562868052277\n"
     ]
    }
   ],
   "source": [
    "print(np.sqrt(mean_squared_error(prediction['Rating'],prediction['Linear_R'])))"
   ]
  },
  {
   "cell_type": "code",
   "execution_count": 76,
   "id": "b657d6f8",
   "metadata": {},
   "outputs": [
    {
     "data": {
      "text/plain": [
       "Lasso()"
      ]
     },
     "execution_count": 76,
     "metadata": {},
     "output_type": "execute_result"
    }
   ],
   "source": [
    "lasso=Lasso()\n",
    "lasso.fit(X_train,y_train)"
   ]
  },
  {
   "cell_type": "code",
   "execution_count": 77,
   "id": "ba267685",
   "metadata": {},
   "outputs": [],
   "source": [
    "prediction['Lasso']=lasso.predict(X_test)\n",
    "prediction['Lasso']=round(prediction['Lasso'],1)"
   ]
  },
  {
   "cell_type": "code",
   "execution_count": 78,
   "id": "9687d673",
   "metadata": {},
   "outputs": [
    {
     "name": "stdout",
     "output_type": "stream",
     "text": [
      "0.4836649204798684\n"
     ]
    }
   ],
   "source": [
    "print(np.sqrt(mean_squared_error(prediction['Rating'],prediction['Lasso'])))"
   ]
  },
  {
   "cell_type": "code",
   "execution_count": 79,
   "id": "30f29959",
   "metadata": {},
   "outputs": [
    {
     "data": {
      "text/html": [
       "<div>\n",
       "<style scoped>\n",
       "    .dataframe tbody tr th:only-of-type {\n",
       "        vertical-align: middle;\n",
       "    }\n",
       "\n",
       "    .dataframe tbody tr th {\n",
       "        vertical-align: top;\n",
       "    }\n",
       "\n",
       "    .dataframe thead th {\n",
       "        text-align: right;\n",
       "    }\n",
       "</style>\n",
       "<table border=\"1\" class=\"dataframe\">\n",
       "  <thead>\n",
       "    <tr style=\"text-align: right;\">\n",
       "      <th></th>\n",
       "      <th>Rating</th>\n",
       "      <th>Linear_R</th>\n",
       "      <th>Lasso</th>\n",
       "    </tr>\n",
       "    <tr>\n",
       "      <th>App</th>\n",
       "      <th></th>\n",
       "      <th></th>\n",
       "      <th></th>\n",
       "    </tr>\n",
       "  </thead>\n",
       "  <tbody>\n",
       "    <tr>\n",
       "      <th>I Am Rich Pro</th>\n",
       "      <td>4.4</td>\n",
       "      <td>4.0</td>\n",
       "      <td>4.2</td>\n",
       "    </tr>\n",
       "    <tr>\n",
       "      <th>PlugShare</th>\n",
       "      <td>4.7</td>\n",
       "      <td>4.2</td>\n",
       "      <td>4.2</td>\n",
       "    </tr>\n",
       "    <tr>\n",
       "      <th>FINAL FANTASY BRAVE EXVIUS</th>\n",
       "      <td>4.6</td>\n",
       "      <td>4.2</td>\n",
       "      <td>4.2</td>\n",
       "    </tr>\n",
       "    <tr>\n",
       "      <th>AU Results 2017 Auzone</th>\n",
       "      <td>3.8</td>\n",
       "      <td>4.2</td>\n",
       "      <td>4.2</td>\n",
       "    </tr>\n",
       "    <tr>\n",
       "      <th>Cisco Webex Teams</th>\n",
       "      <td>4.2</td>\n",
       "      <td>4.3</td>\n",
       "      <td>4.2</td>\n",
       "    </tr>\n",
       "    <tr>\n",
       "      <th>Pick-a-Paint</th>\n",
       "      <td>1.6</td>\n",
       "      <td>4.3</td>\n",
       "      <td>4.2</td>\n",
       "    </tr>\n",
       "    <tr>\n",
       "      <th>DF 司機</th>\n",
       "      <td>4.2</td>\n",
       "      <td>4.2</td>\n",
       "      <td>4.2</td>\n",
       "    </tr>\n",
       "    <tr>\n",
       "      <th>BD All Results</th>\n",
       "      <td>4.1</td>\n",
       "      <td>4.2</td>\n",
       "      <td>4.2</td>\n",
       "    </tr>\n",
       "    <tr>\n",
       "      <th>DV-2019 UK/British</th>\n",
       "      <td>4.6</td>\n",
       "      <td>4.3</td>\n",
       "      <td>4.2</td>\n",
       "    </tr>\n",
       "    <tr>\n",
       "      <th>Hole.io</th>\n",
       "      <td>4.2</td>\n",
       "      <td>4.3</td>\n",
       "      <td>4.2</td>\n",
       "    </tr>\n",
       "  </tbody>\n",
       "</table>\n",
       "</div>"
      ],
      "text/plain": [
       "                            Rating  Linear_R  Lasso\n",
       "App                                                \n",
       "I Am Rich Pro                  4.4       4.0    4.2\n",
       "PlugShare                      4.7       4.2    4.2\n",
       "FINAL FANTASY BRAVE EXVIUS     4.6       4.2    4.2\n",
       "AU Results 2017 Auzone         3.8       4.2    4.2\n",
       "Cisco Webex Teams              4.2       4.3    4.2\n",
       "Pick-a-Paint                   1.6       4.3    4.2\n",
       "DF 司機                          4.2       4.2    4.2\n",
       "BD All Results                 4.1       4.2    4.2\n",
       "DV-2019 UK/British             4.6       4.3    4.2\n",
       "Hole.io                        4.2       4.3    4.2"
      ]
     },
     "execution_count": 79,
     "metadata": {},
     "output_type": "execute_result"
    }
   ],
   "source": [
    "prediction.head(10)"
   ]
  },
  {
   "cell_type": "markdown",
   "id": "e44adc8c",
   "metadata": {},
   "source": [
    "## Recommendation System"
   ]
  },
  {
   "cell_type": "code",
   "execution_count": 80,
   "id": "11357622",
   "metadata": {},
   "outputs": [],
   "source": [
    "app_recom=df[(df['Installs']>1000) & (df['Reviews']>100)][['Category', 'Reviews','Rating', 'Installs','Price', 'Content Rating','Genres']]"
   ]
  },
  {
   "cell_type": "code",
   "execution_count": 81,
   "id": "4fd62f8b",
   "metadata": {},
   "outputs": [],
   "source": [
    "app_recom=pd.get_dummies(app_recom,columns=['Category','Content Rating','Genres'],prefix='',prefix_sep='')"
   ]
  },
  {
   "cell_type": "code",
   "execution_count": 82,
   "id": "235027c5",
   "metadata": {},
   "outputs": [],
   "source": [
    "sc=StandardScaler()\n",
    "sc.fit(app_recom)\n",
    "app_recom=pd.DataFrame(sc.transform(app_recom))"
   ]
  },
  {
   "cell_type": "code",
   "execution_count": 83,
   "id": "3f7f5e80",
   "metadata": {},
   "outputs": [],
   "source": [
    "app_recom.index=df[(df['Installs']>1000) & (df['Reviews']>100)]['App']"
   ]
  },
  {
   "cell_type": "code",
   "execution_count": 84,
   "id": "8f45eb6e",
   "metadata": {},
   "outputs": [
    {
     "data": {
      "text/html": [
       "<div>\n",
       "<style scoped>\n",
       "    .dataframe tbody tr th:only-of-type {\n",
       "        vertical-align: middle;\n",
       "    }\n",
       "\n",
       "    .dataframe tbody tr th {\n",
       "        vertical-align: top;\n",
       "    }\n",
       "\n",
       "    .dataframe thead th {\n",
       "        text-align: right;\n",
       "    }\n",
       "</style>\n",
       "<table border=\"1\" class=\"dataframe\">\n",
       "  <thead>\n",
       "    <tr style=\"text-align: right;\">\n",
       "      <th>App</th>\n",
       "      <th>Photo Editor &amp; Candy Camera &amp; Grid &amp; ScrapBook</th>\n",
       "      <th>Coloring book moana</th>\n",
       "      <th>U Launcher Lite – FREE Live Cool Themes, Hide Apps</th>\n",
       "      <th>Sketch - Draw &amp; Paint</th>\n",
       "      <th>Pixel Draw - Number Art Coloring Book</th>\n",
       "      <th>Paper flowers instructions</th>\n",
       "      <th>Smoke Effect Photo Maker - Smoke Editor</th>\n",
       "      <th>Infinite Painter</th>\n",
       "      <th>Garden Coloring Book</th>\n",
       "      <th>Kids Paint Free - Drawing Fun</th>\n",
       "      <th>...</th>\n",
       "      <th>FR: My Secret Pets!</th>\n",
       "      <th>Golden Dictionary (FR-AR)</th>\n",
       "      <th>HTC Sense Input - FR</th>\n",
       "      <th>Frim: get new friends on local chat rooms</th>\n",
       "      <th>Fr Agnel Ambarnath</th>\n",
       "      <th>Manga-FR - Anime Vostfr</th>\n",
       "      <th>Bulgarian French Dictionary Fr</th>\n",
       "      <th>News Minecraft.fr</th>\n",
       "      <th>FR Tides</th>\n",
       "      <th>iHoroscope - 2018 Daily Horoscope &amp; Astrology</th>\n",
       "    </tr>\n",
       "  </thead>\n",
       "  <tbody>\n",
       "    <tr>\n",
       "      <th>0</th>\n",
       "      <td>-0.184793</td>\n",
       "      <td>-0.184564</td>\n",
       "      <td>-0.160037</td>\n",
       "      <td>-0.123723</td>\n",
       "      <td>-0.184564</td>\n",
       "      <td>-0.184791</td>\n",
       "      <td>-0.184787</td>\n",
       "      <td>-0.174404</td>\n",
       "      <td>-0.180929</td>\n",
       "      <td>-0.184804</td>\n",
       "      <td>...</td>\n",
       "      <td>-0.184615</td>\n",
       "      <td>-0.183201</td>\n",
       "      <td>-0.184587</td>\n",
       "      <td>-0.159760</td>\n",
       "      <td>-0.184805</td>\n",
       "      <td>-0.184755</td>\n",
       "      <td>-0.184667</td>\n",
       "      <td>-0.184588</td>\n",
       "      <td>-0.184499</td>\n",
       "      <td>-0.071955</td>\n",
       "    </tr>\n",
       "    <tr>\n",
       "      <th>1</th>\n",
       "      <td>-0.287279</td>\n",
       "      <td>-0.780692</td>\n",
       "      <td>1.192962</td>\n",
       "      <td>0.699548</td>\n",
       "      <td>0.206135</td>\n",
       "      <td>0.452842</td>\n",
       "      <td>-1.027399</td>\n",
       "      <td>-0.287279</td>\n",
       "      <td>0.452842</td>\n",
       "      <td>1.192962</td>\n",
       "      <td>...</td>\n",
       "      <td>-0.533985</td>\n",
       "      <td>-0.040572</td>\n",
       "      <td>-0.533985</td>\n",
       "      <td>-0.533985</td>\n",
       "      <td>-0.040572</td>\n",
       "      <td>-2.014226</td>\n",
       "      <td>0.946255</td>\n",
       "      <td>-1.027399</td>\n",
       "      <td>-1.027399</td>\n",
       "      <td>0.699548</td>\n",
       "    </tr>\n",
       "    <tr>\n",
       "      <th>2</th>\n",
       "      <td>-0.222001</td>\n",
       "      <td>-0.217208</td>\n",
       "      <td>-0.173191</td>\n",
       "      <td>0.266984</td>\n",
       "      <td>-0.221121</td>\n",
       "      <td>-0.221610</td>\n",
       "      <td>-0.221610</td>\n",
       "      <td>-0.212317</td>\n",
       "      <td>-0.212317</td>\n",
       "      <td>-0.222001</td>\n",
       "      <td>...</td>\n",
       "      <td>-0.221610</td>\n",
       "      <td>-0.217208</td>\n",
       "      <td>-0.221121</td>\n",
       "      <td>-0.173191</td>\n",
       "      <td>-0.222050</td>\n",
       "      <td>-0.222001</td>\n",
       "      <td>-0.222001</td>\n",
       "      <td>-0.221121</td>\n",
       "      <td>-0.221121</td>\n",
       "      <td>-0.124282</td>\n",
       "    </tr>\n",
       "    <tr>\n",
       "      <th>3</th>\n",
       "      <td>-0.050750</td>\n",
       "      <td>-0.050750</td>\n",
       "      <td>-0.050750</td>\n",
       "      <td>-0.050750</td>\n",
       "      <td>-0.050750</td>\n",
       "      <td>-0.050750</td>\n",
       "      <td>-0.050750</td>\n",
       "      <td>-0.050750</td>\n",
       "      <td>-0.050750</td>\n",
       "      <td>-0.050750</td>\n",
       "      <td>...</td>\n",
       "      <td>-0.050750</td>\n",
       "      <td>-0.050750</td>\n",
       "      <td>-0.050750</td>\n",
       "      <td>-0.050750</td>\n",
       "      <td>-0.050750</td>\n",
       "      <td>-0.050750</td>\n",
       "      <td>-0.050750</td>\n",
       "      <td>-0.050750</td>\n",
       "      <td>-0.050750</td>\n",
       "      <td>-0.050750</td>\n",
       "    </tr>\n",
       "    <tr>\n",
       "      <th>4</th>\n",
       "      <td>11.872722</td>\n",
       "      <td>11.872722</td>\n",
       "      <td>11.872722</td>\n",
       "      <td>11.872722</td>\n",
       "      <td>11.872722</td>\n",
       "      <td>11.872722</td>\n",
       "      <td>11.872722</td>\n",
       "      <td>11.872722</td>\n",
       "      <td>11.872722</td>\n",
       "      <td>11.872722</td>\n",
       "      <td>...</td>\n",
       "      <td>-0.084227</td>\n",
       "      <td>-0.084227</td>\n",
       "      <td>-0.084227</td>\n",
       "      <td>-0.084227</td>\n",
       "      <td>-0.084227</td>\n",
       "      <td>-0.084227</td>\n",
       "      <td>-0.084227</td>\n",
       "      <td>-0.084227</td>\n",
       "      <td>-0.084227</td>\n",
       "      <td>-0.084227</td>\n",
       "    </tr>\n",
       "  </tbody>\n",
       "</table>\n",
       "<p>5 rows × 7382 columns</p>\n",
       "</div>"
      ],
      "text/plain": [
       "App  Photo Editor & Candy Camera & Grid & ScrapBook  Coloring book moana  \\\n",
       "0                                         -0.184793            -0.184564   \n",
       "1                                         -0.287279            -0.780692   \n",
       "2                                         -0.222001            -0.217208   \n",
       "3                                         -0.050750            -0.050750   \n",
       "4                                         11.872722            11.872722   \n",
       "\n",
       "App  U Launcher Lite – FREE Live Cool Themes, Hide Apps  \\\n",
       "0                                            -0.160037    \n",
       "1                                             1.192962    \n",
       "2                                            -0.173191    \n",
       "3                                            -0.050750    \n",
       "4                                            11.872722    \n",
       "\n",
       "App  Sketch - Draw & Paint  Pixel Draw - Number Art Coloring Book  \\\n",
       "0                -0.123723                              -0.184564   \n",
       "1                 0.699548                               0.206135   \n",
       "2                 0.266984                              -0.221121   \n",
       "3                -0.050750                              -0.050750   \n",
       "4                11.872722                              11.872722   \n",
       "\n",
       "App  Paper flowers instructions  Smoke Effect Photo Maker - Smoke Editor  \\\n",
       "0                     -0.184791                                -0.184787   \n",
       "1                      0.452842                                -1.027399   \n",
       "2                     -0.221610                                -0.221610   \n",
       "3                     -0.050750                                -0.050750   \n",
       "4                     11.872722                                11.872722   \n",
       "\n",
       "App  Infinite Painter  Garden Coloring Book  Kids Paint Free - Drawing Fun  \\\n",
       "0           -0.174404             -0.180929                      -0.184804   \n",
       "1           -0.287279              0.452842                       1.192962   \n",
       "2           -0.212317             -0.212317                      -0.222001   \n",
       "3           -0.050750             -0.050750                      -0.050750   \n",
       "4           11.872722             11.872722                      11.872722   \n",
       "\n",
       "App  ...  FR: My Secret Pets!  Golden Dictionary (FR-AR)  \\\n",
       "0    ...            -0.184615                  -0.183201   \n",
       "1    ...            -0.533985                  -0.040572   \n",
       "2    ...            -0.221610                  -0.217208   \n",
       "3    ...            -0.050750                  -0.050750   \n",
       "4    ...            -0.084227                  -0.084227   \n",
       "\n",
       "App  HTC Sense Input - FR  Frim: get new friends on local chat rooms  \\\n",
       "0               -0.184587                                  -0.159760   \n",
       "1               -0.533985                                  -0.533985   \n",
       "2               -0.221121                                  -0.173191   \n",
       "3               -0.050750                                  -0.050750   \n",
       "4               -0.084227                                  -0.084227   \n",
       "\n",
       "App  Fr Agnel Ambarnath  Manga-FR - Anime Vostfr  \\\n",
       "0             -0.184805                -0.184755   \n",
       "1             -0.040572                -2.014226   \n",
       "2             -0.222050                -0.222001   \n",
       "3             -0.050750                -0.050750   \n",
       "4             -0.084227                -0.084227   \n",
       "\n",
       "App  Bulgarian French Dictionary Fr  News Minecraft.fr  FR Tides  \\\n",
       "0                         -0.184667          -0.184588 -0.184499   \n",
       "1                          0.946255          -1.027399 -1.027399   \n",
       "2                         -0.222001          -0.221121 -0.221121   \n",
       "3                         -0.050750          -0.050750 -0.050750   \n",
       "4                         -0.084227          -0.084227 -0.084227   \n",
       "\n",
       "App  iHoroscope - 2018 Daily Horoscope & Astrology  \n",
       "0                                        -0.071955  \n",
       "1                                         0.699548  \n",
       "2                                        -0.124282  \n",
       "3                                        -0.050750  \n",
       "4                                        -0.084227  \n",
       "\n",
       "[5 rows x 7382 columns]"
      ]
     },
     "execution_count": 84,
     "metadata": {},
     "output_type": "execute_result"
    }
   ],
   "source": [
    "app_recom=app_recom.T\n",
    "app_recom.head()"
   ]
  },
  {
   "cell_type": "code",
   "execution_count": 85,
   "id": "060474ba",
   "metadata": {},
   "outputs": [
    {
     "data": {
      "text/plain": [
       "(157, 7382)"
      ]
     },
     "execution_count": 85,
     "metadata": {},
     "output_type": "execute_result"
    }
   ],
   "source": [
    "app_recom.shape"
   ]
  },
  {
   "cell_type": "code",
   "execution_count": 86,
   "id": "bc6014a9",
   "metadata": {},
   "outputs": [],
   "source": [
    "for_app=app_recom['Do Not Crash']"
   ]
  },
  {
   "cell_type": "code",
   "execution_count": 87,
   "id": "2b525ccb",
   "metadata": {},
   "outputs": [
    {
     "data": {
      "text/html": [
       "<div>\n",
       "<style scoped>\n",
       "    .dataframe tbody tr th:only-of-type {\n",
       "        vertical-align: middle;\n",
       "    }\n",
       "\n",
       "    .dataframe tbody tr th {\n",
       "        vertical-align: top;\n",
       "    }\n",
       "\n",
       "    .dataframe thead th {\n",
       "        text-align: right;\n",
       "    }\n",
       "</style>\n",
       "<table border=\"1\" class=\"dataframe\">\n",
       "  <thead>\n",
       "    <tr style=\"text-align: right;\">\n",
       "      <th></th>\n",
       "      <th>Correlation</th>\n",
       "    </tr>\n",
       "    <tr>\n",
       "      <th>App</th>\n",
       "      <th></th>\n",
       "    </tr>\n",
       "  </thead>\n",
       "  <tbody>\n",
       "    <tr>\n",
       "      <th>Do Not Crash</th>\n",
       "      <td>1.000000</td>\n",
       "    </tr>\n",
       "    <tr>\n",
       "      <th>Egg: clicker</th>\n",
       "      <td>1.000000</td>\n",
       "    </tr>\n",
       "    <tr>\n",
       "      <th>Plastic Surgery Surgeon Simulator Er Doctor Games</th>\n",
       "      <td>0.999998</td>\n",
       "    </tr>\n",
       "    <tr>\n",
       "      <th>My Ex Girlfriend Comes Back</th>\n",
       "      <td>0.999998</td>\n",
       "    </tr>\n",
       "    <tr>\n",
       "      <th>SegPlay Mobile Paint by Number</th>\n",
       "      <td>0.999997</td>\n",
       "    </tr>\n",
       "    <tr>\n",
       "      <th>Hidden Object Florida Vacation Adventure Fun Game</th>\n",
       "      <td>0.999997</td>\n",
       "    </tr>\n",
       "    <tr>\n",
       "      <th>OMG Gross Zit - Date Nightmare</th>\n",
       "      <td>0.999931</td>\n",
       "    </tr>\n",
       "    <tr>\n",
       "      <th>King Burger Dash</th>\n",
       "      <td>0.999475</td>\n",
       "    </tr>\n",
       "    <tr>\n",
       "      <th>BJ-UFO</th>\n",
       "      <td>0.999475</td>\n",
       "    </tr>\n",
       "    <tr>\n",
       "      <th>Tamago Tap Clicker Egg</th>\n",
       "      <td>0.999475</td>\n",
       "    </tr>\n",
       "  </tbody>\n",
       "</table>\n",
       "</div>"
      ],
      "text/plain": [
       "                                                   Correlation\n",
       "App                                                           \n",
       "Do Not Crash                                          1.000000\n",
       "Egg: clicker                                          1.000000\n",
       "Plastic Surgery Surgeon Simulator Er Doctor Games     0.999998\n",
       "My Ex Girlfriend Comes Back                           0.999998\n",
       "SegPlay Mobile Paint by Number                        0.999997\n",
       "Hidden Object Florida Vacation Adventure Fun Game     0.999997\n",
       "OMG Gross Zit - Date Nightmare                        0.999931\n",
       "King Burger Dash                                      0.999475\n",
       "BJ-UFO                                                0.999475\n",
       "Tamago Tap Clicker Egg                                0.999475"
      ]
     },
     "execution_count": 87,
     "metadata": {},
     "output_type": "execute_result"
    }
   ],
   "source": [
    "recommend=pd.DataFrame(app_recom.corrwith(for_app),columns=['Correlation'])\n",
    "recommend.sort_values('Correlation',ascending=False).head(10)"
   ]
  }
 ],
 "metadata": {
  "kernelspec": {
   "display_name": "Python 3",
   "language": "python",
   "name": "python3"
  },
  "language_info": {
   "codemirror_mode": {
    "name": "ipython",
    "version": 3
   },
   "file_extension": ".py",
   "mimetype": "text/x-python",
   "name": "python",
   "nbconvert_exporter": "python",
   "pygments_lexer": "ipython3",
   "version": "3.8.8"
  }
 },
 "nbformat": 4,
 "nbformat_minor": 5
}
